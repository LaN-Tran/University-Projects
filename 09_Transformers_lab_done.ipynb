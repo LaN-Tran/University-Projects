{
  "nbformat": 4,
  "nbformat_minor": 0,
  "metadata": {
    "kernelspec": {
      "display_name": "Python 3",
      "language": "python",
      "name": "python3"
    },
    "language_info": {
      "codemirror_mode": {
        "name": "ipython",
        "version": 3
      },
      "file_extension": ".py",
      "mimetype": "text/x-python",
      "name": "python",
      "nbconvert_exporter": "python",
      "pygments_lexer": "ipython3",
      "version": "3.8.5"
    },
    "toc": {
      "base_numbering": 1,
      "nav_menu": {},
      "number_sections": true,
      "sideBar": true,
      "skip_h1_title": false,
      "title_cell": "Table of Contents",
      "title_sidebar": "Contents",
      "toc_cell": false,
      "toc_position": {
        "height": "calc(100% - 180px)",
        "left": "10px",
        "top": "150px",
        "width": "380.8px"
      },
      "toc_section_display": true,
      "toc_window_display": true
    },
    "colab": {
      "name": "09_Transformers_lab.ipynb",
      "provenance": [],
      "collapsed_sections": [],
      "toc_visible": true
    }
  },
  "cells": [
    {
      "cell_type": "markdown",
      "metadata": {
        "deletable": false,
        "editable": false,
        "nbgrader": {
          "cell_type": "markdown",
          "checksum": "44a7c6ce82be997c5ea9b294b89289a2",
          "grade": false,
          "grade_id": "cell-bf12d2c95f08882e",
          "locked": true,
          "schema_version": 3,
          "solution": false,
          "task": false
        },
        "id": "U77kYAyPVpr0"
      },
      "source": [
        "# Introduction to Python and Natural Language Technologies\n",
        "\n",
        "__Laboratory 09, Transformers__\n",
        "\n",
        "__April 14, 2020__\n",
        "\n",
        "The starter code in this notebook is the same as in Assignment 8. The number of training epochs is increased.\n",
        "\n",
        "Your task is to replace the model with a Transformer.\n",
        "\n",
        "Transformer is known to perform worse than LSTMs on small datasets so do not be alarmed when you see a drop in performance.\n",
        "\n",
        "If you successfully solved Assignment 8, you may start by replacing the starter code with your implementation.\n",
        "\n",
        "Passing level: Task 1, 2\n",
        "\n",
        "Extra level: Task 3, 4\n",
        "\n",
        "## Task 1 - Replace LSTMClassifier with a Transformer-based encoder without positional encoding and attention masking.\n",
        "\n",
        "We suggest reading this [tutorial](https://pytorch.org/tutorials/beginner/transformer_tutorial.html) first.\n",
        "The tutorial is for a sequence-to-sequence model which can be easily adapted to sequence classification.\n",
        "You can use the first output of the Transformer as the representation of the full word.\n",
        "\n",
        "Make sure that the Transformer parameters are not hardwired.\n",
        "\n",
        "Don't forget to rename the class since it's no longer an 'LSTM' classifier.\n",
        "\n",
        "Try out a few options for the Transformer parameters and summarize your findings in a few sentences in the following cell."
      ]
    },
    {
      "cell_type": "markdown",
      "metadata": {
        "deletable": false,
        "nbgrader": {
          "cell_type": "markdown",
          "checksum": "8c47eb3776c42d76884cbc0fe0475c0e",
          "grade": true,
          "grade_id": "cell-a7aa12d0e3a76681",
          "locked": false,
          "points": 0,
          "schema_version": 3,
          "solution": true,
          "task": false
        },
        "id": "VllenPw6Vpr8"
      },
      "source": [
        "##CODE: TASK 1:"
      ]
    },
    {
      "cell_type": "code",
      "metadata": {
        "id": "KyWIcvXAZ_cU"
      },
      "source": [
        "\n",
        "\n",
        "class TransformerModel(nn.Module):\n",
        "\n",
        "    def __init__(self, ntoken, ninp, nhead, nhid, nlayers, output_size, dropout=0.5):\n",
        "      super(TransformerModel, self).__init__()\n",
        "      from torch.nn import TransformerEncoder, TransformerEncoderLayer\n",
        "        \n",
        "      encoder_layers = TransformerEncoderLayer(d_model=ninp, nhead=nhead, dim_feedforward=nhid, dropout =dropout)\n",
        "      self.transformer_encoder = TransformerEncoder(encoder_layers, nlayers)\n",
        "\n",
        "      self.encoder = nn.Embedding(ntoken, ninp)\n",
        "      self.ninp = ninp\n",
        "\n",
        "      self.decoder = nn.Linear(ninp, output_size)\n",
        "      \n",
        "\n",
        "      self.init_weights()\n",
        "\n",
        "    def init_weights(self):\n",
        "        initrange = 0.1\n",
        "        self.encoder.weight.data.uniform_(-initrange, initrange)\n",
        "        self.decoder.bias.data.zero_()\n",
        "        self.decoder.weight.data.uniform_(-initrange, initrange)\n",
        "\n",
        "    def forward(self, src):\n",
        "\n",
        "      src = self.encoder(src)\n",
        "      print(f'src.shape ={src.shape}')\n",
        "      output = self.transformer_encoder(src)\n",
        "      output = self.decoder(output)\n",
        "      final_output= F.log_softmax(output, dim=-1) \n",
        "      return final_output[:,0,:]"
      ],
      "execution_count": 218,
      "outputs": []
    },
    {
      "cell_type": "code",
      "metadata": {
        "id": "9_QFEGq_dczT"
      },
      "source": [
        "'''\n",
        "input_size = len(vocab)\n",
        "embedding_size = 30\n",
        "hidden_size = 64\n",
        "output_size = train_df.label.nunique()\n",
        "\n",
        "model = LSTMClassifier(input_size, embedding_size, hidden_size, output_size)\n",
        "model\n",
        "'''"
      ],
      "execution_count": null,
      "outputs": []
    },
    {
      "cell_type": "code",
      "metadata": {
        "id": "by78-kbsat95"
      },
      "source": [
        "ntokens = len(vocab) # the size of vocabulary\n",
        "nip = 60 # embedding dimension = nip = embed_size = d_model\n",
        "nhid = 64 # the dimension of the feedforward network model in nn.TransformerEncoder\n",
        "nlayers = 2 # the number of nn.TransformerEncoderLayer in nn.TransformerEncoder\n",
        "nhead = 2 # the number of heads in the multiheadattention models\n",
        "dropout = 0.2 # the dropout value\n",
        "output_size= train_df.label.nunique()\n",
        "model = TransformerModel(ntokens, emsize, nhead, nhid, nlayers,output_size, dropout)"
      ],
      "execution_count": 219,
      "outputs": []
    },
    {
      "cell_type": "markdown",
      "metadata": {
        "id": "Lbr4_Yg2mgmo"
      },
      "source": [
        "**TESTING THE MODEL FOR TUNING:**"
      ]
    },
    {
      "cell_type": "code",
      "metadata": {
        "colab": {
          "base_uri": "https://localhost:8080/"
        },
        "id": "MWNyWoJJfFGX",
        "outputId": "9d6033a1-79fc-481e-ec87-daa62a24f67f"
      },
      "source": [
        "m = nn.LogSoftmax()\n",
        "#output = m(input)\n",
        "\n",
        "# check the dimension output: For tuning (changing) the sequence-to-sequence task to normal classification of the sequence task\n",
        "# batch_size = 128\n",
        "c=1\n",
        "for X_batch, seqlen_batch, y_batch in train_iter.iterate_once():\n",
        "        if c==1:\n",
        "          y_out = model(X_batch)\n",
        "\n",
        "          #t= y_out.view(-1, ntokens)\n",
        "          #print(t)\n",
        "          #print(t.shape)\n",
        "          #print(y_out)\n",
        "          print(y_out.shape)\n",
        "          print(type(y_out))\n",
        "          #print(m(y_out))\n",
        "          #print(y_out[0][0])\n",
        "        else:\n",
        "          break\n",
        "# output shape [batch_size, sequence_len, vocab size] => 1 token in the sequence is a vector of length 40 (= ntoken= vocab size)"
      ],
      "execution_count": 217,
      "outputs": [
        {
          "output_type": "stream",
          "text": [
            "src.shape =torch.Size([128, 48, 60])\n",
            "torch.Size([128, 48, 3])\n",
            "<class 'torch.Tensor'>\n",
            "src.shape =torch.Size([128, 48, 60])\n",
            "torch.Size([128, 48, 3])\n",
            "<class 'torch.Tensor'>\n",
            "src.shape =torch.Size([128, 48, 60])\n",
            "torch.Size([128, 48, 3])\n",
            "<class 'torch.Tensor'>\n",
            "src.shape =torch.Size([128, 48, 60])\n",
            "torch.Size([128, 48, 3])\n",
            "<class 'torch.Tensor'>\n",
            "src.shape =torch.Size([128, 48, 60])\n",
            "torch.Size([128, 48, 3])\n",
            "<class 'torch.Tensor'>\n",
            "src.shape =torch.Size([128, 48, 60])\n",
            "torch.Size([128, 48, 3])\n",
            "<class 'torch.Tensor'>\n",
            "src.shape =torch.Size([128, 48, 60])\n",
            "torch.Size([128, 48, 3])\n",
            "<class 'torch.Tensor'>\n",
            "src.shape =torch.Size([104, 48, 60])\n",
            "torch.Size([104, 48, 3])\n",
            "<class 'torch.Tensor'>\n"
          ],
          "name": "stdout"
        }
      ]
    },
    {
      "cell_type": "markdown",
      "metadata": {
        "deletable": false,
        "editable": false,
        "nbgrader": {
          "cell_type": "markdown",
          "checksum": "1a77c929cbebbe847e403f4a5c9e6da4",
          "grade": false,
          "grade_id": "cell-004d4bf68ee613e9",
          "locked": true,
          "schema_version": 3,
          "solution": false,
          "task": false
        },
        "id": "JoRJJaOFVpr8"
      },
      "source": [
        "## Task 2 - Positional encoding\n",
        "\n",
        "Add positional encoding to the Transformer. \n",
        "You can take inspiration from Lecture 9.\n",
        "\n",
        "Make the base of the positional encoding (10000) by default configurable.\n",
        "\n",
        "Try out a few options and summarize your findings in the following cell."
      ]
    },
    {
      "cell_type": "markdown",
      "metadata": {
        "deletable": false,
        "nbgrader": {
          "cell_type": "markdown",
          "checksum": "1ca440ac010e8a9378bd40328202461d",
          "grade": true,
          "grade_id": "cell-096d202c82100b14",
          "locked": false,
          "points": 0,
          "schema_version": 3,
          "solution": true,
          "task": false
        },
        "id": "QwAm0i6eVpr9"
      },
      "source": [
        "YOUR ANSWER HERE"
      ]
    },
    {
      "cell_type": "markdown",
      "metadata": {
        "deletable": false,
        "editable": false,
        "nbgrader": {
          "cell_type": "markdown",
          "checksum": "e75dee555dd574da05eb1929a0d51356",
          "grade": false,
          "grade_id": "cell-f252d069012d47aa",
          "locked": true,
          "schema_version": 3,
          "solution": false,
          "task": false
        },
        "id": "lnVC2d01Vpr9"
      },
      "source": [
        "## Task 3 - Attention masking\n",
        "\n",
        "The Transformer does not need to put any attention weight on PAD symbols.\n",
        "This can be done by supplying a mask to `TransformerEncoder`.\n",
        "\n",
        "Add this mask and summarize your findings in the following cell."
      ]
    },
    {
      "cell_type": "markdown",
      "metadata": {
        "deletable": false,
        "nbgrader": {
          "cell_type": "markdown",
          "checksum": "1bd097d7a55ee1101fff8d792137af4e",
          "grade": true,
          "grade_id": "cell-42ae5669a1e8cfa9",
          "locked": false,
          "points": 0,
          "schema_version": 3,
          "solution": true,
          "task": false
        },
        "id": "NzekoNdUVpr-"
      },
      "source": [
        "YOUR ANSWER HERE"
      ]
    },
    {
      "cell_type": "markdown",
      "metadata": {
        "deletable": false,
        "editable": false,
        "nbgrader": {
          "cell_type": "markdown",
          "checksum": "58797d8955403baa8095fa427e49c328",
          "grade": false,
          "grade_id": "cell-258a4fc7ddf91b6b",
          "locked": true,
          "schema_version": 3,
          "solution": false,
          "task": false
        },
        "id": "UFIRn-tDVpr-"
      },
      "source": [
        "## Task 4 - Training improvement\n",
        "\n",
        "Transformers are notoriously hard to train.\n",
        "\n",
        "Try to improve the training process.\n",
        "Here is an incomplete list of tricks that may improve the training process:\n",
        "- learning rate decay\n",
        "- different initialization\n",
        "- warm up.\n",
        "\n",
        "You are encouraged to find further tricks.\n",
        "\n",
        "Try at least two tricks and summarize your findings. It does not matter if they do not improve the accuracy of the classifier."
      ]
    },
    {
      "cell_type": "markdown",
      "metadata": {
        "deletable": false,
        "nbgrader": {
          "cell_type": "markdown",
          "checksum": "1c9c1a297b94aaed6216b7a8506a0244",
          "grade": true,
          "grade_id": "cell-0bf3db089cd6027a",
          "locked": false,
          "points": 0,
          "schema_version": 3,
          "solution": true,
          "task": false
        },
        "id": "7GZcDl1UVpr_"
      },
      "source": [
        "YOUR ANSWER HERE"
      ]
    },
    {
      "cell_type": "code",
      "metadata": {
        "id": "fvCw34A8VpsA"
      },
      "source": [
        "import pandas as pd\n",
        "import numpy as np\n",
        "import os\n",
        "import sys\n",
        "import subprocess\n",
        "import matplotlib.pyplot as plt\n",
        "import seaborn as sns\n",
        "\n",
        "from collections import defaultdict\n",
        "\n",
        "import torch\n",
        "import torch.nn as nn\n",
        "import torch.optim as optim"
      ],
      "execution_count": 1,
      "outputs": []
    },
    {
      "cell_type": "markdown",
      "metadata": {
        "id": "v665qUxyVpsB"
      },
      "source": [
        "# Cloning the data repository"
      ]
    },
    {
      "cell_type": "code",
      "metadata": {
        "colab": {
          "base_uri": "https://localhost:8080/"
        },
        "id": "LpiASUzpVpsB",
        "outputId": "133ef801-e546-472f-9eba-1cb62101cf48"
      },
      "source": [
        "language = \"hun\"\n",
        "unimorph_path = f\"data/unimorph_{language}/\"\n",
        "pipe = subprocess.Popen(f\"git clone https://github.com/unimorph/hun.git {unimorph_path}\",\n",
        "                        shell=True, stderr=subprocess.PIPE, stdout=subprocess.PIPE)\n",
        "stdout, stderr = pipe.communicate()\n",
        "print(stdout.decode('utf8'))\n",
        "print(stderr.decode('utf8'))"
      ],
      "execution_count": 3,
      "outputs": [
        {
          "output_type": "stream",
          "text": [
            "\n",
            "Cloning into 'data/unimorph_hun'...\n",
            "\n"
          ],
          "name": "stdout"
        }
      ]
    },
    {
      "cell_type": "markdown",
      "metadata": {
        "id": "RJfrLLvTVpsB"
      },
      "source": [
        "# Data loading"
      ]
    },
    {
      "cell_type": "code",
      "metadata": {
        "id": "jUNThrflVpsC"
      },
      "source": [
        "data = pd.read_table(f\"{unimorph_path}/{language}\", names=['lemma', 'infl', 'tags'], skip_blank_lines=True)"
      ],
      "execution_count": 4,
      "outputs": []
    },
    {
      "cell_type": "markdown",
      "metadata": {
        "id": "hT6YOKIHVpsC"
      },
      "source": [
        "# Target extraction"
      ]
    },
    {
      "cell_type": "code",
      "metadata": {
        "id": "BhH6a68WVpsC"
      },
      "source": [
        "def extract_target(tags_str):\n",
        "    \"\"\"Extracts target if present, returns None otherwise.\"\"\"\n",
        "    tags = tags_str.split(\";\")\n",
        "    if tags[0] != 'V':\n",
        "        return None\n",
        "    if len(tags) < 6:\n",
        "        return None\n",
        "    return tags[1]\n",
        " \n",
        "data['target'] = data.tags.apply(extract_target)"
      ],
      "execution_count": 5,
      "outputs": []
    },
    {
      "cell_type": "code",
      "metadata": {
        "id": "PMSuWQ6JVpsD"
      },
      "source": [
        "data = data[data.target.notnull()]"
      ],
      "execution_count": 6,
      "outputs": []
    },
    {
      "cell_type": "code",
      "metadata": {
        "colab": {
          "base_uri": "https://localhost:8080/"
        },
        "id": "2ZZx0ZlWVpsD",
        "outputId": "ed6506eb-cd17-4d6a-9e69-276329c376f2"
      },
      "source": [
        "data['target'].value_counts()"
      ],
      "execution_count": 7,
      "outputs": [
        {
          "output_type": "execute_result",
          "data": {
            "text/plain": [
              "IND     42784\n",
              "COND    21036\n",
              "SBJV    20986\n",
              "Name: target, dtype: int64"
            ]
          },
          "metadata": {
            "tags": []
          },
          "execution_count": 7
        }
      ]
    },
    {
      "cell_type": "markdown",
      "metadata": {
        "id": "9lFnpqzwVpsD"
      },
      "source": [
        "# Train/dev/test set creation\n",
        "\n",
        "We avoid lemma overlaps between the splits."
      ]
    },
    {
      "cell_type": "code",
      "metadata": {
        "colab": {
          "base_uri": "https://localhost:8080/"
        },
        "id": "n0oQGPcKVpsE",
        "outputId": "1ba799eb-1a46-4b72-fae2-d50e130c3230"
      },
      "source": [
        "lemmas = data.lemma.unique()\n",
        "len(lemmas), type(lemmas)"
      ],
      "execution_count": 8,
      "outputs": [
        {
          "output_type": "execute_result",
          "data": {
            "text/plain": [
              "(2109, numpy.ndarray)"
            ]
          },
          "metadata": {
            "tags": []
          },
          "execution_count": 8
        }
      ]
    },
    {
      "cell_type": "code",
      "metadata": {
        "id": "TutOYUtTVpsE"
      },
      "source": [
        "np.random.seed(12)\n",
        "np.random.shuffle(lemmas)\n",
        "train_size = int(0.8 * len(lemmas))\n",
        "dev_size = int(0.1 * len(lemmas))\n",
        "train_lemmas = lemmas[:train_size]\n",
        "dev_lemmas = lemmas[train_size:train_size+dev_size]\n",
        "test_lemmas = lemmas[train_size+dev_size:]\n",
        "\n",
        "train_lemmas = set(train_lemmas)\n",
        "dev_lemmas = set(dev_lemmas)\n",
        "test_lemmas = set(test_lemmas)"
      ],
      "execution_count": 9,
      "outputs": []
    },
    {
      "cell_type": "code",
      "metadata": {
        "colab": {
          "base_uri": "https://localhost:8080/"
        },
        "id": "ZVxp-CDHVpsE",
        "outputId": "7c0021f2-a764-4a8e-941f-a033b81a883b"
      },
      "source": [
        "train_df = data[data.lemma.isin(train_lemmas)]\n",
        "dev_df = data[data.lemma.isin(dev_lemmas)]\n",
        "test_df = data[data.lemma.isin(test_lemmas)]\n",
        "len(train_df), len(dev_df), len(test_df)"
      ],
      "execution_count": 10,
      "outputs": [
        {
          "output_type": "execute_result",
          "data": {
            "text/plain": [
              "(67665, 8447, 8694)"
            ]
          },
          "metadata": {
            "tags": []
          },
          "execution_count": 10
        }
      ]
    },
    {
      "cell_type": "code",
      "metadata": {
        "id": "TeddHG3dVpsF"
      },
      "source": [
        "train_df = train_df.sample(1000, random_state=1).reset_index(drop=True)\n",
        "dev_df = dev_df.sample(200, random_state=1).reset_index(drop=True)\n",
        "test_df = test_df.sample(200, random_state=1).reset_index(drop=True)"
      ],
      "execution_count": 11,
      "outputs": []
    },
    {
      "cell_type": "markdown",
      "metadata": {
        "id": "0ZBTzYkpVpsF"
      },
      "source": [
        "# Preprocessing"
      ]
    },
    {
      "cell_type": "code",
      "metadata": {
        "colab": {
          "base_uri": "https://localhost:8080/"
        },
        "id": "h3Fbv0vNVpsF",
        "outputId": "8a75173a-2cae-42ad-8a00-c06f8eed44b0"
      },
      "source": [
        "alphabet = set()\n",
        "for token in train_df.infl:\n",
        "    alphabet |= set(token)\n",
        "len(alphabet)"
      ],
      "execution_count": 12,
      "outputs": [
        {
          "output_type": "execute_result",
          "data": {
            "text/plain": [
              "36"
            ]
          },
          "metadata": {
            "tags": []
          },
          "execution_count": 12
        }
      ]
    },
    {
      "cell_type": "code",
      "metadata": {
        "id": "jjwM_Q69VpsF"
      },
      "source": [
        "alphabet.add('<PAD>')\n",
        "alphabet.add('<BOS>')\n",
        "alphabet.add('<EOS>')\n",
        "alphabet.add('<UNK>')"
      ],
      "execution_count": 13,
      "outputs": []
    },
    {
      "cell_type": "code",
      "metadata": {
        "colab": {
          "base_uri": "https://localhost:8080/"
        },
        "id": "HMeWCH5YVpsG",
        "outputId": "b259a0f1-fd96-4808-fd87-5517aab3ccba"
      },
      "source": [
        "vocab = {symbol: i for i, symbol in enumerate(alphabet)}\n",
        "len(vocab)"
      ],
      "execution_count": 14,
      "outputs": [
        {
          "output_type": "execute_result",
          "data": {
            "text/plain": [
              "40"
            ]
          },
          "metadata": {
            "tags": []
          },
          "execution_count": 14
        }
      ]
    },
    {
      "cell_type": "code",
      "metadata": {
        "colab": {
          "base_uri": "https://localhost:8080/"
        },
        "id": "E2YtVpXNVpsG",
        "outputId": "1aa003e4-1d4d-4003-c13e-061d7066b02a"
      },
      "source": [
        "def encode_token(token):\n",
        "    ids = []\n",
        "    ids.append(vocab['<BOS>'])\n",
        "    # dev and test might contain characters outside the alphabet\n",
        "    ids.extend(vocab.get(c, vocab['<UNK>']) for c in token)\n",
        "    ids.append(vocab['<EOS>'])\n",
        "    return ids\n",
        "\n",
        "print(f\"encode_token('alma')= {encode_token('alma')}\")\n",
        "print(f\"vocab['<UNK>'] ={vocab['<UNK>']}\")\n",
        "print(f\"encode_token('ALMA') = {encode_token('ALMA')}\")"
      ],
      "execution_count": 16,
      "outputs": [
        {
          "output_type": "stream",
          "text": [
            "encode_token('alma')= [23, 28, 21, 38, 28, 4]\n",
            "vocab['<UNK>'] =15\n",
            "encode_token('ALMA') = [23, 15, 15, 15, 15, 4]\n"
          ],
          "name": "stdout"
        }
      ]
    },
    {
      "cell_type": "code",
      "metadata": {
        "colab": {
          "base_uri": "https://localhost:8080/",
          "height": 202
        },
        "id": "u2gqoL6lVpsH",
        "outputId": "a0a830e0-d4c1-4eed-8b02-2d65ee47f5ca"
      },
      "source": [
        "train_df['encoded'] = train_df.infl.apply(encode_token)\n",
        "dev_df['encoded'] = dev_df.infl.apply(encode_token)\n",
        "test_df['encoded'] = test_df.infl.apply(encode_token)\n",
        "train_df.head()"
      ],
      "execution_count": 17,
      "outputs": [
        {
          "output_type": "execute_result",
          "data": {
            "text/html": [
              "<div>\n",
              "<style scoped>\n",
              "    .dataframe tbody tr th:only-of-type {\n",
              "        vertical-align: middle;\n",
              "    }\n",
              "\n",
              "    .dataframe tbody tr th {\n",
              "        vertical-align: top;\n",
              "    }\n",
              "\n",
              "    .dataframe thead th {\n",
              "        text-align: right;\n",
              "    }\n",
              "</style>\n",
              "<table border=\"1\" class=\"dataframe\">\n",
              "  <thead>\n",
              "    <tr style=\"text-align: right;\">\n",
              "      <th></th>\n",
              "      <th>lemma</th>\n",
              "      <th>infl</th>\n",
              "      <th>tags</th>\n",
              "      <th>target</th>\n",
              "      <th>encoded</th>\n",
              "    </tr>\n",
              "  </thead>\n",
              "  <tbody>\n",
              "    <tr>\n",
              "      <th>0</th>\n",
              "      <td>kiemelkedik</td>\n",
              "      <td>kiemelkedtek</td>\n",
              "      <td>V;IND;PST;INDF;3;PL</td>\n",
              "      <td>IND</td>\n",
              "      <td>[23, 17, 5, 32, 38, 32, 21, 17, 32, 10, 6, 32,...</td>\n",
              "    </tr>\n",
              "    <tr>\n",
              "      <th>1</th>\n",
              "      <td>elkényeztet</td>\n",
              "      <td>elkényeztette</td>\n",
              "      <td>V;IND;PST;DEF;3;SG</td>\n",
              "      <td>IND</td>\n",
              "      <td>[23, 32, 21, 17, 11, 9, 39, 32, 34, 6, 32, 6, ...</td>\n",
              "    </tr>\n",
              "    <tr>\n",
              "      <th>2</th>\n",
              "      <td>latol</td>\n",
              "      <td>latolják</td>\n",
              "      <td>V;SBJV;PRS;DEF;3;PL</td>\n",
              "      <td>SBJV</td>\n",
              "      <td>[23, 21, 28, 6, 8, 21, 36, 26, 17, 4]</td>\n",
              "    </tr>\n",
              "    <tr>\n",
              "      <th>3</th>\n",
              "      <td>vizionál</td>\n",
              "      <td>vizionáltunk</td>\n",
              "      <td>V;IND;PST;INDF;1;PL</td>\n",
              "      <td>IND</td>\n",
              "      <td>[23, 13, 5, 34, 5, 8, 9, 26, 21, 6, 7, 9, 17, 4]</td>\n",
              "    </tr>\n",
              "    <tr>\n",
              "      <th>4</th>\n",
              "      <td>felkér</td>\n",
              "      <td>felkér</td>\n",
              "      <td>V;IND;PRS;INDF;3;SG</td>\n",
              "      <td>IND</td>\n",
              "      <td>[23, 3, 32, 21, 17, 11, 35, 4]</td>\n",
              "    </tr>\n",
              "  </tbody>\n",
              "</table>\n",
              "</div>"
            ],
            "text/plain": [
              "         lemma  ...                                            encoded\n",
              "0  kiemelkedik  ...  [23, 17, 5, 32, 38, 32, 21, 17, 32, 10, 6, 32,...\n",
              "1  elkényeztet  ...  [23, 32, 21, 17, 11, 9, 39, 32, 34, 6, 32, 6, ...\n",
              "2        latol  ...              [23, 21, 28, 6, 8, 21, 36, 26, 17, 4]\n",
              "3     vizionál  ...   [23, 13, 5, 34, 5, 8, 9, 26, 21, 6, 7, 9, 17, 4]\n",
              "4       felkér  ...                     [23, 3, 32, 21, 17, 11, 35, 4]\n",
              "\n",
              "[5 rows x 5 columns]"
            ]
          },
          "metadata": {
            "tags": []
          },
          "execution_count": 17
        }
      ]
    },
    {
      "cell_type": "code",
      "metadata": {
        "colab": {
          "base_uri": "https://localhost:8080/"
        },
        "id": "i0_J4I9DVpsH",
        "outputId": "3f139620-bd91-4ba5-bdde-9efeae3a6931"
      },
      "source": [
        "maxlen = train_df.encoded.apply(len).max()\n",
        "print(maxlen)\n",
        "\n",
        "def pad_sequence(sequence):\n",
        "    if len(sequence) > maxlen:\n",
        "        return sequence[:maxlen]\n",
        "    return sequence + [vocab['<PAD>'] for _ in range(maxlen-len(sequence))]\n",
        "\n",
        "print(pad_sequence([1, 2, 3]))"
      ],
      "execution_count": 18,
      "outputs": [
        {
          "output_type": "stream",
          "text": [
            "48\n",
            "[1, 2, 3, 25, 25, 25, 25, 25, 25, 25, 25, 25, 25, 25, 25, 25, 25, 25, 25, 25, 25, 25, 25, 25, 25, 25, 25, 25, 25, 25, 25, 25, 25, 25, 25, 25, 25, 25, 25, 25, 25, 25, 25, 25, 25, 25, 25, 25]\n"
          ],
          "name": "stdout"
        }
      ]
    },
    {
      "cell_type": "code",
      "metadata": {
        "colab": {
          "base_uri": "https://localhost:8080/"
        },
        "id": "NeL1jIRjVpsH",
        "outputId": "ab0bf4af-8330-479c-9f33-46ad45d1f2bf"
      },
      "source": [
        "train_df['padded'] = train_df.encoded.apply(pad_sequence)\n",
        "dev_df['padded'] = dev_df.encoded.apply(pad_sequence)\n",
        "test_df['padded'] = test_df.encoded.apply(pad_sequence)\n",
        "\n",
        "train_df['padded'].apply(len).value_counts()"
      ],
      "execution_count": 19,
      "outputs": [
        {
          "output_type": "execute_result",
          "data": {
            "text/plain": [
              "48    1000\n",
              "Name: padded, dtype: int64"
            ]
          },
          "metadata": {
            "tags": []
          },
          "execution_count": 19
        }
      ]
    },
    {
      "cell_type": "code",
      "metadata": {
        "id": "_Z2XydEHVpsH"
      },
      "source": [
        "train_df['seqlen'] = train_df.encoded.apply(len)\n",
        "dev_df['seqlen'] = dev_df.encoded.apply(len)\n",
        "test_df['seqlen'] = test_df.encoded.apply(len)"
      ],
      "execution_count": 21,
      "outputs": []
    },
    {
      "cell_type": "code",
      "metadata": {
        "colab": {
          "base_uri": "https://localhost:8080/"
        },
        "id": "PbRKUTzUVpsI",
        "outputId": "7751dd4e-9506-46bb-a3fa-3ae48b41cfc9"
      },
      "source": [
        "label_to_id = {label: i for i, label in enumerate(train_df.target.unique())}\n",
        "label_to_id"
      ],
      "execution_count": 22,
      "outputs": [
        {
          "output_type": "execute_result",
          "data": {
            "text/plain": [
              "{'COND': 2, 'IND': 0, 'SBJV': 1}"
            ]
          },
          "metadata": {
            "tags": []
          },
          "execution_count": 22
        }
      ]
    },
    {
      "cell_type": "code",
      "metadata": {
        "id": "44bPbLnCVpsI"
      },
      "source": [
        "train_df['label'] = train_df.target.apply(lambda c: label_to_id[c])\n",
        "dev_df['label'] = dev_df.target.apply(lambda c: label_to_id[c])\n",
        "test_df['label'] = test_df.target.apply(lambda c: label_to_id[c])"
      ],
      "execution_count": 23,
      "outputs": []
    },
    {
      "cell_type": "markdown",
      "metadata": {
        "id": "YekgrKk3VpsI"
      },
      "source": [
        "# Creating tensors"
      ]
    },
    {
      "cell_type": "code",
      "metadata": {
        "colab": {
          "base_uri": "https://localhost:8080/"
        },
        "id": "EULWIOmsVpsJ",
        "outputId": "affa1089-fd49-45c3-93d0-c97d6806e1ff"
      },
      "source": [
        "X_train = torch.from_numpy(np.array(list(train_df.padded)))\n",
        "y_train = torch.LongTensor(train_df.label.values)\n",
        "seqlen_train = torch.LongTensor(train_df.seqlen.values)\n",
        "print(f\"X_train.size() = {X_train.size()},\\ny_train.size() ={y_train.size()}\\nseqlen_train.size() = {seqlen_train.size()}\\n\")\n",
        "\n",
        "X_dev = torch.from_numpy(np.array(list(dev_df.padded)))\n",
        "y_dev = torch.LongTensor(dev_df.label.values)\n",
        "seqlen_dev = torch.LongTensor(dev_df.seqlen.values)\n",
        "print(f\"X_dev.size() = {X_dev.size()},\\ny_dev.size() = {y_dev.size()}\\nseqlen_dev.size() = {seqlen_dev.size()}\\n\")\n",
        "\n",
        "X_test = torch.from_numpy(np.array(list(test_df.padded)))\n",
        "y_test = torch.LongTensor(test_df.label.values)\n",
        "seqlen_test = torch.LongTensor(test_df.seqlen.values)\n",
        "print(f\"X_test.size() = {X_test.size()},\\ny_test.size() ={y_test.size()}\\nseqlen_test.size() = {seqlen_test.size()}\")"
      ],
      "execution_count": 25,
      "outputs": [
        {
          "output_type": "stream",
          "text": [
            "X_train.size() = torch.Size([1000, 48]),\n",
            "y_train.size() =torch.Size([1000])\n",
            "seqlen_train.size() = torch.Size([1000])\n",
            "\n",
            "X_dev.size() = torch.Size([200, 48]),\n",
            "y_dev.size() = torch.Size([200])\n",
            "seqlen_dev.size() = torch.Size([200])\n",
            "\n",
            "X_test.size() = torch.Size([200, 48]),\n",
            "y_test.size() =torch.Size([200])\n",
            "seqlen_test.size() = torch.Size([200])\n"
          ],
          "name": "stdout"
        }
      ]
    },
    {
      "cell_type": "markdown",
      "metadata": {
        "id": "7FLDZS4zVpsJ"
      },
      "source": [
        "# Model"
      ]
    },
    {
      "cell_type": "code",
      "metadata": {
        "id": "F_VUEonzVpsJ"
      },
      "source": [
        "class LSTMClassifier(nn.Module):\n",
        "    def __init__(self, input_size, embedding_size, hidden_size, output_size):\n",
        "        super().__init__()\n",
        "        self.embedding = nn.Embedding(input_size, embedding_size)\n",
        "        self.lstm = nn.LSTM(\n",
        "            input_size=embedding_size,\n",
        "            hidden_size=hidden_size,\n",
        "            num_layers=1,\n",
        "            bidirectional=True,\n",
        "            batch_first=True,\n",
        "        )\n",
        "        self.dense = nn.Linear(hidden_size * 2, output_size)\n",
        "        \n",
        "    # the input signature of forward changes\n",
        "    def forward(self, sequences, sequence_lens):\n",
        "        embedded = self.embedding(sequences)\n",
        "        \n",
        "        # THIS IS THE MODIFIED PART\n",
        "        # returns a PackedSequence object\n",
        "        packed = nn.utils.rnn.pack_padded_sequence(\n",
        "            embedded,\n",
        "            sequence_lens,\n",
        "            enforce_sorted=False,\n",
        "            batch_first=True)\n",
        "        packed_outputs, (h, c) = self.lstm(packed)\n",
        "        # extract LSTM outputs (not used here)\n",
        "        lstm_outputs, lens = nn.utils.rnn.pad_packed_sequence(packed_outputs)\n",
        "        \n",
        "        h = torch.cat((h[0], h[1]), dim=-1)\n",
        "        output = self.dense(h)\n",
        "        return output"
      ],
      "execution_count": 200,
      "outputs": []
    },
    {
      "cell_type": "code",
      "metadata": {
        "colab": {
          "base_uri": "https://localhost:8080/"
        },
        "id": "-WYpsARDVpsK",
        "outputId": "49da322b-9466-4720-873d-a2b57df1a850"
      },
      "source": [
        "input_size = len(vocab)\n",
        "embedding_size = 30\n",
        "hidden_size = 64\n",
        "output_size = train_df.label.nunique()\n",
        "\n",
        "model = LSTMClassifier(input_size, embedding_size, hidden_size, output_size)\n",
        "model\n",
        "print(output_size)"
      ],
      "execution_count": 201,
      "outputs": [
        {
          "output_type": "stream",
          "text": [
            "3\n"
          ],
          "name": "stdout"
        }
      ]
    },
    {
      "cell_type": "markdown",
      "metadata": {
        "id": "nae38z7lVpsK"
      },
      "source": [
        "# Batching"
      ]
    },
    {
      "cell_type": "code",
      "metadata": {
        "id": "luX2M2ukVpsK"
      },
      "source": [
        "class BatchedIterator:\n",
        "    def __init__(self, *tensors, batch_size):\n",
        "        # all tensors must have the same first dimension\n",
        "        assert len(set(len(tensor) for tensor in tensors)) == 1\n",
        "        self.tensors = tensors\n",
        "        self.batch_size = batch_size\n",
        "    \n",
        "    def iterate_once(self):\n",
        "        num_data = len(self.tensors[0])\n",
        "        for start in range(0, num_data, self.batch_size):\n",
        "            end = start + self.batch_size\n",
        "            yield tuple(tensor[start:end] for tensor in self.tensors)"
      ],
      "execution_count": 202,
      "outputs": []
    },
    {
      "cell_type": "markdown",
      "metadata": {
        "id": "KpKNDhFsVpsK"
      },
      "source": [
        "# Training"
      ]
    },
    {
      "cell_type": "code",
      "metadata": {
        "id": "C9KeAn7zVpsK"
      },
      "source": [
        "criterion = nn.CrossEntropyLoss()\n",
        "optimizer = optim.Adam(model.parameters())"
      ],
      "execution_count": 220,
      "outputs": []
    },
    {
      "cell_type": "code",
      "metadata": {
        "id": "ZIBkPZdLVpsL"
      },
      "source": [
        "num_epochs = 50\n",
        "batch_size = 128\n",
        "\n",
        "metrics = defaultdict(list)\n",
        "train_iter = BatchedIterator(X_train, seqlen_train, y_train, batch_size=batch_size)"
      ],
      "execution_count": 221,
      "outputs": []
    },
    {
      "cell_type": "code",
      "metadata": {
        "colab": {
          "base_uri": "https://localhost:8080/",
          "height": 1000
        },
        "id": "AmSFFs66VpsL",
        "outputId": "c8f4faab-726b-4e62-e170-b66676ef91e7"
      },
      "source": [
        "for epoch in range(num_epochs):\n",
        "    model.train()\n",
        "    # Training loop\n",
        "  \n",
        "    for X_batch, seqlen_batch, y_batch in train_iter.iterate_once():\n",
        "        #y_out = model(X_batch, seqlen_batch)\n",
        "\n",
        "        # FOR TASK 1:\n",
        "        \n",
        "        y_out = model(X_batch)\n",
        "        # FOR TASK 1:\n",
        "        \n",
        "        # To understand the ouput of the model:\n",
        "        # y_out.shape = [batch_size, output_size] # output_size = number of labels\n",
        "        #print(f'y_out.shape= {y_out.shape} \\ny_batch.shape= {y_batch.shape} ')\n",
        "\n",
        "        #print(f'y_out.shape= {y_out.shape} \\ny_batch.shape= {y_batch.shape} ')\n",
        "        loss = criterion(y_out, y_batch)\n",
        "        optimizer.zero_grad()\n",
        "        loss.backward()\n",
        "        optimizer.step()\n",
        "        \n",
        "    model.eval()  # or model.train(False)\n",
        "    # Train and dev loss at the end of the epoch\n",
        "    #FOR BEGINING (TESTING BEFORE RUNNING TASK 1)\n",
        "    #y_out = model(X_train, seqlen_train)\n",
        "    #FOR BEGINING (TESTING BEFORE RUNNING TASK 1)\n",
        "\n",
        "    # FOR TASK 1:\n",
        "    y_out = model(X_train)\n",
        "    # FOR TASK 1:\n",
        "\n",
        "    train_loss = criterion(y_out, y_train).item()\n",
        "    metrics['train_loss'].append(train_loss)\n",
        "    labels = y_out.argmax(axis=1)\n",
        "    train_accuracy = (torch.eq(y_train, labels).sum() / float(labels.size(0))).item()\n",
        "    metrics['train_accuracy'].append(train_accuracy)\n",
        "    \n",
        "    #FOR BEGINING (TESTING BEFORE RUNNING TASK 1)\n",
        "    #y_out = model(X_dev, seqlen_dev)\n",
        "    #FOR BEGINING (TESTING BEFORE RUNNING TASK 1)\n",
        "    # FOR TASK 1:\n",
        "    y_out = model(X_dev)\n",
        "    # FOR TASK 1:\n",
        "\n",
        "    dev_loss = criterion(y_out, y_dev).item()\n",
        "    metrics['dev_loss'].append(dev_loss)\n",
        "    labels = y_out.argmax(axis=1)\n",
        "    dev_accuracy = (torch.eq(y_dev, labels).sum() / float(labels.size(0))).item()\n",
        "    metrics['dev_accuracy'].append(dev_accuracy)\n",
        "    \n",
        "    print(f\"Epoch: {epoch} -- train loss: {train_loss:.3f} - train acc: {train_accuracy:.1%} - \"\n",
        "          f\"dev loss: {dev_loss:.3f} - dev acc: {dev_accuracy:.1%}\")"
      ],
      "execution_count": 222,
      "outputs": [
        {
          "output_type": "stream",
          "text": [
            "src.shape =torch.Size([128, 48, 60])\n",
            "src.shape =torch.Size([128, 48, 60])\n",
            "src.shape =torch.Size([128, 48, 60])\n",
            "src.shape =torch.Size([128, 48, 60])\n",
            "src.shape =torch.Size([128, 48, 60])\n",
            "src.shape =torch.Size([128, 48, 60])\n",
            "src.shape =torch.Size([128, 48, 60])\n",
            "src.shape =torch.Size([104, 48, 60])\n",
            "src.shape =torch.Size([1000, 48, 60])\n",
            "src.shape =torch.Size([200, 48, 60])\n",
            "Epoch: 0 -- train loss: 1.058 - train acc: 49.6% - dev loss: 1.005 - dev acc: 55.0%\n",
            "src.shape =torch.Size([128, 48, 60])\n",
            "src.shape =torch.Size([128, 48, 60])\n",
            "src.shape =torch.Size([128, 48, 60])\n",
            "src.shape =torch.Size([128, 48, 60])\n",
            "src.shape =torch.Size([128, 48, 60])\n",
            "src.shape =torch.Size([128, 48, 60])\n",
            "src.shape =torch.Size([128, 48, 60])\n",
            "src.shape =torch.Size([104, 48, 60])\n",
            "src.shape =torch.Size([1000, 48, 60])\n",
            "src.shape =torch.Size([200, 48, 60])\n",
            "Epoch: 1 -- train loss: 1.054 - train acc: 49.6% - dev loss: 1.032 - dev acc: 55.0%\n",
            "src.shape =torch.Size([128, 48, 60])\n",
            "src.shape =torch.Size([128, 48, 60])\n",
            "src.shape =torch.Size([128, 48, 60])\n",
            "src.shape =torch.Size([128, 48, 60])\n",
            "src.shape =torch.Size([128, 48, 60])\n",
            "src.shape =torch.Size([128, 48, 60])\n",
            "src.shape =torch.Size([128, 48, 60])\n",
            "src.shape =torch.Size([104, 48, 60])\n",
            "src.shape =torch.Size([1000, 48, 60])\n",
            "src.shape =torch.Size([200, 48, 60])\n",
            "Epoch: 2 -- train loss: 1.044 - train acc: 49.6% - dev loss: 1.002 - dev acc: 55.0%\n",
            "src.shape =torch.Size([128, 48, 60])\n",
            "src.shape =torch.Size([128, 48, 60])\n",
            "src.shape =torch.Size([128, 48, 60])\n",
            "src.shape =torch.Size([128, 48, 60])\n",
            "src.shape =torch.Size([128, 48, 60])\n",
            "src.shape =torch.Size([128, 48, 60])\n",
            "src.shape =torch.Size([128, 48, 60])\n",
            "src.shape =torch.Size([104, 48, 60])\n",
            "src.shape =torch.Size([1000, 48, 60])\n",
            "src.shape =torch.Size([200, 48, 60])\n",
            "Epoch: 3 -- train loss: 1.044 - train acc: 49.6% - dev loss: 1.002 - dev acc: 55.0%\n",
            "src.shape =torch.Size([128, 48, 60])\n",
            "src.shape =torch.Size([128, 48, 60])\n",
            "src.shape =torch.Size([128, 48, 60])\n",
            "src.shape =torch.Size([128, 48, 60])\n",
            "src.shape =torch.Size([128, 48, 60])\n",
            "src.shape =torch.Size([128, 48, 60])\n",
            "src.shape =torch.Size([128, 48, 60])\n",
            "src.shape =torch.Size([104, 48, 60])\n",
            "src.shape =torch.Size([1000, 48, 60])\n",
            "src.shape =torch.Size([200, 48, 60])\n",
            "Epoch: 4 -- train loss: 1.043 - train acc: 49.6% - dev loss: 1.012 - dev acc: 55.0%\n",
            "src.shape =torch.Size([128, 48, 60])\n",
            "src.shape =torch.Size([128, 48, 60])\n",
            "src.shape =torch.Size([128, 48, 60])\n",
            "src.shape =torch.Size([128, 48, 60])\n",
            "src.shape =torch.Size([128, 48, 60])\n",
            "src.shape =torch.Size([128, 48, 60])\n",
            "src.shape =torch.Size([128, 48, 60])\n",
            "src.shape =torch.Size([104, 48, 60])\n",
            "src.shape =torch.Size([1000, 48, 60])\n",
            "src.shape =torch.Size([200, 48, 60])\n",
            "Epoch: 5 -- train loss: 1.043 - train acc: 49.6% - dev loss: 1.004 - dev acc: 55.0%\n",
            "src.shape =torch.Size([128, 48, 60])\n",
            "src.shape =torch.Size([128, 48, 60])\n",
            "src.shape =torch.Size([128, 48, 60])\n",
            "src.shape =torch.Size([128, 48, 60])\n",
            "src.shape =torch.Size([128, 48, 60])\n",
            "src.shape =torch.Size([128, 48, 60])\n",
            "src.shape =torch.Size([128, 48, 60])\n",
            "src.shape =torch.Size([104, 48, 60])\n",
            "src.shape =torch.Size([1000, 48, 60])\n",
            "src.shape =torch.Size([200, 48, 60])\n",
            "Epoch: 6 -- train loss: 1.043 - train acc: 49.6% - dev loss: 1.004 - dev acc: 55.0%\n",
            "src.shape =torch.Size([128, 48, 60])\n",
            "src.shape =torch.Size([128, 48, 60])\n",
            "src.shape =torch.Size([128, 48, 60])\n",
            "src.shape =torch.Size([128, 48, 60])\n",
            "src.shape =torch.Size([128, 48, 60])\n",
            "src.shape =torch.Size([128, 48, 60])\n",
            "src.shape =torch.Size([128, 48, 60])\n",
            "src.shape =torch.Size([104, 48, 60])\n",
            "src.shape =torch.Size([1000, 48, 60])\n",
            "src.shape =torch.Size([200, 48, 60])\n",
            "Epoch: 7 -- train loss: 1.043 - train acc: 49.6% - dev loss: 1.008 - dev acc: 55.0%\n",
            "src.shape =torch.Size([128, 48, 60])\n",
            "src.shape =torch.Size([128, 48, 60])\n",
            "src.shape =torch.Size([128, 48, 60])\n",
            "src.shape =torch.Size([128, 48, 60])\n",
            "src.shape =torch.Size([128, 48, 60])\n",
            "src.shape =torch.Size([128, 48, 60])\n",
            "src.shape =torch.Size([128, 48, 60])\n",
            "src.shape =torch.Size([104, 48, 60])\n",
            "src.shape =torch.Size([1000, 48, 60])\n",
            "src.shape =torch.Size([200, 48, 60])\n",
            "Epoch: 8 -- train loss: 1.042 - train acc: 49.6% - dev loss: 1.005 - dev acc: 55.0%\n",
            "src.shape =torch.Size([128, 48, 60])\n",
            "src.shape =torch.Size([128, 48, 60])\n",
            "src.shape =torch.Size([128, 48, 60])\n",
            "src.shape =torch.Size([128, 48, 60])\n"
          ],
          "name": "stdout"
        },
        {
          "output_type": "error",
          "ename": "KeyboardInterrupt",
          "evalue": "ignored",
          "traceback": [
            "\u001b[0;31m---------------------------------------------------------------------------\u001b[0m",
            "\u001b[0;31mKeyboardInterrupt\u001b[0m                         Traceback (most recent call last)",
            "\u001b[0;32m<ipython-input-222-176e5083b209>\u001b[0m in \u001b[0;36m<module>\u001b[0;34m()\u001b[0m\n\u001b[1;32m      8\u001b[0m         \u001b[0;31m# FOR TASK 1:\u001b[0m\u001b[0;34m\u001b[0m\u001b[0;34m\u001b[0m\u001b[0;34m\u001b[0m\u001b[0m\n\u001b[1;32m      9\u001b[0m \u001b[0;34m\u001b[0m\u001b[0m\n\u001b[0;32m---> 10\u001b[0;31m         \u001b[0my_out\u001b[0m \u001b[0;34m=\u001b[0m \u001b[0mmodel\u001b[0m\u001b[0;34m(\u001b[0m\u001b[0mX_batch\u001b[0m\u001b[0;34m)\u001b[0m\u001b[0;34m\u001b[0m\u001b[0;34m\u001b[0m\u001b[0m\n\u001b[0m\u001b[1;32m     11\u001b[0m         \u001b[0;31m# FOR TASK 1:\u001b[0m\u001b[0;34m\u001b[0m\u001b[0;34m\u001b[0m\u001b[0;34m\u001b[0m\u001b[0m\n\u001b[1;32m     12\u001b[0m \u001b[0;34m\u001b[0m\u001b[0m\n",
            "\u001b[0;32m/usr/local/lib/python3.7/dist-packages/torch/nn/modules/module.py\u001b[0m in \u001b[0;36m_call_impl\u001b[0;34m(self, *input, **kwargs)\u001b[0m\n\u001b[1;32m    887\u001b[0m             \u001b[0mresult\u001b[0m \u001b[0;34m=\u001b[0m \u001b[0mself\u001b[0m\u001b[0;34m.\u001b[0m\u001b[0m_slow_forward\u001b[0m\u001b[0;34m(\u001b[0m\u001b[0;34m*\u001b[0m\u001b[0minput\u001b[0m\u001b[0;34m,\u001b[0m \u001b[0;34m**\u001b[0m\u001b[0mkwargs\u001b[0m\u001b[0;34m)\u001b[0m\u001b[0;34m\u001b[0m\u001b[0;34m\u001b[0m\u001b[0m\n\u001b[1;32m    888\u001b[0m         \u001b[0;32melse\u001b[0m\u001b[0;34m:\u001b[0m\u001b[0;34m\u001b[0m\u001b[0;34m\u001b[0m\u001b[0m\n\u001b[0;32m--> 889\u001b[0;31m             \u001b[0mresult\u001b[0m \u001b[0;34m=\u001b[0m \u001b[0mself\u001b[0m\u001b[0;34m.\u001b[0m\u001b[0mforward\u001b[0m\u001b[0;34m(\u001b[0m\u001b[0;34m*\u001b[0m\u001b[0minput\u001b[0m\u001b[0;34m,\u001b[0m \u001b[0;34m**\u001b[0m\u001b[0mkwargs\u001b[0m\u001b[0;34m)\u001b[0m\u001b[0;34m\u001b[0m\u001b[0;34m\u001b[0m\u001b[0m\n\u001b[0m\u001b[1;32m    890\u001b[0m         for hook in itertools.chain(\n\u001b[1;32m    891\u001b[0m                 \u001b[0m_global_forward_hooks\u001b[0m\u001b[0;34m.\u001b[0m\u001b[0mvalues\u001b[0m\u001b[0;34m(\u001b[0m\u001b[0;34m)\u001b[0m\u001b[0;34m,\u001b[0m\u001b[0;34m\u001b[0m\u001b[0;34m\u001b[0m\u001b[0m\n",
            "\u001b[0;32m<ipython-input-218-63b380a9fa91>\u001b[0m in \u001b[0;36mforward\u001b[0;34m(self, src)\u001b[0m\n\u001b[1;32m     28\u001b[0m       \u001b[0msrc\u001b[0m \u001b[0;34m=\u001b[0m \u001b[0mself\u001b[0m\u001b[0;34m.\u001b[0m\u001b[0mencoder\u001b[0m\u001b[0;34m(\u001b[0m\u001b[0msrc\u001b[0m\u001b[0;34m)\u001b[0m\u001b[0;34m\u001b[0m\u001b[0;34m\u001b[0m\u001b[0m\n\u001b[1;32m     29\u001b[0m       \u001b[0mprint\u001b[0m\u001b[0;34m(\u001b[0m\u001b[0;34mf'src.shape ={src.shape}'\u001b[0m\u001b[0;34m)\u001b[0m\u001b[0;34m\u001b[0m\u001b[0;34m\u001b[0m\u001b[0m\n\u001b[0;32m---> 30\u001b[0;31m       \u001b[0moutput\u001b[0m \u001b[0;34m=\u001b[0m \u001b[0mself\u001b[0m\u001b[0;34m.\u001b[0m\u001b[0mtransformer_encoder\u001b[0m\u001b[0;34m(\u001b[0m\u001b[0msrc\u001b[0m\u001b[0;34m)\u001b[0m\u001b[0;34m\u001b[0m\u001b[0;34m\u001b[0m\u001b[0m\n\u001b[0m\u001b[1;32m     31\u001b[0m       \u001b[0moutput\u001b[0m \u001b[0;34m=\u001b[0m \u001b[0mself\u001b[0m\u001b[0;34m.\u001b[0m\u001b[0mdecoder\u001b[0m\u001b[0;34m(\u001b[0m\u001b[0moutput\u001b[0m\u001b[0;34m)\u001b[0m\u001b[0;34m\u001b[0m\u001b[0;34m\u001b[0m\u001b[0m\n\u001b[1;32m     32\u001b[0m       \u001b[0mfinal_output\u001b[0m\u001b[0;34m=\u001b[0m \u001b[0mF\u001b[0m\u001b[0;34m.\u001b[0m\u001b[0mlog_softmax\u001b[0m\u001b[0;34m(\u001b[0m\u001b[0moutput\u001b[0m\u001b[0;34m,\u001b[0m \u001b[0mdim\u001b[0m\u001b[0;34m=\u001b[0m\u001b[0;34m-\u001b[0m\u001b[0;36m1\u001b[0m\u001b[0;34m)\u001b[0m\u001b[0;34m\u001b[0m\u001b[0;34m\u001b[0m\u001b[0m\n",
            "\u001b[0;32m/usr/local/lib/python3.7/dist-packages/torch/nn/modules/module.py\u001b[0m in \u001b[0;36m_call_impl\u001b[0;34m(self, *input, **kwargs)\u001b[0m\n\u001b[1;32m    887\u001b[0m             \u001b[0mresult\u001b[0m \u001b[0;34m=\u001b[0m \u001b[0mself\u001b[0m\u001b[0;34m.\u001b[0m\u001b[0m_slow_forward\u001b[0m\u001b[0;34m(\u001b[0m\u001b[0;34m*\u001b[0m\u001b[0minput\u001b[0m\u001b[0;34m,\u001b[0m \u001b[0;34m**\u001b[0m\u001b[0mkwargs\u001b[0m\u001b[0;34m)\u001b[0m\u001b[0;34m\u001b[0m\u001b[0;34m\u001b[0m\u001b[0m\n\u001b[1;32m    888\u001b[0m         \u001b[0;32melse\u001b[0m\u001b[0;34m:\u001b[0m\u001b[0;34m\u001b[0m\u001b[0;34m\u001b[0m\u001b[0m\n\u001b[0;32m--> 889\u001b[0;31m             \u001b[0mresult\u001b[0m \u001b[0;34m=\u001b[0m \u001b[0mself\u001b[0m\u001b[0;34m.\u001b[0m\u001b[0mforward\u001b[0m\u001b[0;34m(\u001b[0m\u001b[0;34m*\u001b[0m\u001b[0minput\u001b[0m\u001b[0;34m,\u001b[0m \u001b[0;34m**\u001b[0m\u001b[0mkwargs\u001b[0m\u001b[0;34m)\u001b[0m\u001b[0;34m\u001b[0m\u001b[0;34m\u001b[0m\u001b[0m\n\u001b[0m\u001b[1;32m    890\u001b[0m         for hook in itertools.chain(\n\u001b[1;32m    891\u001b[0m                 \u001b[0m_global_forward_hooks\u001b[0m\u001b[0;34m.\u001b[0m\u001b[0mvalues\u001b[0m\u001b[0;34m(\u001b[0m\u001b[0;34m)\u001b[0m\u001b[0;34m,\u001b[0m\u001b[0;34m\u001b[0m\u001b[0;34m\u001b[0m\u001b[0m\n",
            "\u001b[0;32m/usr/local/lib/python3.7/dist-packages/torch/nn/modules/transformer.py\u001b[0m in \u001b[0;36mforward\u001b[0;34m(self, src, mask, src_key_padding_mask)\u001b[0m\n\u001b[1;32m    179\u001b[0m \u001b[0;34m\u001b[0m\u001b[0m\n\u001b[1;32m    180\u001b[0m         \u001b[0;32mfor\u001b[0m \u001b[0mmod\u001b[0m \u001b[0;32min\u001b[0m \u001b[0mself\u001b[0m\u001b[0;34m.\u001b[0m\u001b[0mlayers\u001b[0m\u001b[0;34m:\u001b[0m\u001b[0;34m\u001b[0m\u001b[0;34m\u001b[0m\u001b[0m\n\u001b[0;32m--> 181\u001b[0;31m             \u001b[0moutput\u001b[0m \u001b[0;34m=\u001b[0m \u001b[0mmod\u001b[0m\u001b[0;34m(\u001b[0m\u001b[0moutput\u001b[0m\u001b[0;34m,\u001b[0m \u001b[0msrc_mask\u001b[0m\u001b[0;34m=\u001b[0m\u001b[0mmask\u001b[0m\u001b[0;34m,\u001b[0m \u001b[0msrc_key_padding_mask\u001b[0m\u001b[0;34m=\u001b[0m\u001b[0msrc_key_padding_mask\u001b[0m\u001b[0;34m)\u001b[0m\u001b[0;34m\u001b[0m\u001b[0;34m\u001b[0m\u001b[0m\n\u001b[0m\u001b[1;32m    182\u001b[0m \u001b[0;34m\u001b[0m\u001b[0m\n\u001b[1;32m    183\u001b[0m         \u001b[0;32mif\u001b[0m \u001b[0mself\u001b[0m\u001b[0;34m.\u001b[0m\u001b[0mnorm\u001b[0m \u001b[0;32mis\u001b[0m \u001b[0;32mnot\u001b[0m \u001b[0;32mNone\u001b[0m\u001b[0;34m:\u001b[0m\u001b[0;34m\u001b[0m\u001b[0;34m\u001b[0m\u001b[0m\n",
            "\u001b[0;32m/usr/local/lib/python3.7/dist-packages/torch/nn/modules/module.py\u001b[0m in \u001b[0;36m_call_impl\u001b[0;34m(self, *input, **kwargs)\u001b[0m\n\u001b[1;32m    887\u001b[0m             \u001b[0mresult\u001b[0m \u001b[0;34m=\u001b[0m \u001b[0mself\u001b[0m\u001b[0;34m.\u001b[0m\u001b[0m_slow_forward\u001b[0m\u001b[0;34m(\u001b[0m\u001b[0;34m*\u001b[0m\u001b[0minput\u001b[0m\u001b[0;34m,\u001b[0m \u001b[0;34m**\u001b[0m\u001b[0mkwargs\u001b[0m\u001b[0;34m)\u001b[0m\u001b[0;34m\u001b[0m\u001b[0;34m\u001b[0m\u001b[0m\n\u001b[1;32m    888\u001b[0m         \u001b[0;32melse\u001b[0m\u001b[0;34m:\u001b[0m\u001b[0;34m\u001b[0m\u001b[0;34m\u001b[0m\u001b[0m\n\u001b[0;32m--> 889\u001b[0;31m             \u001b[0mresult\u001b[0m \u001b[0;34m=\u001b[0m \u001b[0mself\u001b[0m\u001b[0;34m.\u001b[0m\u001b[0mforward\u001b[0m\u001b[0;34m(\u001b[0m\u001b[0;34m*\u001b[0m\u001b[0minput\u001b[0m\u001b[0;34m,\u001b[0m \u001b[0;34m**\u001b[0m\u001b[0mkwargs\u001b[0m\u001b[0;34m)\u001b[0m\u001b[0;34m\u001b[0m\u001b[0;34m\u001b[0m\u001b[0m\n\u001b[0m\u001b[1;32m    890\u001b[0m         for hook in itertools.chain(\n\u001b[1;32m    891\u001b[0m                 \u001b[0m_global_forward_hooks\u001b[0m\u001b[0;34m.\u001b[0m\u001b[0mvalues\u001b[0m\u001b[0;34m(\u001b[0m\u001b[0;34m)\u001b[0m\u001b[0;34m,\u001b[0m\u001b[0;34m\u001b[0m\u001b[0;34m\u001b[0m\u001b[0m\n",
            "\u001b[0;32m/usr/local/lib/python3.7/dist-packages/torch/nn/modules/transformer.py\u001b[0m in \u001b[0;36mforward\u001b[0;34m(self, src, src_mask, src_key_padding_mask)\u001b[0m\n\u001b[1;32m    295\u001b[0m         \u001b[0msrc\u001b[0m \u001b[0;34m=\u001b[0m \u001b[0msrc\u001b[0m \u001b[0;34m+\u001b[0m \u001b[0mself\u001b[0m\u001b[0;34m.\u001b[0m\u001b[0mdropout1\u001b[0m\u001b[0;34m(\u001b[0m\u001b[0msrc2\u001b[0m\u001b[0;34m)\u001b[0m\u001b[0;34m\u001b[0m\u001b[0;34m\u001b[0m\u001b[0m\n\u001b[1;32m    296\u001b[0m         \u001b[0msrc\u001b[0m \u001b[0;34m=\u001b[0m \u001b[0mself\u001b[0m\u001b[0;34m.\u001b[0m\u001b[0mnorm1\u001b[0m\u001b[0;34m(\u001b[0m\u001b[0msrc\u001b[0m\u001b[0;34m)\u001b[0m\u001b[0;34m\u001b[0m\u001b[0;34m\u001b[0m\u001b[0m\n\u001b[0;32m--> 297\u001b[0;31m         \u001b[0msrc2\u001b[0m \u001b[0;34m=\u001b[0m \u001b[0mself\u001b[0m\u001b[0;34m.\u001b[0m\u001b[0mlinear2\u001b[0m\u001b[0;34m(\u001b[0m\u001b[0mself\u001b[0m\u001b[0;34m.\u001b[0m\u001b[0mdropout\u001b[0m\u001b[0;34m(\u001b[0m\u001b[0mself\u001b[0m\u001b[0;34m.\u001b[0m\u001b[0mactivation\u001b[0m\u001b[0;34m(\u001b[0m\u001b[0mself\u001b[0m\u001b[0;34m.\u001b[0m\u001b[0mlinear1\u001b[0m\u001b[0;34m(\u001b[0m\u001b[0msrc\u001b[0m\u001b[0;34m)\u001b[0m\u001b[0;34m)\u001b[0m\u001b[0;34m)\u001b[0m\u001b[0;34m)\u001b[0m\u001b[0;34m\u001b[0m\u001b[0;34m\u001b[0m\u001b[0m\n\u001b[0m\u001b[1;32m    298\u001b[0m         \u001b[0msrc\u001b[0m \u001b[0;34m=\u001b[0m \u001b[0msrc\u001b[0m \u001b[0;34m+\u001b[0m \u001b[0mself\u001b[0m\u001b[0;34m.\u001b[0m\u001b[0mdropout2\u001b[0m\u001b[0;34m(\u001b[0m\u001b[0msrc2\u001b[0m\u001b[0;34m)\u001b[0m\u001b[0;34m\u001b[0m\u001b[0;34m\u001b[0m\u001b[0m\n\u001b[1;32m    299\u001b[0m         \u001b[0msrc\u001b[0m \u001b[0;34m=\u001b[0m \u001b[0mself\u001b[0m\u001b[0;34m.\u001b[0m\u001b[0mnorm2\u001b[0m\u001b[0;34m(\u001b[0m\u001b[0msrc\u001b[0m\u001b[0;34m)\u001b[0m\u001b[0;34m\u001b[0m\u001b[0;34m\u001b[0m\u001b[0m\n",
            "\u001b[0;32m/usr/local/lib/python3.7/dist-packages/torch/nn/modules/module.py\u001b[0m in \u001b[0;36m_call_impl\u001b[0;34m(self, *input, **kwargs)\u001b[0m\n\u001b[1;32m    887\u001b[0m             \u001b[0mresult\u001b[0m \u001b[0;34m=\u001b[0m \u001b[0mself\u001b[0m\u001b[0;34m.\u001b[0m\u001b[0m_slow_forward\u001b[0m\u001b[0;34m(\u001b[0m\u001b[0;34m*\u001b[0m\u001b[0minput\u001b[0m\u001b[0;34m,\u001b[0m \u001b[0;34m**\u001b[0m\u001b[0mkwargs\u001b[0m\u001b[0;34m)\u001b[0m\u001b[0;34m\u001b[0m\u001b[0;34m\u001b[0m\u001b[0m\n\u001b[1;32m    888\u001b[0m         \u001b[0;32melse\u001b[0m\u001b[0;34m:\u001b[0m\u001b[0;34m\u001b[0m\u001b[0;34m\u001b[0m\u001b[0m\n\u001b[0;32m--> 889\u001b[0;31m             \u001b[0mresult\u001b[0m \u001b[0;34m=\u001b[0m \u001b[0mself\u001b[0m\u001b[0;34m.\u001b[0m\u001b[0mforward\u001b[0m\u001b[0;34m(\u001b[0m\u001b[0;34m*\u001b[0m\u001b[0minput\u001b[0m\u001b[0;34m,\u001b[0m \u001b[0;34m**\u001b[0m\u001b[0mkwargs\u001b[0m\u001b[0;34m)\u001b[0m\u001b[0;34m\u001b[0m\u001b[0;34m\u001b[0m\u001b[0m\n\u001b[0m\u001b[1;32m    890\u001b[0m         for hook in itertools.chain(\n\u001b[1;32m    891\u001b[0m                 \u001b[0m_global_forward_hooks\u001b[0m\u001b[0;34m.\u001b[0m\u001b[0mvalues\u001b[0m\u001b[0;34m(\u001b[0m\u001b[0;34m)\u001b[0m\u001b[0;34m,\u001b[0m\u001b[0;34m\u001b[0m\u001b[0;34m\u001b[0m\u001b[0m\n",
            "\u001b[0;32m/usr/local/lib/python3.7/dist-packages/torch/nn/modules/dropout.py\u001b[0m in \u001b[0;36mforward\u001b[0;34m(self, input)\u001b[0m\n\u001b[1;32m     56\u001b[0m \u001b[0;34m\u001b[0m\u001b[0m\n\u001b[1;32m     57\u001b[0m     \u001b[0;32mdef\u001b[0m \u001b[0mforward\u001b[0m\u001b[0;34m(\u001b[0m\u001b[0mself\u001b[0m\u001b[0;34m,\u001b[0m \u001b[0minput\u001b[0m\u001b[0;34m:\u001b[0m \u001b[0mTensor\u001b[0m\u001b[0;34m)\u001b[0m \u001b[0;34m->\u001b[0m \u001b[0mTensor\u001b[0m\u001b[0;34m:\u001b[0m\u001b[0;34m\u001b[0m\u001b[0;34m\u001b[0m\u001b[0m\n\u001b[0;32m---> 58\u001b[0;31m         \u001b[0;32mreturn\u001b[0m \u001b[0mF\u001b[0m\u001b[0;34m.\u001b[0m\u001b[0mdropout\u001b[0m\u001b[0;34m(\u001b[0m\u001b[0minput\u001b[0m\u001b[0;34m,\u001b[0m \u001b[0mself\u001b[0m\u001b[0;34m.\u001b[0m\u001b[0mp\u001b[0m\u001b[0;34m,\u001b[0m \u001b[0mself\u001b[0m\u001b[0;34m.\u001b[0m\u001b[0mtraining\u001b[0m\u001b[0;34m,\u001b[0m \u001b[0mself\u001b[0m\u001b[0;34m.\u001b[0m\u001b[0minplace\u001b[0m\u001b[0;34m)\u001b[0m\u001b[0;34m\u001b[0m\u001b[0;34m\u001b[0m\u001b[0m\n\u001b[0m\u001b[1;32m     59\u001b[0m \u001b[0;34m\u001b[0m\u001b[0m\n\u001b[1;32m     60\u001b[0m \u001b[0;34m\u001b[0m\u001b[0m\n",
            "\u001b[0;32m/usr/local/lib/python3.7/dist-packages/torch/nn/functional.py\u001b[0m in \u001b[0;36mdropout\u001b[0;34m(input, p, training, inplace)\u001b[0m\n\u001b[1;32m   1074\u001b[0m     \u001b[0;32mif\u001b[0m \u001b[0mp\u001b[0m \u001b[0;34m<\u001b[0m \u001b[0;36m0.0\u001b[0m \u001b[0;32mor\u001b[0m \u001b[0mp\u001b[0m \u001b[0;34m>\u001b[0m \u001b[0;36m1.0\u001b[0m\u001b[0;34m:\u001b[0m\u001b[0;34m\u001b[0m\u001b[0;34m\u001b[0m\u001b[0m\n\u001b[1;32m   1075\u001b[0m         \u001b[0;32mraise\u001b[0m \u001b[0mValueError\u001b[0m\u001b[0;34m(\u001b[0m\u001b[0;34m\"dropout probability has to be between 0 and 1, \"\u001b[0m \u001b[0;34m\"but got {}\"\u001b[0m\u001b[0;34m.\u001b[0m\u001b[0mformat\u001b[0m\u001b[0;34m(\u001b[0m\u001b[0mp\u001b[0m\u001b[0;34m)\u001b[0m\u001b[0;34m)\u001b[0m\u001b[0;34m\u001b[0m\u001b[0;34m\u001b[0m\u001b[0m\n\u001b[0;32m-> 1076\u001b[0;31m     \u001b[0;32mreturn\u001b[0m \u001b[0m_VF\u001b[0m\u001b[0;34m.\u001b[0m\u001b[0mdropout_\u001b[0m\u001b[0;34m(\u001b[0m\u001b[0minput\u001b[0m\u001b[0;34m,\u001b[0m \u001b[0mp\u001b[0m\u001b[0;34m,\u001b[0m \u001b[0mtraining\u001b[0m\u001b[0;34m)\u001b[0m \u001b[0;32mif\u001b[0m \u001b[0minplace\u001b[0m \u001b[0;32melse\u001b[0m \u001b[0m_VF\u001b[0m\u001b[0;34m.\u001b[0m\u001b[0mdropout\u001b[0m\u001b[0;34m(\u001b[0m\u001b[0minput\u001b[0m\u001b[0;34m,\u001b[0m \u001b[0mp\u001b[0m\u001b[0;34m,\u001b[0m \u001b[0mtraining\u001b[0m\u001b[0;34m)\u001b[0m\u001b[0;34m\u001b[0m\u001b[0;34m\u001b[0m\u001b[0m\n\u001b[0m\u001b[1;32m   1077\u001b[0m \u001b[0;34m\u001b[0m\u001b[0m\n\u001b[1;32m   1078\u001b[0m \u001b[0;34m\u001b[0m\u001b[0m\n",
            "\u001b[0;31mKeyboardInterrupt\u001b[0m: "
          ]
        }
      ]
    },
    {
      "cell_type": "markdown",
      "metadata": {
        "id": "jKzidQUQVpsL"
      },
      "source": [
        "# Evaluation\n",
        "\n",
        "## Plot the results"
      ]
    },
    {
      "cell_type": "code",
      "metadata": {
        "colab": {
          "base_uri": "https://localhost:8080/",
          "height": 283
        },
        "id": "jhO2DKa0VpsM",
        "outputId": "b034e1eb-3980-4ead-8557-ee7ac675c4df"
      },
      "source": [
        "fig, ax = plt.subplots(1, 2, figsize=(16, 4))\n",
        "\n",
        "sns.lineplot(data=metrics['train_loss'], ax=ax[0], label='train loss')\n",
        "sns.lineplot(data=metrics['dev_loss'], ax=ax[0], label='dev loss')\n",
        "\n",
        "sns.lineplot(data=metrics['train_accuracy'], ax=ax[1], label='train acc')\n",
        "sns.lineplot(data=metrics['dev_accuracy'], ax=ax[1], label='dev acc')"
      ],
      "execution_count": 181,
      "outputs": [
        {
          "output_type": "execute_result",
          "data": {
            "text/plain": [
              "<matplotlib.axes._subplots.AxesSubplot at 0x7fe9da707550>"
            ]
          },
          "metadata": {
            "tags": []
          },
          "execution_count": 181
        },
        {
          "output_type": "display_data",
          "data": {
            "image/png": "[encoded data removed]",
            "text/plain": [
              "<Figure size 1152x288 with 2 Axes>"
            ]
          },
          "metadata": {
            "tags": [],
            "needs_background": "light"
          }
        }
      ]
    },
    {
      "cell_type": "markdown",
      "metadata": {
        "id": "IablMGf9VpsM"
      },
      "source": [
        "## Test accuracy"
      ]
    },
    {
      "cell_type": "code",
      "metadata": {
        "colab": {
          "base_uri": "https://localhost:8080/"
        },
        "id": "97e5_5OTVpsM",
        "outputId": "00b18569-dc8f-4f7b-ee61-06665a537892"
      },
      "source": [
        "logits = model(X_test, seqlen_test)\n",
        "test_prediction = logits.argmax(axis=1)\n",
        "test_accuracy = torch.sum(torch.eq(test_prediction, y_test)) / float(test_prediction.size(0))\n",
        "print(f\"Test accuracy: {test_accuracy:.1%}\")"
      ],
      "execution_count": 33,
      "outputs": [
        {
          "output_type": "stream",
          "text": [
            "Test accuracy: 95.0%\n"
          ],
          "name": "stdout"
        }
      ]
    },
    {
      "cell_type": "markdown",
      "metadata": {
        "id": "V-4d6fyYVpsM"
      },
      "source": [
        "## Error analysis"
      ]
    },
    {
      "cell_type": "code",
      "metadata": {
        "id": "j5wMhEDCVpsN"
      },
      "source": [
        "test_df['prediction'] = test_prediction"
      ],
      "execution_count": 34,
      "outputs": []
    },
    {
      "cell_type": "code",
      "metadata": {
        "id": "2mfBwT4aVpsN"
      },
      "source": [
        "id_to_label = {i: l for l, i in label_to_id.items()}\n",
        "test_df['predicted_target'] = test_df['prediction'].apply(lambda id_: id_to_label[id_])"
      ],
      "execution_count": 35,
      "outputs": []
    },
    {
      "cell_type": "code",
      "metadata": {
        "colab": {
          "base_uri": "https://localhost:8080/",
          "height": 355
        },
        "id": "QfZMZMuNVpsN",
        "outputId": "e024c046-64c2-4bae-a5f3-6edf7611e05b"
      },
      "source": [
        "incorrect = test_df[test_df.prediction != test_df.label][['infl', 'target', 'predicted_target']]\n",
        "incorrect.sample(min(len(incorrect), 20))"
      ],
      "execution_count": 36,
      "outputs": [
        {
          "output_type": "execute_result",
          "data": {
            "text/html": [
              "<div>\n",
              "<style scoped>\n",
              "    .dataframe tbody tr th:only-of-type {\n",
              "        vertical-align: middle;\n",
              "    }\n",
              "\n",
              "    .dataframe tbody tr th {\n",
              "        vertical-align: top;\n",
              "    }\n",
              "\n",
              "    .dataframe thead th {\n",
              "        text-align: right;\n",
              "    }\n",
              "</style>\n",
              "<table border=\"1\" class=\"dataframe\">\n",
              "  <thead>\n",
              "    <tr style=\"text-align: right;\">\n",
              "      <th></th>\n",
              "      <th>infl</th>\n",
              "      <th>target</th>\n",
              "      <th>predicted_target</th>\n",
              "    </tr>\n",
              "  </thead>\n",
              "  <tbody>\n",
              "    <tr>\n",
              "      <th>109</th>\n",
              "      <td>csöpögjön</td>\n",
              "      <td>SBJV</td>\n",
              "      <td>COND</td>\n",
              "    </tr>\n",
              "    <tr>\n",
              "      <th>112</th>\n",
              "      <td>lemész|or|</td>\n",
              "      <td>IND</td>\n",
              "      <td>SBJV</td>\n",
              "    </tr>\n",
              "    <tr>\n",
              "      <th>24</th>\n",
              "      <td>legyőznek</td>\n",
              "      <td>IND</td>\n",
              "      <td>SBJV</td>\n",
              "    </tr>\n",
              "    <tr>\n",
              "      <th>133</th>\n",
              "      <td>ágyazza</td>\n",
              "      <td>SBJV</td>\n",
              "      <td>IND</td>\n",
              "    </tr>\n",
              "    <tr>\n",
              "      <th>173</th>\n",
              "      <td>kacagjátok</td>\n",
              "      <td>SBJV</td>\n",
              "      <td>IND</td>\n",
              "    </tr>\n",
              "    <tr>\n",
              "      <th>11</th>\n",
              "      <td>vacsorázzuk</td>\n",
              "      <td>SBJV</td>\n",
              "      <td>IND</td>\n",
              "    </tr>\n",
              "    <tr>\n",
              "      <th>134</th>\n",
              "      <td>felfrissítették</td>\n",
              "      <td>IND</td>\n",
              "      <td>SBJV</td>\n",
              "    </tr>\n",
              "    <tr>\n",
              "      <th>159</th>\n",
              "      <td>kóstolja</td>\n",
              "      <td>IND</td>\n",
              "      <td>SBJV</td>\n",
              "    </tr>\n",
              "    <tr>\n",
              "      <th>197</th>\n",
              "      <td>fakasszátok</td>\n",
              "      <td>SBJV</td>\n",
              "      <td>IND</td>\n",
              "    </tr>\n",
              "    <tr>\n",
              "      <th>38</th>\n",
              "      <td>stagnáljatok</td>\n",
              "      <td>SBJV</td>\n",
              "      <td>IND</td>\n",
              "    </tr>\n",
              "  </tbody>\n",
              "</table>\n",
              "</div>"
            ],
            "text/plain": [
              "                infl target predicted_target\n",
              "109        csöpögjön   SBJV             COND\n",
              "112       lemész|or|    IND             SBJV\n",
              "24         legyőznek    IND             SBJV\n",
              "133          ágyazza   SBJV              IND\n",
              "173       kacagjátok   SBJV              IND\n",
              "11       vacsorázzuk   SBJV              IND\n",
              "134  felfrissítették    IND             SBJV\n",
              "159         kóstolja    IND             SBJV\n",
              "197      fakasszátok   SBJV              IND\n",
              "38      stagnáljatok   SBJV              IND"
            ]
          },
          "metadata": {
            "tags": []
          },
          "execution_count": 36
        }
      ]
    },
    {
      "cell_type": "code",
      "metadata": {
        "id": "tCFdZVIIVpsN"
      },
      "source": [
        ""
      ],
      "execution_count": null,
      "outputs": []
    },
    {
      "cell_type": "code",
      "metadata": {
        "id": "1mmOfMwsVpsO"
      },
      "source": [
        ""
      ],
      "execution_count": null,
      "outputs": []
    },
    {
      "cell_type": "markdown",
      "metadata": {
        "id": "MSuy-M7TX2je"
      },
      "source": [
        ""
      ]
    }
  ]
}