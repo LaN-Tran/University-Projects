{
 "cells": [
  {
   "cell_type": "markdown",
   "metadata": {
    "deletable": false,
    "editable": false,
    "nbgrader": {
     "cell_type": "markdown",
     "checksum": "dd272cff4f7ed23fef8495edb73e127a",
     "grade": false,
     "grade_id": "cell-18aa372eaf5bcf9d",
     "locked": true,
     "schema_version": 3,
     "solution": false,
     "task": false
    }
   },
   "source": [
    "# Introduction to Python and Natural Language Technologies\n",
    "\n",
    "__Laboratory 4, Numpy__\n",
    "\n",
    "__March 4, 2021__\n",
    "\n",
    "__Gábor Borbély, Judit Ács__"
   ]
  },
  {
   "cell_type": "code",
   "execution_count": 1,
   "metadata": {
    "deletable": false,
    "editable": false,
    "nbgrader": {
     "cell_type": "code",
     "checksum": "38ddb7c7f1fe20997a1a250312e03863",
     "grade": false,
     "grade_id": "cell-329a538418e6d4b5",
     "locked": true,
     "schema_version": 3,
     "solution": false,
     "task": false
    }
   },
   "outputs": [],
   "source": [
    "import numpy as np\n",
    "\n",
    "import matplotlib.pyplot as plt\n",
    "%matplotlib inline"
   ]
  },
  {
   "cell_type": "markdown",
   "metadata": {
    "deletable": false,
    "editable": false,
    "nbgrader": {
     "cell_type": "markdown",
     "checksum": "8b3e463e4c507ede7c42b19816ef1226",
     "grade": false,
     "grade_id": "cell-b9e0550f83609243",
     "locked": true,
     "schema_version": 3,
     "solution": false,
     "task": false
    }
   },
   "source": [
    "# 1. Numpy basic exercises\n",
    "\n",
    "Use vectorization and avoid for loops in all exercises. Implement each exercise as a single function.\n",
    "\n",
    "## 1.1 Implement standardization for 2D arrays.\n",
    "\n",
    "Standardization is defined as:\n",
    "\n",
    "\\begin{equation*}\n",
    "X_{std} = \\frac{X - \\mu}{\\sigma},\n",
    "\\end{equation*}\n",
    "\n",
    "where $\\mu$ is the mean of each row and $\\rho$ is the standard deviation of each row."
   ]
  },
  {
   "cell_type": "code",
   "execution_count": 2,
   "metadata": {
    "deletable": false,
    "nbgrader": {
     "cell_type": "code",
     "checksum": "d4b98722057255638095e758bc129f1f",
     "grade": false,
     "grade_id": "cell-053e17e70271858e",
     "locked": false,
     "schema_version": 3,
     "solution": true,
     "task": false
    }
   },
   "outputs": [
    {
     "data": {
      "text/plain": [
       "array([[-0.70710678, -0.70710678],\n",
       "       [ 1.41421356,  1.41421356],\n",
       "       [-0.70710678, -0.70710678]])"
      ]
     },
     "execution_count": 2,
     "metadata": {},
     "output_type": "execute_result"
    }
   ],
   "source": [
    "'''\n",
    "A = np.array([[1, 2], [3, 4], [5, 6]])\n",
    "A\n",
    "#array([[1, 2],\n",
    "#       [3, 4],\n",
    "#       [5, 6]])\n",
    "#A.sum(axis=2) # ERROR: axis 2 is out of bounds for array of dimension 2\n",
    "              # Because the A is 2D => it has only 2 axes, along column axis has index 0 (axis=0),\n",
    "              # while along row axis has index 1 (axis=1).\n",
    "A.sum(axis=1) # array([ 3,  7, 11])\n",
    "B=np.array([[1, 2], [3, 4], [5, 6]])\n",
    "C=A-B # C: array([[0, 0],\n",
    "      #          [0, 0],\n",
    "      #          [0, 0]])\n",
    "D=np.hstack((C,C))\n",
    "D # array([[0, 0, 0, 0],\n",
    "  #     [0, 0, 0, 0],\n",
    "  #     [0, 0, 0, 0]])\n",
    "\n",
    "M=A.sum(axis=1).reshape(3,1)\n",
    "'''\n",
    "def standardize(X):\n",
    "    A = (X - np.mean(X, axis=0)) / np.std(X, axis=0) #reference: Standardization of an numpy array Stackoverflow\n",
    "    return A\n",
    "X_std=standardize(np.array([[1, 2], [2, 3], [1, 2]]))\n",
    "X_std\n"
   ]
  },
  {
   "cell_type": "code",
   "execution_count": 3,
   "metadata": {
    "deletable": false,
    "editable": false,
    "nbgrader": {
     "cell_type": "code",
     "checksum": "ce38f1d59e66616d1aec6e87258c56cf",
     "grade": true,
     "grade_id": "cell-c63a4f94adc0d2c8",
     "locked": true,
     "points": 0,
     "schema_version": 3,
     "solution": false,
     "task": false
    }
   },
   "outputs": [],
   "source": [
    "X_std = standardize(np.array([[1, 2], [2, 3], [1, 2]]))\n",
    "\n",
    "answer = np.array(\n",
    "    [[-0.70710678, -0.70710678],\n",
    "     [ 1.41421356,  1.41421356],\n",
    "     [-0.70710678, -0.70710678]])\n",
    "assert np.allclose(X_std, answer)"
   ]
  },
  {
   "cell_type": "markdown",
   "metadata": {
    "deletable": false,
    "editable": false,
    "nbgrader": {
     "cell_type": "markdown",
     "checksum": "2808b098e2239a9eea3a4d586bad2c1f",
     "grade": false,
     "grade_id": "cell-5765294ded24218d",
     "locked": true,
     "schema_version": 3,
     "solution": false,
     "task": false
    }
   },
   "source": [
    "## 1.2 Implement normalization for 2D arrays.\n",
    "\n",
    "Normalization is defined as:\n",
    "\n",
    "\\begin{equation*}\n",
    "X_{norm} = \\frac{X - X_{min}}{X_{max} - X_{min}}\n",
    "\\end{equation*}"
   ]
  },
  {
   "cell_type": "code",
   "execution_count": 4,
   "metadata": {
    "deletable": false,
    "nbgrader": {
     "cell_type": "code",
     "checksum": "4f9aa2c94a553bbf9835f404ba95fab1",
     "grade": false,
     "grade_id": "cell-7aefa84284167b19",
     "locked": false,
     "schema_version": 3,
     "solution": true,
     "task": false
    }
   },
   "outputs": [
    {
     "data": {
      "text/plain": [
       "array([[0., 0., 1.],\n",
       "       [1., 1., 0.]])"
      ]
     },
     "execution_count": 4,
     "metadata": {},
     "output_type": "execute_result"
    }
   ],
   "source": [
    "'''\n",
    "X = np.arange(6).reshape(2, 3)\n",
    "X\n",
    "X[1, 2] = -5\n",
    "X\n",
    "# find min or max within a dimesion: reference: https://jakevdp.github.io/PythonDataScienceHandbook/02.04-computation-on-arrays-aggregates.html\n",
    "'''\n",
    "\n",
    "def normalize(X):\n",
    "    A=(X-X.min(axis=0))/(X.max(axis=0)-X.min(axis=0))\n",
    "    return A\n",
    "    \n",
    "                    \n",
    "X = np.arange(6).reshape(2, 3)\n",
    "#X\n",
    "X[1, 2] = -5\n",
    "T=normalize(X)\n",
    "T\n"
   ]
  },
  {
   "cell_type": "code",
   "execution_count": 5,
   "metadata": {
    "deletable": false,
    "editable": false,
    "nbgrader": {
     "cell_type": "code",
     "checksum": "6c8480aac10bce0936d6250dcb0a6de4",
     "grade": true,
     "grade_id": "cell-71ecc8c7e90aa23f",
     "locked": true,
     "points": 0,
     "schema_version": 3,
     "solution": false,
     "task": false
    }
   },
   "outputs": [],
   "source": [
    "answer = np.array(\n",
    "    [[0., 0., 1.],\n",
    "     [1., 1., 0.]]\n",
    ")\n",
    "X_norm = normalize(X)\n",
    "assert np.allclose(X_norm, answer)"
   ]
  },
  {
   "cell_type": "markdown",
   "metadata": {
    "deletable": false,
    "editable": false,
    "nbgrader": {
     "cell_type": "markdown",
     "checksum": "b88adb8508646ecc355bacea4d55d78d",
     "grade": false,
     "grade_id": "cell-33a886182edd2d31",
     "locked": true,
     "schema_version": 3,
     "solution": false,
     "task": false
    }
   },
   "source": [
    "## 1.3 Implement the softmax function.\n",
    "\n",
    "Softmax is defined as for each row:\n",
    "\n",
    "$$\n",
    "x_i \\mapsto \\frac{\\exp(x_i)}{\\sum_{j=1}^n \\exp(x_j)},\n",
    "$$\n",
    "\n",
    "in other words, softmax maps every row into a probability distribution (all elements are nonnegative and their sum is 1)."
   ]
  },
  {
   "cell_type": "code",
   "execution_count": 6,
   "metadata": {
    "deletable": false,
    "nbgrader": {
     "cell_type": "code",
     "checksum": "2ab7521a5f906635289e631e31670066",
     "grade": false,
     "grade_id": "cell-3f51c2b903a73f7d",
     "locked": false,
     "schema_version": 3,
     "solution": true,
     "task": false
    }
   },
   "outputs": [
    {
     "data": {
      "text/plain": [
       "array([[0.0320586 , 0.08714432, 0.23688282, 0.64391426],\n",
       "       [0.0320586 , 0.08714432, 0.23688282, 0.64391426],\n",
       "       [0.0320586 , 0.08714432, 0.23688282, 0.64391426]])"
      ]
     },
     "execution_count": 6,
     "metadata": {},
     "output_type": "execute_result"
    }
   ],
   "source": [
    "def softmax(X):\n",
    "    # compute softmax along the last dimension\n",
    "    # YOUR CODE HERE\n",
    "    \n",
    "    exp=np.exp(X)\n",
    "    #print(exp)\n",
    "    denum= exp.sum(axis=1)\n",
    "    #print(denum)\n",
    "    denum=denum.reshape(len(X[:,0]),1)\n",
    "    #print(denum)\n",
    "    T=exp/ denum.reshape(len(X[:,0]),1)\n",
    "    #print(T)\n",
    "    return T\n",
    "X = np.arange(12).reshape(3, -1)\n",
    "softmax(X)"
   ]
  },
  {
   "cell_type": "code",
   "execution_count": 7,
   "metadata": {
    "deletable": false,
    "editable": false,
    "nbgrader": {
     "cell_type": "code",
     "checksum": "89d1615cf582c6c6ac6881821e9ebec3",
     "grade": true,
     "grade_id": "cell-5b49ba20bb8b7f7d",
     "locked": true,
     "points": 0,
     "schema_version": 3,
     "solution": false,
     "task": false
    }
   },
   "outputs": [],
   "source": [
    "answer = np.array(\n",
    "    [[0.0320586 , 0.08714432, 0.23688282, 0.64391426],\n",
    "     [0.0320586 , 0.08714432, 0.23688282, 0.64391426],\n",
    "     [0.0320586 , 0.08714432, 0.23688282, 0.64391426]]\n",
    ") \n",
    "X = np.arange(12).reshape(3, -1)\n",
    "\n",
    "assert np.allclose(softmax(X), answer)\n",
    "\n",
    "X = np.array([[100, 100], [-100, -100]])\n",
    "assert np.allclose(softmax(X), np.array([[0.5, 0.5], [0.5, 0.5]]))"
   ]
  },
  {
   "cell_type": "code",
   "execution_count": 8,
   "metadata": {
    "deletable": false,
    "editable": false,
    "nbgrader": {
     "cell_type": "code",
     "checksum": "12470c23bd8ee86ab99d76191592a396",
     "grade": true,
     "grade_id": "cell-3cfccb032defb8e7",
     "locked": true,
     "points": 0,
     "schema_version": 3,
     "solution": false,
     "task": false
    }
   },
   "outputs": [],
   "source": [
    "X = np.array([[0, 1, 2],\n",
    "              [2, 1, 2]])\n",
    "\n",
    "answer = np.array([[0.09003057, 0.24472847, 0.66524096],\n",
    "                   [0.4223188 , 0.1553624 , 0.4223188 ]])\n",
    "\n",
    "assert np.allclose(softmax(X), answer)"
   ]
  },
  {
   "cell_type": "markdown",
   "metadata": {
    "deletable": false,
    "editable": false,
    "nbgrader": {
     "cell_type": "markdown",
     "checksum": "cf6680179db37ddf4c840090c29d035f",
     "grade": false,
     "grade_id": "cell-c6f407b80c511876",
     "locked": true,
     "schema_version": 3,
     "solution": false,
     "task": false
    }
   },
   "source": [
    "# 2. Vectorization\n",
    "\n",
    "Rewrite the following examples into vectorized solutions (no for loops and list comprehensions).\n",
    "\n",
    "## 2.1 Row-wise Euclidean norm\n",
    "\n",
    "Write a function which has one parameter, a 2D array and it returns a vector of row-wise Euclidean norms of the input. Use `numpy` operations and vectorization, avoid `for` loops. The solution below is a _bad_ solution."
   ]
  },
  {
   "cell_type": "code",
   "execution_count": 9,
   "metadata": {
    "deletable": false,
    "editable": false,
    "nbgrader": {
     "cell_type": "code",
     "checksum": "e7b990fa003cc8793dd5c32cd306ce85",
     "grade": false,
     "grade_id": "cell-7533a2158ebc43f8",
     "locked": true,
     "schema_version": 3,
     "solution": false,
     "task": false
    }
   },
   "outputs": [
    {
     "name": "stdout",
     "output_type": "stream",
     "text": [
      "[[0. 0. 0.]\n",
      " [1. 1. 1.]\n",
      " [2. 2. 2.]\n",
      " [3. 3. 3.]\n",
      " [4. 4. 4.]]\n",
      "[0.         1.73205081 3.46410162 5.19615242 6.92820323]\n",
      "[1. 1. 1. 1.]\n"
     ]
    }
   ],
   "source": [
    "def rowwise_norm(X):\n",
    "    def my_dot(x, y):\n",
    "        result = 0.0\n",
    "        for i in range(len(x)):\n",
    "            result += x[i] * y[i]\n",
    "        return result\n",
    "    return np.array([np.sqrt(my_dot(x, x)) for x in X])\n",
    "\n",
    "X = np.arange(5)[:, None]*np.ones((5, 3));\n",
    "print(X)\n",
    "print(rowwise_norm(X))\n",
    "print(rowwise_norm([[1], [-1], [1], [-1]]))"
   ]
  },
  {
   "cell_type": "markdown",
   "metadata": {
    "deletable": false,
    "editable": false,
    "nbgrader": {
     "cell_type": "markdown",
     "checksum": "a20b0651b10538e2e93fcd1843fe516c",
     "grade": false,
     "grade_id": "cell-a52e5d1d1ce4904a",
     "locked": true,
     "schema_version": 3,
     "solution": false,
     "task": false
    }
   },
   "source": [
    "Your vectorized solution goes here:"
   ]
  },
  {
   "cell_type": "code",
   "execution_count": 10,
   "metadata": {
    "deletable": false,
    "nbgrader": {
     "cell_type": "code",
     "checksum": "9c812a988d892ae38345fea7bc14e1cd",
     "grade": false,
     "grade_id": "cell-594581dff2c12a65",
     "locked": false,
     "schema_version": 3,
     "solution": true,
     "task": false
    }
   },
   "outputs": [
    {
     "name": "stdout",
     "output_type": "stream",
     "text": [
      "[0.         1.73205081 3.46410162 5.19615242 6.92820323]\n"
     ]
    }
   ],
   "source": [
    "\n",
    "def rowwise_norm(X):\n",
    "   # if type(X) != ndarray:\n",
    "    X=np.array(X) # in case X is not defined by np.array (means X is a list type not np.ndarray type)\n",
    "    Square = X * X\n",
    "    #print(Square)\n",
    "    Row_wise_norm= Square.sum(axis=1)**0.5\n",
    "    #print(Row_wise_norm)\n",
    "    return Row_wise_norm\n",
    "X = np.arange(5)[:, None] * np.ones((5, 3));\n",
    "\n",
    "print(rowwise_norm(X))\n"
   ]
  },
  {
   "cell_type": "code",
   "execution_count": 11,
   "metadata": {
    "deletable": false,
    "editable": false,
    "nbgrader": {
     "cell_type": "code",
     "checksum": "3c8dd0a1266f637a1d7c837fdbae3db1",
     "grade": true,
     "grade_id": "cell-f4dad882c53237a7",
     "locked": true,
     "points": 0,
     "schema_version": 3,
     "solution": false,
     "task": false
    }
   },
   "outputs": [
    {
     "name": "stdout",
     "output_type": "stream",
     "text": [
      "[[0. 0. 0.]\n",
      " [1. 1. 1.]\n",
      " [2. 2. 2.]\n",
      " [3. 3. 3.]\n",
      " [4. 4. 4.]]\n",
      "[0.         1.73205081 3.46410162 5.19615242 6.92820323]\n"
     ]
    }
   ],
   "source": [
    "X = np.arange(5)[:, None] * np.ones((5, 3));\n",
    "print(X)\n",
    "print(rowwise_norm(X))\n",
    "\n",
    "assert np.allclose(rowwise_norm(X), np.array([0., 1.73205081, 3.46410162, 5.19615242, 6.92820323]))\n",
    "assert np.allclose(rowwise_norm([[1], [-1], [1], [-1]]), np.ones(4))"
   ]
  },
  {
   "cell_type": "markdown",
   "metadata": {
    "deletable": false,
    "editable": false,
    "nbgrader": {
     "cell_type": "markdown",
     "checksum": "125d35f8e98e8a196dbca904aee0a8f9",
     "grade": false,
     "grade_id": "cell-4b621df7a04f4cd8",
     "locked": true,
     "schema_version": 3,
     "solution": false,
     "task": false
    }
   },
   "source": [
    "## 2.2 Chessboard\n",
    "\n",
    "Write a function which has one parameter, a positive integer $n$, and returns an $n\\times n$ array of $\\pm1$ values like a chessboard: $M_{i,j} = (-1)^{i+j}$."
   ]
  },
  {
   "cell_type": "code",
   "execution_count": 12,
   "metadata": {
    "deletable": false,
    "editable": false,
    "nbgrader": {
     "cell_type": "code",
     "checksum": "333838113875f381b7f41dfc14985d59",
     "grade": false,
     "grade_id": "cell-30624fa782bf67b6",
     "locked": true,
     "schema_version": 3,
     "solution": false,
     "task": false
    }
   },
   "outputs": [
    {
     "data": {
      "text/plain": [
       "array([[ 1, -1,  1, -1,  1],\n",
       "       [-1,  1, -1,  1, -1],\n",
       "       [ 1, -1,  1, -1,  1],\n",
       "       [-1,  1, -1,  1, -1],\n",
       "       [ 1, -1,  1, -1,  1]])"
      ]
     },
     "execution_count": 12,
     "metadata": {},
     "output_type": "execute_result"
    }
   ],
   "source": [
    "def chessboard(n):\n",
    "    return np.array([[(-1)**(i + j) for j in range(n)] for i in range(n)])\n",
    "\n",
    "chessboard(5)"
   ]
  },
  {
   "cell_type": "markdown",
   "metadata": {},
   "source": [
    "Your vectorized solution:"
   ]
  },
  {
   "cell_type": "code",
   "execution_count": 13,
   "metadata": {
    "deletable": false,
    "nbgrader": {
     "cell_type": "code",
     "checksum": "9017cefb750e56e01694843122c2be91",
     "grade": false,
     "grade_id": "cell-e0d3c46f473033f4",
     "locked": false,
     "schema_version": 3,
     "solution": true,
     "task": false
    }
   },
   "outputs": [
    {
     "data": {
      "text/plain": [
       "array([[ 1., -1.,  1.],\n",
       "       [-1.,  1., -1.],\n",
       "       [ 1., -1.,  1.]])"
      ]
     },
     "execution_count": 13,
     "metadata": {},
     "output_type": "execute_result"
    }
   ],
   "source": [
    "def chessboard(n):\n",
    "    # YOUR CODE HERE\n",
    "    Board= -np.ones((n,n))\n",
    "    #print(Board)\n",
    "    Exp=np.arange(0,n*n).reshape(n,n)\n",
    "    #print(Exp)\n",
    "    Board = Board ** Exp\n",
    "    #print(Board)\n",
    "    return Board\n",
    "\n",
    "chessboard(3)"
   ]
  },
  {
   "cell_type": "code",
   "execution_count": 14,
   "metadata": {
    "deletable": false,
    "editable": false,
    "nbgrader": {
     "cell_type": "code",
     "checksum": "333ff019cae938b044f024562254c5cd",
     "grade": true,
     "grade_id": "cell-3b842f320efaf57a",
     "locked": true,
     "points": 0,
     "schema_version": 3,
     "solution": false,
     "task": false
    }
   },
   "outputs": [],
   "source": [
    "board5 = np.array([[ 1, -1,  1, -1,  1],\n",
    "                   [-1,  1, -1,  1, -1],\n",
    "                   [ 1, -1,  1, -1,  1],\n",
    "                   [-1,  1, -1,  1, -1],\n",
    "                   [ 1, -1,  1, -1,  1]])\n",
    "assert np.allclose(chessboard(5), board5)\n",
    "assert np.allclose(chessboard(0), np.array([]))"
   ]
  },
  {
   "cell_type": "markdown",
   "metadata": {
    "deletable": false,
    "editable": false,
    "nbgrader": {
     "cell_type": "markdown",
     "checksum": "791a9de11c58b13f2a7b6717c239fa97",
     "grade": false,
     "grade_id": "cell-ef50718bf76ae3e1",
     "locked": true,
     "schema_version": 3,
     "solution": false,
     "task": false
    }
   },
   "source": [
    "# 3. Broadcast quiz\n",
    "\n",
    "Do the following operations work and if so, what is the shape of the resulting array?\n",
    "\n",
    "Can you broadcast these arrays such that they can be added? What will be the shape of the result?\n",
    "\n",
    "Try to figure it out before evaluating the cells."
   ]
  },
  {
   "cell_type": "code",
   "execution_count": 15,
   "metadata": {},
   "outputs": [
    {
     "data": {
      "text/plain": [
       "array([[2., 2., 2.],\n",
       "       [2., 2., 2.],\n",
       "       [2., 2., 2.]])"
      ]
     },
     "execution_count": 15,
     "metadata": {},
     "output_type": "execute_result"
    }
   ],
   "source": [
    "np.ones(3) + np.ones((3, 3)) # it works because np.ones(3) = np.ones(None, 3) or np.ones(-1,3)\n",
    "                             # '3' in np.ones(3) is always (by default) the parameter for the last dimension.\n",
    "                             # result shape:(3,3)   "
   ]
  },
  {
   "cell_type": "code",
   "execution_count": 16,
   "metadata": {},
   "outputs": [
    {
     "data": {
      "text/plain": [
       "array([[2., 2., 2.],\n",
       "       [2., 2., 2.],\n",
       "       [2., 2., 2.],\n",
       "       [2., 2., 2.]])"
      ]
     },
     "execution_count": 16,
     "metadata": {},
     "output_type": "execute_result"
    }
   ],
   "source": [
    "np.ones(3) + np.ones((4, 3)) # it works because np.ones(3) = np.ones(None, 3) or np.ones(-1,3)\n",
    "                             # result shape (4,3)"
   ]
  },
  {
   "cell_type": "code",
   "execution_count": 17,
   "metadata": {},
   "outputs": [
    {
     "data": {
      "text/plain": [
       "array([[2., 2., 2., 2.],\n",
       "       [2., 2., 2., 2.],\n",
       "       [2., 2., 2., 2.]])"
      ]
     },
     "execution_count": 17,
     "metadata": {},
     "output_type": "execute_result"
    }
   ],
   "source": [
    "# np.ones(3) + np.ones((3, 4)) # it doesn't because np.ones(3) = np.ones(None, 3) or np.ones(-1,3)\n",
    "\n",
    "np.ones((3,1))+ np.ones((3, 4)) # result shape (3,4)"
   ]
  },
  {
   "cell_type": "code",
   "execution_count": 18,
   "metadata": {},
   "outputs": [
    {
     "data": {
      "text/plain": [
       "array([[2., 2., 2., 2.],\n",
       "       [2., 2., 2., 2.],\n",
       "       [2., 2., 2., 2.]])"
      ]
     },
     "execution_count": 18,
     "metadata": {},
     "output_type": "execute_result"
    }
   ],
   "source": [
    "np.ones(3)[:, None] + np.ones((3, 4)) # it works because with the post index [:,None] of np.ones(3)\n",
    "                                      # it forces 3 to be the parameter for the first dimension instead of the last dimension."
   ]
  },
  {
   "cell_type": "code",
   "execution_count": 19,
   "metadata": {},
   "outputs": [
    {
     "data": {
      "text/plain": [
       "array([[[2., 2., 2.],\n",
       "        [2., 2., 2.]]])"
      ]
     },
     "execution_count": 19,
     "metadata": {},
     "output_type": "execute_result"
    }
   ],
   "source": [
    "np.ones((1, 2, 3)) + np.ones((1, 3))[:, None, :] # it works because with [:,None,:] it forces the param '1' in np.ones(1,3)\n",
    "                                                 # to be the param for first dimension and the param '3' in np.ones (1,3)\n",
    "                                                 # to be the param for last dimension   "
   ]
  },
  {
   "cell_type": "code",
   "execution_count": 20,
   "metadata": {},
   "outputs": [
    {
     "data": {
      "text/plain": [
       "array([[[2., 2., 2.],\n",
       "        [2., 2., 2.]]])"
      ]
     },
     "execution_count": 20,
     "metadata": {},
     "output_type": "execute_result"
    }
   ],
   "source": [
    "np.ones((1, 2, 3)) + np.ones((1, 3)) # it works"
   ]
  },
  {
   "cell_type": "code",
   "execution_count": 21,
   "metadata": {},
   "outputs": [
    {
     "data": {
      "text/plain": [
       "array([[[[2., 2., 2.],\n",
       "         [2., 2., 2.],\n",
       "         [2., 2., 2.],\n",
       "         ...,\n",
       "         [2., 2., 2.],\n",
       "         [2., 2., 2.],\n",
       "         [2., 2., 2.]],\n",
       "\n",
       "        [[2., 2., 2.],\n",
       "         [2., 2., 2.],\n",
       "         [2., 2., 2.],\n",
       "         ...,\n",
       "         [2., 2., 2.],\n",
       "         [2., 2., 2.],\n",
       "         [2., 2., 2.]],\n",
       "\n",
       "        [[2., 2., 2.],\n",
       "         [2., 2., 2.],\n",
       "         [2., 2., 2.],\n",
       "         ...,\n",
       "         [2., 2., 2.],\n",
       "         [2., 2., 2.],\n",
       "         [2., 2., 2.]],\n",
       "\n",
       "        [[2., 2., 2.],\n",
       "         [2., 2., 2.],\n",
       "         [2., 2., 2.],\n",
       "         ...,\n",
       "         [2., 2., 2.],\n",
       "         [2., 2., 2.],\n",
       "         [2., 2., 2.]]],\n",
       "\n",
       "\n",
       "       [[[2., 2., 2.],\n",
       "         [2., 2., 2.],\n",
       "         [2., 2., 2.],\n",
       "         ...,\n",
       "         [2., 2., 2.],\n",
       "         [2., 2., 2.],\n",
       "         [2., 2., 2.]],\n",
       "\n",
       "        [[2., 2., 2.],\n",
       "         [2., 2., 2.],\n",
       "         [2., 2., 2.],\n",
       "         ...,\n",
       "         [2., 2., 2.],\n",
       "         [2., 2., 2.],\n",
       "         [2., 2., 2.]],\n",
       "\n",
       "        [[2., 2., 2.],\n",
       "         [2., 2., 2.],\n",
       "         [2., 2., 2.],\n",
       "         ...,\n",
       "         [2., 2., 2.],\n",
       "         [2., 2., 2.],\n",
       "         [2., 2., 2.]],\n",
       "\n",
       "        [[2., 2., 2.],\n",
       "         [2., 2., 2.],\n",
       "         [2., 2., 2.],\n",
       "         ...,\n",
       "         [2., 2., 2.],\n",
       "         [2., 2., 2.],\n",
       "         [2., 2., 2.]]],\n",
       "\n",
       "\n",
       "       [[[2., 2., 2.],\n",
       "         [2., 2., 2.],\n",
       "         [2., 2., 2.],\n",
       "         ...,\n",
       "         [2., 2., 2.],\n",
       "         [2., 2., 2.],\n",
       "         [2., 2., 2.]],\n",
       "\n",
       "        [[2., 2., 2.],\n",
       "         [2., 2., 2.],\n",
       "         [2., 2., 2.],\n",
       "         ...,\n",
       "         [2., 2., 2.],\n",
       "         [2., 2., 2.],\n",
       "         [2., 2., 2.]],\n",
       "\n",
       "        [[2., 2., 2.],\n",
       "         [2., 2., 2.],\n",
       "         [2., 2., 2.],\n",
       "         ...,\n",
       "         [2., 2., 2.],\n",
       "         [2., 2., 2.],\n",
       "         [2., 2., 2.]],\n",
       "\n",
       "        [[2., 2., 2.],\n",
       "         [2., 2., 2.],\n",
       "         [2., 2., 2.],\n",
       "         ...,\n",
       "         [2., 2., 2.],\n",
       "         [2., 2., 2.],\n",
       "         [2., 2., 2.]]],\n",
       "\n",
       "\n",
       "       [[[2., 2., 2.],\n",
       "         [2., 2., 2.],\n",
       "         [2., 2., 2.],\n",
       "         ...,\n",
       "         [2., 2., 2.],\n",
       "         [2., 2., 2.],\n",
       "         [2., 2., 2.]],\n",
       "\n",
       "        [[2., 2., 2.],\n",
       "         [2., 2., 2.],\n",
       "         [2., 2., 2.],\n",
       "         ...,\n",
       "         [2., 2., 2.],\n",
       "         [2., 2., 2.],\n",
       "         [2., 2., 2.]],\n",
       "\n",
       "        [[2., 2., 2.],\n",
       "         [2., 2., 2.],\n",
       "         [2., 2., 2.],\n",
       "         ...,\n",
       "         [2., 2., 2.],\n",
       "         [2., 2., 2.],\n",
       "         [2., 2., 2.]],\n",
       "\n",
       "        [[2., 2., 2.],\n",
       "         [2., 2., 2.],\n",
       "         [2., 2., 2.],\n",
       "         ...,\n",
       "         [2., 2., 2.],\n",
       "         [2., 2., 2.],\n",
       "         [2., 2., 2.]]],\n",
       "\n",
       "\n",
       "       [[[2., 2., 2.],\n",
       "         [2., 2., 2.],\n",
       "         [2., 2., 2.],\n",
       "         ...,\n",
       "         [2., 2., 2.],\n",
       "         [2., 2., 2.],\n",
       "         [2., 2., 2.]],\n",
       "\n",
       "        [[2., 2., 2.],\n",
       "         [2., 2., 2.],\n",
       "         [2., 2., 2.],\n",
       "         ...,\n",
       "         [2., 2., 2.],\n",
       "         [2., 2., 2.],\n",
       "         [2., 2., 2.]],\n",
       "\n",
       "        [[2., 2., 2.],\n",
       "         [2., 2., 2.],\n",
       "         [2., 2., 2.],\n",
       "         ...,\n",
       "         [2., 2., 2.],\n",
       "         [2., 2., 2.],\n",
       "         [2., 2., 2.]],\n",
       "\n",
       "        [[2., 2., 2.],\n",
       "         [2., 2., 2.],\n",
       "         [2., 2., 2.],\n",
       "         ...,\n",
       "         [2., 2., 2.],\n",
       "         [2., 2., 2.],\n",
       "         [2., 2., 2.]]]])"
      ]
     },
     "execution_count": 21,
     "metadata": {},
     "output_type": "execute_result"
    }
   ],
   "source": [
    "# np.ones((4, 20, 3)) + np.ones((5, 3)) # it doesn't work\n",
    "np.ones((1,4, 20, 3)) + np.ones((5,1,1, 3)) # the result shape (5,4,20,3) "
   ]
  },
  {
   "cell_type": "markdown",
   "metadata": {
    "deletable": false,
    "editable": false,
    "nbgrader": {
     "cell_type": "markdown",
     "checksum": "34f9752628c31422d90f72a82ea4dcc1",
     "grade": false,
     "grade_id": "cell-3d91082b3c109724",
     "locked": true,
     "schema_version": 3,
     "solution": false,
     "task": false
    }
   },
   "source": [
    "# 4. Numpy advanced exercises\n",
    "\n",
    "## 4.1 Blockmatrix\n",
    "\n",
    "Write a function named __`blockmatrix`__ that produces the following (block) matrix:\n",
    "$$\n",
    "\\left(\\begin{array}{ccc|ccc}\n",
    " 1 & \\cdots & 1& 0 & \\cdots & 0 \\\\\n",
    " \\vdots & & \\vdots  & \\vdots & & \\vdots \\\\\n",
    "  1& \\cdots & 1 & 0 & \\cdots & 0 \\\\\\hline\n",
    "  0 & \\cdots & 0 & 1 & \\cdots & 1 \\\\\n",
    "  \\vdots & & \\vdots & \\vdots & & \\vdots \\\\\n",
    "  0 & \\cdots & 0 & 1 & \\cdots & 1\n",
    "\\end{array}\\right)\n",
    "$$\n",
    "The function should have 2 positive integer parameters, the size of the first square block and the size of the last square block. The other two blocks should have the appropriate size (may be rectangle).\n",
    "Both the first and last blocks are constant $1$ matrices.\n",
    "Return the resulted matrix.\n",
    "\n",
    "Use matrix initializers: `ones`, `zeros` and concatenation."
   ]
  },
  {
   "cell_type": "code",
   "execution_count": 22,
   "metadata": {
    "deletable": false,
    "nbgrader": {
     "cell_type": "code",
     "checksum": "721a7d4e4957c36a108645b63c786066",
     "grade": false,
     "grade_id": "cell-1bf312e2fb3e05d4",
     "locked": false,
     "schema_version": 3,
     "solution": true,
     "task": false
    }
   },
   "outputs": [
    {
     "data": {
      "text/plain": [
       "array([[1., 1., 0., 0., 0., 0., 0.],\n",
       "       [1., 1., 0., 0., 0., 0., 0.],\n",
       "       [0., 0., 1., 1., 1., 1., 1.],\n",
       "       [0., 0., 1., 1., 1., 1., 1.],\n",
       "       [0., 0., 1., 1., 1., 1., 1.],\n",
       "       [0., 0., 1., 1., 1., 1., 1.],\n",
       "       [0., 0., 1., 1., 1., 1., 1.]])"
      ]
     },
     "execution_count": 22,
     "metadata": {},
     "output_type": "execute_result"
    }
   ],
   "source": [
    "def blockmatrix(n, m):\n",
    "    # YOUR CODE HERE\n",
    "    TLBlock= np.ones((n,n))\n",
    "    #print(TLBlock)\n",
    "    BRBlock = np.ones((m,m))\n",
    "    #print(BRBlock)\n",
    "    TRBlock=np.zeros((n,m))\n",
    "    #print(TRBlock)\n",
    "    BLBlock=np.zeros((m,n))\n",
    "    #print(BLBlock)\n",
    "    TBlock= np.concatenate((TLBlock, TRBlock), axis=1)\n",
    "    #print(TBlock)\n",
    "    BBlock=np.concatenate((BLBlock,BRBlock),axis=1)\n",
    "    #print(BBlock)\n",
    "    #print(np.concatenate((TBlock,BBlock), axis=0))\n",
    "    return np.concatenate((TBlock,BBlock), axis=0)\n",
    "\n",
    "blockmatrix(2, 5)"
   ]
  },
  {
   "cell_type": "code",
   "execution_count": 23,
   "metadata": {
    "deletable": false,
    "editable": false,
    "nbgrader": {
     "cell_type": "code",
     "checksum": "8c58e670d7fd55ba4fada1eebb100d2d",
     "grade": true,
     "grade_id": "cell-3a6ef7655e12b536",
     "locked": true,
     "points": 0,
     "schema_version": 3,
     "solution": false,
     "task": false
    }
   },
   "outputs": [],
   "source": [
    "block_mtx_3_2 = np.array([[1., 1., 1., 0., 0.],\n",
    "                          [1., 1., 1., 0., 0.],\n",
    "                          [1., 1., 1., 0., 0.],\n",
    "                          [0., 0., 0., 1., 1.],\n",
    "                          [0., 0., 0., 1., 1.]])\n",
    "assert np.allclose(blockmatrix(3, 2), block_mtx_3_2)\n",
    "assert np.allclose(blockmatrix(0, 0), np.array([]))\n",
    "assert np.allclose(blockmatrix(1, 1), np.eye(2))"
   ]
  },
  {
   "cell_type": "markdown",
   "metadata": {},
   "source": [
    "# ================ PASSING LEVEL ===================="
   ]
  },
  {
   "cell_type": "markdown",
   "metadata": {
    "deletable": false,
    "editable": false,
    "nbgrader": {
     "cell_type": "markdown",
     "checksum": "3d04c72632246fb6c813fc83bf91ff9c",
     "grade": false,
     "grade_id": "cell-b8b4a90244e519a6",
     "locked": true,
     "schema_version": 3,
     "solution": false,
     "task": false
    }
   },
   "source": [
    "## 4.2 Blockmatrix from arbitrary square matrices\n",
    "\n",
    "Write a blockmatrix function that takes any number of square matrices and returns a blockmatrix with these matrices in the diagonal. You can use one for loop for this solution (list comprehensions count as a for loop)."
   ]
  },
  {
   "cell_type": "code",
   "execution_count": 24,
   "metadata": {
    "deletable": false,
    "nbgrader": {
     "cell_type": "code",
     "checksum": "640774f822722be706bd7ad23a68426e",
     "grade": false,
     "grade_id": "cell-5ae5fec188fd7419",
     "locked": false,
     "schema_version": 3,
     "solution": true,
     "task": false
    }
   },
   "outputs": [
    {
     "data": {
      "text/plain": [
       "array([[0., 1., 2., 0., 0., 0., 0., 0., 0., 0.],\n",
       "       [3., 4., 5., 0., 0., 0., 0., 0., 0., 0.],\n",
       "       [6., 7., 8., 0., 0., 0., 0., 0., 0., 0.],\n",
       "       [0., 0., 0., 2., 0., 0., 0., 0., 0., 0.],\n",
       "       [0., 0., 0., 0., 3., 0., 0., 0., 0., 0.],\n",
       "       [0., 0., 0., 0., 0., 0., 1., 2., 0., 0.],\n",
       "       [0., 0., 0., 0., 0., 3., 4., 5., 0., 0.],\n",
       "       [0., 0., 0., 0., 0., 6., 7., 8., 0., 0.],\n",
       "       [0., 0., 0., 0., 0., 0., 0., 0., 2., 0.],\n",
       "       [0., 0., 0., 0., 0., 0., 0., 0., 0., 3.]])"
      ]
     },
     "execution_count": 24,
     "metadata": {},
     "output_type": "execute_result"
    }
   ],
   "source": [
    "def any_blockmatrix(*matrices):\n",
    "    # YOUR CODE HERE\n",
    "    \n",
    "    for x in range(0, len(matrices)):\n",
    "    #print(len(matrices[0][:,0])) # number of rows in a matrix\n",
    "    #print(len(matrices[0][0,:])) # number of columns in a matrix\n",
    "        if x==0:\n",
    "            Block=matrices[0]\n",
    "        else:\n",
    "            #print(\"second\")\n",
    "            #print(x)\n",
    "            TLBlock= Block\n",
    "            TRBlock= np.zeros( (len(Block[:,0]), len(matrices[x][0,:])) )\n",
    "            BLBlock= np.zeros( (len(matrices[x][:,0]), len(Block[0,:])) )\n",
    "            BRBlock= matrices[x]\n",
    "            TBlock= np.concatenate((TLBlock, TRBlock), axis=1)\n",
    "            BBlock= np.concatenate((BLBlock, BRBlock), axis=1)\n",
    "            Block= np.concatenate((TBlock, BBlock), axis=0)\n",
    "    return Block\n",
    "    \n",
    "A = np.arange(9).reshape(3, 3)\n",
    "B = np.diag((2, 3))\n",
    "any_blockmatrix(A, B, A, B)\n",
    "#B\n",
    "#any_blockmatrix(np.ones((2, 2)), 3 * np.ones((3, 3)))\n"
   ]
  },
  {
   "cell_type": "code",
   "execution_count": 25,
   "metadata": {
    "deletable": false,
    "editable": false,
    "nbgrader": {
     "cell_type": "code",
     "checksum": "13b7de2d49efdb5b9c5c2821f8bc8dcc",
     "grade": true,
     "grade_id": "cell-b3fc092f12ccd7cd",
     "locked": true,
     "points": 0,
     "schema_version": 3,
     "solution": false,
     "task": false
    }
   },
   "outputs": [],
   "source": [
    "block_mtx = np.array([[0., 1., 2., 0., 0., 0., 0., 0., 0., 0.],\n",
    "                      [3., 4., 5., 0., 0., 0., 0., 0., 0., 0.],\n",
    "                      [6., 7., 8., 0., 0., 0., 0., 0., 0., 0.],\n",
    "                      [0., 0., 0., 2., 0., 0., 0., 0., 0., 0.],\n",
    "                      [0., 0., 0., 0., 3., 0., 0., 0., 0., 0.],\n",
    "                      [0., 0., 0., 0., 0., 0., 1., 2., 0., 0.],\n",
    "                      [0., 0., 0., 0., 0., 3., 4., 5., 0., 0.],\n",
    "                      [0., 0., 0., 0., 0., 6., 7., 8., 0., 0.],\n",
    "                      [0., 0., 0., 0., 0., 0., 0., 0., 2., 0.],\n",
    "                      [0., 0., 0., 0., 0., 0., 0., 0., 0., 3.]])\n",
    "A = np.arange(9).reshape(3, 3)\n",
    "B = np.diag((2, 3))\n",
    "assert np.allclose(any_blockmatrix(A, B, A, B), block_mtx)\n",
    "\n",
    "block_mtx2 = np.array([[1., 1., 0., 0., 0.],\n",
    "                       [1., 1., 0., 0., 0.],\n",
    "                       [0., 0., 3., 3., 3.],\n",
    "                       [0., 0., 3., 3., 3.],\n",
    "                       [0., 0., 3., 3., 3.]])\n",
    "assert np.allclose(any_blockmatrix(np.ones((2, 2)), 3 * np.ones((3, 3))), block_mtx2)"
   ]
  },
  {
   "cell_type": "markdown",
   "metadata": {
    "deletable": false,
    "editable": false,
    "nbgrader": {
     "cell_type": "markdown",
     "checksum": "7d87bd11fc8eaaec2e7a12b19830b2fe",
     "grade": false,
     "grade_id": "cell-6d46c1bfeb9df836",
     "locked": true,
     "schema_version": 3,
     "solution": false,
     "task": false
    }
   },
   "source": [
    "## 4.3 Derivative\n",
    "\n",
    "Write a function which numerically derivates a $\\mathbb{R}\\mapsto\\mathbb{R}$ function. Use the forward finite difference.\n",
    "\n",
    "The input is a 1D array of function values, and optionally a 1D vector of abscissa values. If not provided then the abscissa values are unit steps.\n",
    "\n",
    "The result is a 1D array with the length of one less than the input array.\n",
    "\n",
    "Rewrite the following solution without for loops."
   ]
  },
  {
   "cell_type": "code",
   "execution_count": 26,
   "metadata": {
    "deletable": false,
    "editable": false,
    "nbgrader": {
     "cell_type": "code",
     "checksum": "83f7ee2683fa284f94707c53250eac2e",
     "grade": false,
     "grade_id": "cell-c2a6e950289df703",
     "locked": true,
     "schema_version": 3,
     "solution": false,
     "task": false
    }
   },
   "outputs": [
    {
     "data": {
      "text/plain": [
       "array([ 1.,  3.,  5.,  7.,  9., 11., 13., 15., 17.])"
      ]
     },
     "execution_count": 26,
     "metadata": {},
     "output_type": "execute_result"
    }
   ],
   "source": [
    "def derivate(f, x=None):\n",
    "    if x is None:\n",
    "        x = np.arange(len(f))\n",
    "    return np.array([(f[i+1] - f[i]) / (x[i+1] - x[i]) for i in range(len(x) - 1)])\n",
    "\n",
    "derivate(np.arange(10)**2)"
   ]
  },
  {
   "cell_type": "code",
   "execution_count": 27,
   "metadata": {
    "deletable": false,
    "editable": false,
    "nbgrader": {
     "cell_type": "code",
     "checksum": "b8df22d0cb6dbe4ed46f0baff74e5fd9",
     "grade": false,
     "grade_id": "cell-8cb0a48a3af88ea3",
     "locked": true,
     "schema_version": 3,
     "solution": false,
     "task": false
    }
   },
   "outputs": [
    {
     "data": {
      "text/plain": [
       "[<matplotlib.lines.Line2D at 0x22c0c8068b0>]"
      ]
     },
     "execution_count": 27,
     "metadata": {},
     "output_type": "execute_result"
    },
    {
     "data": {
      "image/png": "[encoded data removed]",
      "text/plain": [
       "<Figure size 432x288 with 1 Axes>"
      ]
     },
     "metadata": {
      "needs_background": "light"
     },
     "output_type": "display_data"
    }
   ],
   "source": [
    "x = np.arange(10)\n",
    "plt.plot(x, x**2)\n",
    "plt.plot(x[:-1], derivate(x**2, x))"
   ]
  },
  {
   "cell_type": "markdown",
   "metadata": {
    "deletable": false,
    "editable": false,
    "nbgrader": {
     "cell_type": "markdown",
     "checksum": "b643563bd37224e77bc792f38e0bc1e7",
     "grade": false,
     "grade_id": "cell-eafe9d49238a1e96",
     "locked": true,
     "schema_version": 3,
     "solution": false,
     "task": false
    }
   },
   "source": [
    "Your vectorized solution:"
   ]
  },
  {
   "cell_type": "code",
   "execution_count": 28,
   "metadata": {
    "deletable": false,
    "nbgrader": {
     "cell_type": "code",
     "checksum": "246ea84c558accb4df1e3fc7178fc406",
     "grade": false,
     "grade_id": "cell-3d9d5735780c3e94",
     "locked": false,
     "schema_version": 3,
     "solution": true,
     "task": false
    }
   },
   "outputs": [
    {
     "data": {
      "text/plain": [
       "array([ 1.,  3.,  5.,  7.,  9., 11., 13., 15., 17.])"
      ]
     },
     "execution_count": 28,
     "metadata": {},
     "output_type": "execute_result"
    }
   ],
   "source": [
    "def derivate(f, x=None):\n",
    "    # YOUR CODE HERE\n",
    "    if x is None:\n",
    "        x = np.arange(len(f))\n",
    "    f_forward=np.delete(f,0)\n",
    "    #print(f_forward)\n",
    "    f_behind= np.delete(f,len(f)-1 ) # reference: https://stackoverflow.com/questions/10996140/how-to-remove-specific-elements-in-a-numpy-array?fbclid=IwAR3wXjDrn6xf_-0ktM5ZafnFH60JzWXZhHYi2aoGRtdPH7O8YJdslwU_Jy0\n",
    "    y_dif=f_forward-f_behind\n",
    "    \n",
    "    #print(x)\n",
    "    x_forward= np.delete(x,0)\n",
    "    #print(x_forward)\n",
    "    x_behind=np.delete(x,len(x)-1)\n",
    "    #print(x)\n",
    "    x_dif=x_forward-x_behind\n",
    "    \n",
    "    deriv=y_dif / x_dif\n",
    "    #print(deriv)\n",
    "    \n",
    "    return deriv\n",
    "derivate(np.arange(10)**2)"
   ]
  },
  {
   "cell_type": "code",
   "execution_count": 29,
   "metadata": {
    "deletable": false,
    "editable": false,
    "nbgrader": {
     "cell_type": "code",
     "checksum": "de78da0a73e0bc544f37411ea2243073",
     "grade": true,
     "grade_id": "cell-a1fc0db52d9a48fb",
     "locked": true,
     "points": 0,
     "schema_version": 3,
     "solution": false,
     "task": false
    }
   },
   "outputs": [
    {
     "data": {
      "text/plain": [
       "[<matplotlib.lines.Line2D at 0x22c0c8dcd60>]"
      ]
     },
     "execution_count": 29,
     "metadata": {},
     "output_type": "execute_result"
    },
    {
     "data": {
      "image/png": "[encoded data removed]",
      "text/plain": [
       "<Figure size 432x288 with 1 Axes>"
      ]
     },
     "metadata": {
      "needs_background": "light"
     },
     "output_type": "display_data"
    }
   ],
   "source": [
    "x = np.arange(10)\n",
    "plt.plot(x, x**2)\n",
    "plt.plot(x[:-1], derivate(x**2, x))"
   ]
  },
  {
   "cell_type": "markdown",
   "metadata": {
    "deletable": false,
    "editable": false,
    "nbgrader": {
     "cell_type": "markdown",
     "checksum": "8042168d8bc9e65a765cc06bbec3bf09",
     "grade": false,
     "grade_id": "cell-192bb5252f851fe0",
     "locked": true,
     "schema_version": 3,
     "solution": false,
     "task": false
    }
   },
   "source": [
    "## 4.4 Birthday problem\n",
    "\n",
    "In probability theory, the birthday problem or birthday paradox concerns the probability that, in a set of n randomly chosen people, some pair of them will have the same birthday. By the pigeonhole principle, the probability reaches 100% when the number of people reaches 367 (since there are only 366 possible birthdays, including February 29). However, 99.9% probability is reached with just 70 people, and 50% probability with 23 people. These conclusions are based on the assumption that each day of the year (excluding February 29) is equally probable for a birthday. -- [Wikipedia](https://en.wikipedia.org/wiki/Birthday_problem)\n",
    "\n",
    "Write a function that simulates this problem for variable $n$. Your function should take $n$ and an experiment count as its parameter and sample experiment count times and return the ratio of \"birthday collisions\" (how many times there were at least two birthdays on the same day). You can ignore leap years and assume that every year has 365 days.\n",
    "\n",
    "Run it for different $n$ values with at least 1000 experiments."
   ]
  },
  {
   "cell_type": "code",
   "execution_count": 30,
   "metadata": {
    "deletable": false,
    "nbgrader": {
     "cell_type": "code",
     "checksum": "97335e2612e70d90bf3075e203478965",
     "grade": false,
     "grade_id": "cell-0d94f23286e48f13",
     "locked": false,
     "schema_version": 3,
     "solution": true,
     "task": false
    }
   },
   "outputs": [
    {
     "data": {
      "text/plain": [
       "<matplotlib.legend.Legend at 0x22c0c95c610>"
      ]
     },
     "execution_count": 30,
     "metadata": {},
     "output_type": "execute_result"
    },
    {
     "data": {
      "image/png": "[encoded data removed]",
      "text/plain": [
       "<Figure size 1152x576 with 1 Axes>"
      ]
     },
     "metadata": {
      "needs_background": "light"
     },
     "output_type": "display_data"
    }
   ],
   "source": [
    "def simulate_birthday_problem(n, iter_no=1000):\n",
    "    \"\"\"Simulates the birthday problem for a group of N people\n",
    "    Generates N birthdays with uniform probability and returns\n",
    "    the proportion of iterations with birthday collisions.\n",
    "    \"\"\"\n",
    "    # YOUR CODE HERE\n",
    "    count=0;\n",
    "    for i in range (0, iter_no):\n",
    "        #np.random.choice(list('abcdef'), 10, p=[0.1, 0.1, 0.1, 0.1, 0.1, 0.5])\n",
    "        #np.random.choice([\"A\", \"2\", \"3\", \"4\", \"5\", \"6\", \"7\", \"8\", \"9\", \"10\", \"J\", \"Q\", \"K\"], 10, replace=True)\n",
    "        \n",
    "        days=np.arange(1,366)\n",
    "        samples=np.random.choice(days,n,replace=True)\n",
    "        #print(days)\n",
    "        #print(samples)\n",
    "        uniq=np.unique(samples) # reference: https://www.w3resource.com/numpy/manipulation/unique.php?fbclid=IwAR3G4aGYMP9rgUYUvdHYCQUGQPvKNbD03AprL_14zp3r5QJXuNZVu4MUM6c\n",
    "        #print(uniq)\n",
    "        if len(uniq) != len(samples):\n",
    "            count=count+1\n",
    "    return count/iter_no\n",
    "\n",
    "#simulate_birthday_problem(2,1)\n",
    "\n",
    "max_n = 50\n",
    "fig, ax = plt.subplots(figsize=(16, 8))\n",
    "ax.set_yticks(np.arange(0, 1.0, .1))\n",
    "ax.grid(True)\n",
    "\n",
    "# number of simulations to run\n",
    "iter_nums = [20, 100, 1000]\n",
    "\n",
    "for iter_no in iter_nums:\n",
    "    x = []\n",
    "    for n in range(2, max_n):\n",
    "        x.append(simulate_birthday_problem(n, iter_no=iter_no))\n",
    "    ax.plot(x)\n",
    "    \n",
    "ax.legend(iter_nums)\n",
    "\n",
    "# notice that the plot becomes less noisy as we run more simulations"
   ]
  },
  {
   "cell_type": "markdown",
   "metadata": {
    "deletable": false,
    "editable": false,
    "nbgrader": {
     "cell_type": "markdown",
     "checksum": "2a13244f05dc6b58920057ca9338f5b7",
     "grade": false,
     "grade_id": "cell-4700314f57cc789a",
     "locked": true,
     "schema_version": 3,
     "solution": false,
     "task": false
    }
   },
   "source": [
    "## 4.5 Horner's method\n",
    "\n",
    "Implement the [Horner's method](https://en.wikipedia.org/wiki/Horner%27s_method#Description_of_the_algorithm) for evaluating polynomials. The first input is a 1D array of numbers, the coefficients, from the constant coefficient to the highest order coefficent. The second input is the variable $x$ to subsitute. The function should work for all type of variables: numbers, arrays; the output should be the same type array as the input, containing the elementwise polynomial values."
   ]
  },
  {
   "cell_type": "code",
   "execution_count": 31,
   "metadata": {
    "deletable": false,
    "nbgrader": {
     "cell_type": "code",
     "checksum": "cee716d2c6454baf07b059741f6b2c05",
     "grade": false,
     "grade_id": "cell-c4f302eefb8d1976",
     "locked": false,
     "schema_version": 3,
     "solution": true,
     "task": false
    }
   },
   "outputs": [
    {
     "name": "stdout",
     "output_type": "stream",
     "text": [
      "11.0\n",
      "[11. 11.]\n"
     ]
    }
   ],
   "source": [
    "def horner(C, x):\n",
    "    # YOUR CODE HERE\n",
    "    x=np.array(x)\n",
    "    t=x.shape\n",
    " \n",
    "    s=np.zeros(t)\n",
    " \n",
    "    for i in range (len(C)-1, -1, -1):\n",
    "        #print(C[i])\n",
    "        s=s*x + C[i]\n",
    "        #print(s)\n",
    "    return s\n",
    "\n",
    "C = [2, 0, 1] # 2 + 0*x + 1*x^2\n",
    "print(horner(C, 3)) # 2 + 3^2\n",
    "print(horner(C, [3, 3]))"
   ]
  },
  {
   "cell_type": "code",
   "execution_count": 32,
   "metadata": {
    "deletable": false,
    "editable": false,
    "nbgrader": {
     "cell_type": "code",
     "checksum": "87e0d950f5c5c3a4898fec7961643900",
     "grade": true,
     "grade_id": "cell-1c9876c20a694762",
     "locked": true,
     "points": 0,
     "schema_version": 3,
     "solution": false,
     "task": false
    }
   },
   "outputs": [],
   "source": [
    "C = [2, 0, 1] # 2 + 0*x + 1*x^2\n",
    "assert horner(C, 3) == 11\n",
    "assert np.allclose(horner(C, [3, 3]), [11, 11])"
   ]
  },
  {
   "cell_type": "markdown",
   "metadata": {
    "deletable": false,
    "editable": false,
    "nbgrader": {
     "cell_type": "markdown",
     "checksum": "33189c0608f7f252a6e44b116e0c52cf",
     "grade": false,
     "grade_id": "cell-08e72ed9ae47dca1",
     "locked": true,
     "schema_version": 3,
     "solution": false,
     "task": false
    }
   },
   "source": [
    "# ================ EXTRA LEVEL ====================\n",
    "\n",
    "# 5.1 K-means clustering\n",
    "\n",
    "Implement the naive k-means algorithm for 2-dimensional data.\n",
    "\n",
    "The naive version of k-means is explained [here](https://en.wikipedia.org/wiki/K-means_clustering#Standard_algorithm_(naive_k-means)).\n",
    "\n",
    "K-means is sensitive to initialization. We fixed the random seeds so that the algorithm should successfully converge and find the cluster in the generated dataset. You are free to change the seed and find different clusters. Some seeds will result in empty clusters (and possibly numpy warnings, don't worry about those).\n",
    "\n",
    "We first generate the data. You don't need to change this cell."
   ]
  },
  {
   "cell_type": "code",
   "execution_count": 33,
   "metadata": {},
   "outputs": [
    {
     "data": {
      "text/plain": [
       "array([[ 1.6905257 , -0.46593737],\n",
       "       [ 0.03282016,  0.40751628],\n",
       "       [-0.78892303,  0.00206557]])"
      ]
     },
     "execution_count": 33,
     "metadata": {},
     "output_type": "execute_result"
    }
   ],
   "source": [
    "from sklearn.datasets import make_blobs\n",
    "\n",
    "np.random.seed(7)\n",
    "sklearn_random_state = 0\n",
    "\n",
    "# number of samples per cluster\n",
    "num_samples_per_cluster = 200\n",
    "# number of clusters\n",
    "K = 3\n",
    "X, y = make_blobs(n_samples=[num_samples_per_cluster] * K, centers=None, n_features=2, cluster_std=0.5,\n",
    "                  random_state=sklearn_random_state)\n",
    "\n",
    "# initial centroids\n",
    "# with the above seeds this should be:\n",
    "# array([[ 1.6905257 , -0.46593737],\n",
    "#        [ 0.03282016,  0.40751628],\n",
    "#        [-0.78892303,  0.00206557]]) \n",
    "centroids = np.random.standard_normal(size=(K, 2))\n",
    "centroids"
   ]
  },
  {
   "cell_type": "markdown",
   "metadata": {},
   "source": [
    "Implement k-means here:"
   ]
  },
  {
   "cell_type": "code",
   "execution_count": 34,
   "metadata": {
    "deletable": false,
    "nbgrader": {
     "cell_type": "code",
     "checksum": "dc2970a7834319c0dee4f29b6ce53eda",
     "grade": false,
     "grade_id": "cell-e0d28ccfa8a8e22d",
     "locked": false,
     "schema_version": 3,
     "solution": true,
     "task": false
    }
   },
   "outputs": [
    {
     "ename": "NotImplementedError",
     "evalue": "",
     "output_type": "error",
     "traceback": [
      "\u001b[1;31m---------------------------------------------------------------------------\u001b[0m",
      "\u001b[1;31mNotImplementedError\u001b[0m                       Traceback (most recent call last)",
      "\u001b[1;32m<ipython-input-34-0918f9d7eead>\u001b[0m in \u001b[0;36m<module>\u001b[1;34m\u001b[0m\n\u001b[0;32m      3\u001b[0m     \u001b[1;32mraise\u001b[0m \u001b[0mNotImplementedError\u001b[0m\u001b[1;33m(\u001b[0m\u001b[1;33m)\u001b[0m\u001b[1;33m\u001b[0m\u001b[1;33m\u001b[0m\u001b[0m\n\u001b[0;32m      4\u001b[0m \u001b[1;33m\u001b[0m\u001b[0m\n\u001b[1;32m----> 5\u001b[1;33m cluster_assignments = run_kmeans(\n\u001b[0m\u001b[0;32m      6\u001b[0m     \u001b[0mdata\u001b[0m\u001b[1;33m=\u001b[0m\u001b[0mX\u001b[0m\u001b[1;33m,\u001b[0m \u001b[0mnum_clusters\u001b[0m\u001b[1;33m=\u001b[0m\u001b[0mK\u001b[0m\u001b[1;33m,\u001b[0m \u001b[0mcentroids\u001b[0m\u001b[1;33m=\u001b[0m\u001b[0mcentroids\u001b[0m\u001b[1;33m,\u001b[0m \u001b[0mnum_iter\u001b[0m\u001b[1;33m=\u001b[0m\u001b[1;36m10\u001b[0m\u001b[1;33m\u001b[0m\u001b[1;33m\u001b[0m\u001b[0m\n\u001b[0;32m      7\u001b[0m )\n",
      "\u001b[1;32m<ipython-input-34-0918f9d7eead>\u001b[0m in \u001b[0;36mrun_kmeans\u001b[1;34m(data, num_clusters, centroids, num_iter)\u001b[0m\n\u001b[0;32m      1\u001b[0m \u001b[1;32mdef\u001b[0m \u001b[0mrun_kmeans\u001b[0m\u001b[1;33m(\u001b[0m\u001b[0mdata\u001b[0m\u001b[1;33m,\u001b[0m \u001b[0mnum_clusters\u001b[0m\u001b[1;33m,\u001b[0m \u001b[0mcentroids\u001b[0m\u001b[1;33m,\u001b[0m \u001b[0mnum_iter\u001b[0m\u001b[1;33m)\u001b[0m\u001b[1;33m:\u001b[0m\u001b[1;33m\u001b[0m\u001b[1;33m\u001b[0m\u001b[0m\n\u001b[0;32m      2\u001b[0m     \u001b[1;31m# YOUR CODE HERE\u001b[0m\u001b[1;33m\u001b[0m\u001b[1;33m\u001b[0m\u001b[1;33m\u001b[0m\u001b[0m\n\u001b[1;32m----> 3\u001b[1;33m     \u001b[1;32mraise\u001b[0m \u001b[0mNotImplementedError\u001b[0m\u001b[1;33m(\u001b[0m\u001b[1;33m)\u001b[0m\u001b[1;33m\u001b[0m\u001b[1;33m\u001b[0m\u001b[0m\n\u001b[0m\u001b[0;32m      4\u001b[0m \u001b[1;33m\u001b[0m\u001b[0m\n\u001b[0;32m      5\u001b[0m cluster_assignments = run_kmeans(\n",
      "\u001b[1;31mNotImplementedError\u001b[0m: "
     ]
    }
   ],
   "source": [
    "def run_kmeans(data, num_clusters, centroids, num_iter):\n",
    "    # YOUR CODE HERE\n",
    "    raise NotImplementedError()\n",
    "\n",
    "cluster_assignments = run_kmeans(\n",
    "    data=X, num_clusters=K, centroids=centroids, num_iter=10\n",
    ")"
   ]
  },
  {
   "cell_type": "markdown",
   "metadata": {},
   "source": [
    "Sanity checks:"
   ]
  },
  {
   "cell_type": "code",
   "execution_count": null,
   "metadata": {
    "deletable": false,
    "editable": false,
    "nbgrader": {
     "cell_type": "code",
     "checksum": "98f574c193ae4409371006d350b1f548",
     "grade": true,
     "grade_id": "cell-8cc8c269789bd7d2",
     "locked": true,
     "points": 0,
     "schema_version": 3,
     "solution": false,
     "task": false
    }
   },
   "outputs": [],
   "source": [
    "# cluster_assignment should be an integer for each sample\n",
    "assert cluster_assignments.dtype == np.int64 or cluster_assignments.dtype == np.int32\n",
    "assert cluster_assignments.shape == (3 * num_samples_per_cluster, )\n",
    "# cluster_assignments should be in the range [0, K-1]\n",
    "assert set(cluster_assignments) <= set(range(K))"
   ]
  },
  {
   "cell_type": "markdown",
   "metadata": {},
   "source": [
    "Plot the original clusters and the output of k-means:"
   ]
  },
  {
   "cell_type": "code",
   "execution_count": null,
   "metadata": {},
   "outputs": [],
   "source": [
    "fig, ax = plt.subplots(1, 2, figsize=(12, 4))\n",
    "for class_value in range(K):\n",
    "    row_ix = np.where(y == class_value)\n",
    "    ax[0].scatter(X[row_ix, 0], X[row_ix, 1])\n",
    "    \n",
    "    row_ix = np.where(cluster_assignments == class_value)\n",
    "    ax[1].scatter(X[row_ix, 0], X[row_ix, 1])\n",
    "    \n",
    "ax[0].set_title(\"Original\")\n",
    "ax[1].set_title(\"Cluster assignment\")"
   ]
  },
  {
   "cell_type": "markdown",
   "metadata": {
    "deletable": false,
    "editable": false,
    "nbgrader": {
     "cell_type": "markdown",
     "checksum": "6da94e8a9f7300a04927a4566d0527d5",
     "grade": false,
     "grade_id": "cell-7f7912809d3eb9dc",
     "locked": true,
     "schema_version": 3,
     "solution": false,
     "task": false
    }
   },
   "source": [
    "# 5.2 Generate different datasets with `make_blobs` or `make_classification` and try running you k-means algorithm with different random seeds. Show a case where it's unsuccessful. "
   ]
  },
  {
   "cell_type": "code",
   "execution_count": null,
   "metadata": {},
   "outputs": [],
   "source": []
  },
  {
   "cell_type": "code",
   "execution_count": null,
   "metadata": {},
   "outputs": [],
   "source": []
  }
 ],
 "metadata": {
  "kernelspec": {
   "display_name": "Python 3",
   "language": "python",
   "name": "python3"
  },
  "language_info": {
   "codemirror_mode": {
    "name": "ipython",
    "version": 3
   },
   "file_extension": ".py",
   "mimetype": "text/x-python",
   "name": "python",
   "nbconvert_exporter": "python",
   "pygments_lexer": "ipython3",
   "version": "3.8.5"
  },
  "toc": {
   "base_numbering": 1,
   "nav_menu": {},
   "number_sections": true,
   "sideBar": true,
   "skip_h1_title": false,
   "title_cell": "Table of Contents",
   "title_sidebar": "Contents",
   "toc_cell": false,
   "toc_position": {
    "height": "calc(100% - 180px)",
    "left": "10px",
    "top": "150px",
    "width": "380.8px"
   },
   "toc_section_display": true,
   "toc_window_display": true
  }
 },
 "nbformat": 4,
 "nbformat_minor": 2
}
