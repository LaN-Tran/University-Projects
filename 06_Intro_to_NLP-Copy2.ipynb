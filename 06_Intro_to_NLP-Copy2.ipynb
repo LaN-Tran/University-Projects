{
 "cells": [
  {
   "cell_type": "markdown",
   "metadata": {
    "slideshow": {
     "slide_type": "slide"
    }
   },
   "source": [
    "# Introduction to Python and Natural Language Technologies\n",
    "## Lecture 06, NLP Introduction\n",
    "\n",
    "March 16, 2020\n",
    "\n",
    "Ádám Kovács\n",
    "\n",
    "This lecture aims to give an introduction to the main concepts of NLP and word representations.\n",
    "\n",
    "## Preparation\n",
    "\n",
    "[Download GLOVE](http://sandbox.hlt.bme.hu/~adaamko/glove.6B.100d.txt)"
   ]
  },
  {
   "cell_type": "code",
   "execution_count": 1,
   "metadata": {
    "slideshow": {
     "slide_type": "subslide"
    }
   },
   "outputs": [
    {
     "name": "stdout",
     "output_type": "stream",
     "text": [
      "Requirement already satisfied: spacy in ./anaconda3/lib/python3.8/site-packages (2.3.5)\n",
      "Requirement already satisfied: catalogue<1.1.0,>=0.0.7 in ./anaconda3/lib/python3.8/site-packages (from spacy) (1.0.0)\n",
      "Requirement already satisfied: setuptools in ./anaconda3/lib/python3.8/site-packages (from spacy) (50.3.1.post20201107)\n",
      "Requirement already satisfied: wasabi<1.1.0,>=0.4.0 in ./anaconda3/lib/python3.8/site-packages (from spacy) (0.8.2)\n",
      "Requirement already satisfied: thinc<7.5.0,>=7.4.1 in ./anaconda3/lib/python3.8/site-packages (from spacy) (7.4.5)\n",
      "Requirement already satisfied: blis<0.8.0,>=0.4.0 in ./anaconda3/lib/python3.8/site-packages (from spacy) (0.7.4)\n",
      "Requirement already satisfied: tqdm<5.0.0,>=4.38.0 in ./anaconda3/lib/python3.8/site-packages (from spacy) (4.50.2)\n",
      "Requirement already satisfied: numpy>=1.15.0 in ./anaconda3/lib/python3.8/site-packages (from spacy) (1.19.2)\n",
      "Requirement already satisfied: plac<1.2.0,>=0.9.6 in ./anaconda3/lib/python3.8/site-packages (from spacy) (1.1.3)\n",
      "Requirement already satisfied: requests<3.0.0,>=2.13.0 in ./anaconda3/lib/python3.8/site-packages (from spacy) (2.24.0)\n",
      "Requirement already satisfied: murmurhash<1.1.0,>=0.28.0 in ./anaconda3/lib/python3.8/site-packages (from spacy) (1.0.5)\n",
      "Requirement already satisfied: srsly<1.1.0,>=1.0.2 in ./anaconda3/lib/python3.8/site-packages (from spacy) (1.0.5)\n",
      "Requirement already satisfied: cymem<2.1.0,>=2.0.2 in ./anaconda3/lib/python3.8/site-packages (from spacy) (2.0.5)\n",
      "Requirement already satisfied: preshed<3.1.0,>=3.0.2 in ./anaconda3/lib/python3.8/site-packages (from spacy) (3.0.5)\n",
      "Requirement already satisfied: chardet<4,>=3.0.2 in ./anaconda3/lib/python3.8/site-packages (from requests<3.0.0,>=2.13.0->spacy) (3.0.4)\n",
      "Requirement already satisfied: idna<3,>=2.5 in ./anaconda3/lib/python3.8/site-packages (from requests<3.0.0,>=2.13.0->spacy) (2.10)\n",
      "Requirement already satisfied: certifi>=2017.4.17 in ./anaconda3/lib/python3.8/site-packages (from requests<3.0.0,>=2.13.0->spacy) (2020.6.20)\n",
      "Requirement already satisfied: urllib3!=1.25.0,!=1.25.1,<1.26,>=1.21.1 in ./anaconda3/lib/python3.8/site-packages (from requests<3.0.0,>=2.13.0->spacy) (1.25.11)\n",
      "Requirement already satisfied: textacy in ./anaconda3/lib/python3.8/site-packages (0.10.1)\n",
      "Requirement already satisfied: jellyfish>=0.7.0 in ./anaconda3/lib/python3.8/site-packages (from textacy) (0.8.2)\n",
      "Requirement already satisfied: requests>=2.10.0 in ./anaconda3/lib/python3.8/site-packages (from textacy) (2.24.0)\n",
      "Requirement already satisfied: cytoolz>=0.8.0 in ./anaconda3/lib/python3.8/site-packages (from textacy) (0.11.0)\n",
      "Requirement already satisfied: srsly>=0.0.5 in ./anaconda3/lib/python3.8/site-packages (from textacy) (1.0.5)\n",
      "Requirement already satisfied: tqdm>=4.19.6 in ./anaconda3/lib/python3.8/site-packages (from textacy) (4.50.2)\n",
      "Requirement already satisfied: cachetools>=2.0.1 in ./anaconda3/lib/python3.8/site-packages (from textacy) (4.2.1)\n",
      "Requirement already satisfied: joblib>=0.13.0 in ./anaconda3/lib/python3.8/site-packages (from textacy) (0.17.0)\n",
      "Requirement already satisfied: pyemd>=0.5.0 in ./anaconda3/lib/python3.8/site-packages (from textacy) (0.5.1)\n",
      "Collecting scikit-learn<0.24.0,>=0.19.0\n",
      "  Using cached scikit_learn-0.23.2-cp38-cp38-manylinux1_x86_64.whl (6.8 MB)\n",
      "Requirement already satisfied: spacy<3.0.0,>=2.2.0 in ./anaconda3/lib/python3.8/site-packages (from textacy) (2.3.5)\n",
      "Requirement already satisfied: networkx>=2.0 in ./anaconda3/lib/python3.8/site-packages (from textacy) (2.5)\n",
      "Requirement already satisfied: scipy>=0.17.0 in ./anaconda3/lib/python3.8/site-packages (from textacy) (1.5.2)\n",
      "Requirement already satisfied: pyphen>=0.9.4 in ./anaconda3/lib/python3.8/site-packages (from textacy) (0.10.0)\n",
      "Requirement already satisfied: numpy>=1.17.0 in ./anaconda3/lib/python3.8/site-packages (from textacy) (1.19.2)\n",
      "Requirement already satisfied: toolz>=0.8.0 in ./anaconda3/lib/python3.8/site-packages (from cytoolz>=0.8.0->textacy) (0.11.1)\n",
      "Requirement already satisfied: decorator>=4.3.0 in ./anaconda3/lib/python3.8/site-packages (from networkx>=2.0->textacy) (4.4.2)\n",
      "Requirement already satisfied: urllib3!=1.25.0,!=1.25.1,<1.26,>=1.21.1 in ./anaconda3/lib/python3.8/site-packages (from requests>=2.10.0->textacy) (1.25.11)\n",
      "Requirement already satisfied: certifi>=2017.4.17 in ./anaconda3/lib/python3.8/site-packages (from requests>=2.10.0->textacy) (2020.6.20)\n",
      "Requirement already satisfied: chardet<4,>=3.0.2 in ./anaconda3/lib/python3.8/site-packages (from requests>=2.10.0->textacy) (3.0.4)\n",
      "Requirement already satisfied: idna<3,>=2.5 in ./anaconda3/lib/python3.8/site-packages (from requests>=2.10.0->textacy) (2.10)\n",
      "Requirement already satisfied: threadpoolctl>=2.0.0 in ./anaconda3/lib/python3.8/site-packages (from scikit-learn<0.24.0,>=0.19.0->textacy) (2.1.0)\n",
      "Requirement already satisfied: cymem<2.1.0,>=2.0.2 in ./anaconda3/lib/python3.8/site-packages (from spacy<3.0.0,>=2.2.0->textacy) (2.0.5)\n",
      "Requirement already satisfied: wasabi<1.1.0,>=0.4.0 in ./anaconda3/lib/python3.8/site-packages (from spacy<3.0.0,>=2.2.0->textacy) (0.8.2)\n",
      "Requirement already satisfied: preshed<3.1.0,>=3.0.2 in ./anaconda3/lib/python3.8/site-packages (from spacy<3.0.0,>=2.2.0->textacy) (3.0.5)\n",
      "Requirement already satisfied: plac<1.2.0,>=0.9.6 in ./anaconda3/lib/python3.8/site-packages (from spacy<3.0.0,>=2.2.0->textacy) (1.1.3)\n",
      "Requirement already satisfied: thinc<7.5.0,>=7.4.1 in ./anaconda3/lib/python3.8/site-packages (from spacy<3.0.0,>=2.2.0->textacy) (7.4.5)\n",
      "Requirement already satisfied: catalogue<1.1.0,>=0.0.7 in ./anaconda3/lib/python3.8/site-packages (from spacy<3.0.0,>=2.2.0->textacy) (1.0.0)\n",
      "Requirement already satisfied: blis<0.8.0,>=0.4.0 in ./anaconda3/lib/python3.8/site-packages (from spacy<3.0.0,>=2.2.0->textacy) (0.7.4)\n",
      "Requirement already satisfied: murmurhash<1.1.0,>=0.28.0 in ./anaconda3/lib/python3.8/site-packages (from spacy<3.0.0,>=2.2.0->textacy) (1.0.5)\n",
      "Requirement already satisfied: setuptools in ./anaconda3/lib/python3.8/site-packages (from spacy<3.0.0,>=2.2.0->textacy) (50.3.1.post20201107)\n",
      "Installing collected packages: scikit-learn\n",
      "  Attempting uninstall: scikit-learn\n",
      "    Found existing installation: scikit-learn 0.24.1\n",
      "    Uninstalling scikit-learn-0.24.1:\n",
      "      Successfully uninstalled scikit-learn-0.24.1\n",
      "Successfully installed scikit-learn-0.23.2\n",
      "Collecting flair\n",
      "  Using cached flair-0.8.0.post1-py3-none-any.whl (284 kB)\n",
      "Collecting ftfy\n",
      "  Using cached ftfy-5.9.tar.gz (66 kB)\n",
      "Requirement already satisfied: regex in ./anaconda3/lib/python3.8/site-packages (from flair) (2020.10.15)\n",
      "Collecting sqlitedict>=1.6.0\n",
      "  Downloading sqlitedict-1.7.0.tar.gz (28 kB)\n",
      "Requirement already satisfied: numpy<1.20.0 in ./anaconda3/lib/python3.8/site-packages (from flair) (1.19.2)\n",
      "Collecting konoha<5.0.0,>=4.0.0\n",
      "  Using cached konoha-4.6.4-py3-none-any.whl (19 kB)\n",
      "Requirement already satisfied: lxml in ./anaconda3/lib/python3.8/site-packages (from flair) (4.6.1)\n",
      "Collecting bpemb>=0.3.2\n",
      "  Using cached bpemb-0.3.2-py3-none-any.whl (19 kB)\n",
      "Collecting hyperopt>=0.1.1\n",
      "  Downloading hyperopt-0.2.5-py2.py3-none-any.whl (965 kB)\n",
      "\u001b[K     |████████████████████████████████| 965 kB 2.0 MB/s eta 0:00:01\n",
      "\u001b[?25hCollecting torch<=1.7.1,>=1.5.0\n",
      "Requirement already satisfied: gensim in ./anaconda3/lib/python3.8/site-packages (3.8.3)\n",
      "Requirement already satisfied: smart-open>=1.8.1 in ./anaconda3/lib/python3.8/site-packages (from gensim) (3.0.0)\n",
      "Requirement already satisfied: numpy>=1.11.3 in ./anaconda3/lib/python3.8/site-packages (from gensim) (1.19.2)\n",
      "Requirement already satisfied: scipy>=0.18.1 in ./anaconda3/lib/python3.8/site-packages (from gensim) (1.5.2)\n",
      "Requirement already satisfied: six>=1.5.0 in ./anaconda3/lib/python3.8/site-packages (from gensim) (1.15.0)\n",
      "Requirement already satisfied: requests in ./anaconda3/lib/python3.8/site-packages (from smart-open>=1.8.1->gensim) (2.24.0)\n",
      "Requirement already satisfied: chardet<4,>=3.0.2 in ./anaconda3/lib/python3.8/site-packages (from requests->smart-open>=1.8.1->gensim) (3.0.4)\n",
      "Requirement already satisfied: certifi>=2017.4.17 in ./anaconda3/lib/python3.8/site-packages (from requests->smart-open>=1.8.1->gensim) (2020.6.20)\n",
      "Requirement already satisfied: urllib3!=1.25.0,!=1.25.1,<1.26,>=1.21.1 in ./anaconda3/lib/python3.8/site-packages (from requests->smart-open>=1.8.1->gensim) (1.25.11)\n",
      "Requirement already satisfied: idna<3,>=2.5 in ./anaconda3/lib/python3.8/site-packages (from requests->smart-open>=1.8.1->gensim) (2.10)\n"
     ]
    },
    {
     "name": "stdout",
     "output_type": "stream",
     "text": [
      "Requirement already satisfied: scikit-learn in ./anaconda3/lib/python3.8/site-packages (0.23.2)\n",
      "Collecting scikit-learn\n",
      "  Using cached scikit_learn-0.24.1-cp38-cp38-manylinux2010_x86_64.whl (24.9 MB)\n",
      "Requirement already satisfied: scipy>=0.19.1 in ./anaconda3/lib/python3.8/site-packages (from scikit-learn) (1.5.2)\n",
      "Requirement already satisfied: threadpoolctl>=2.0.0 in ./anaconda3/lib/python3.8/site-packages (from scikit-learn) (2.1.0)\n",
      "Requirement already satisfied: numpy>=1.13.3 in ./anaconda3/lib/python3.8/site-packages (from scikit-learn) (1.19.2)\n",
      "Requirement already satisfied: joblib>=0.11 in ./anaconda3/lib/python3.8/site-packages (from scikit-learn) (0.17.0)\n",
      "Installing collected packages: scikit-learn\n",
      "  Attempting uninstall: scikit-learn\n",
      "    Found existing installation: scikit-learn 0.23.2\n",
      "    Uninstalling scikit-learn-0.23.2:\n",
      "      Successfully uninstalled scikit-learn-0.23.2\n",
      "\u001b[31mERROR: pip's dependency resolver does not currently take into account all the packages that are installed. This behaviour is the source of the following dependency conflicts.\n",
      "textacy 0.10.1 requires scikit-learn<0.24.0,>=0.19.0, but you have scikit-learn 0.24.1 which is incompatible.\u001b[0m\n",
      "Successfully installed scikit-learn-0.24.1\n",
      "Collecting en_core_web_sm==2.3.1\n",
      "  Downloading https://github.com/explosion/spacy-models/releases/download/en_core_web_sm-2.3.1/en_core_web_sm-2.3.1.tar.gz (12.0 MB)\n",
      "\u001b[K     |████████████████████████████████| 12.0 MB 45.9 MB/s eta 0:00:01\n",
      "\u001b[?25hRequirement already satisfied: spacy<2.4.0,>=2.3.0 in ./anaconda3/lib/python3.8/site-packages (from en_core_web_sm==2.3.1) (2.3.5)\n",
      "Requirement already satisfied: plac<1.2.0,>=0.9.6 in ./anaconda3/lib/python3.8/site-packages (from spacy<2.4.0,>=2.3.0->en_core_web_sm==2.3.1) (1.1.3)\n",
      "Requirement already satisfied: numpy>=1.15.0 in ./anaconda3/lib/python3.8/site-packages (from spacy<2.4.0,>=2.3.0->en_core_web_sm==2.3.1) (1.19.2)\n",
      "Requirement already satisfied: murmurhash<1.1.0,>=0.28.0 in ./anaconda3/lib/python3.8/site-packages (from spacy<2.4.0,>=2.3.0->en_core_web_sm==2.3.1) (1.0.5)\n",
      "Requirement already satisfied: setuptools in ./anaconda3/lib/python3.8/site-packages (from spacy<2.4.0,>=2.3.0->en_core_web_sm==2.3.1) (50.3.1.post20201107)\n",
      "Requirement already satisfied: thinc<7.5.0,>=7.4.1 in ./anaconda3/lib/python3.8/site-packages (from spacy<2.4.0,>=2.3.0->en_core_web_sm==2.3.1) (7.4.5)\n",
      "Requirement already satisfied: requests<3.0.0,>=2.13.0 in ./anaconda3/lib/python3.8/site-packages (from spacy<2.4.0,>=2.3.0->en_core_web_sm==2.3.1) (2.24.0)\n",
      "Requirement already satisfied: catalogue<1.1.0,>=0.0.7 in ./anaconda3/lib/python3.8/site-packages (from spacy<2.4.0,>=2.3.0->en_core_web_sm==2.3.1) (1.0.0)\n",
      "Requirement already satisfied: srsly<1.1.0,>=1.0.2 in ./anaconda3/lib/python3.8/site-packages (from spacy<2.4.0,>=2.3.0->en_core_web_sm==2.3.1) (1.0.5)\n",
      "Requirement already satisfied: cymem<2.1.0,>=2.0.2 in ./anaconda3/lib/python3.8/site-packages (from spacy<2.4.0,>=2.3.0->en_core_web_sm==2.3.1) (2.0.5)\n",
      "Requirement already satisfied: blis<0.8.0,>=0.4.0 in ./anaconda3/lib/python3.8/site-packages (from spacy<2.4.0,>=2.3.0->en_core_web_sm==2.3.1) (0.7.4)\n",
      "Requirement already satisfied: preshed<3.1.0,>=3.0.2 in ./anaconda3/lib/python3.8/site-packages (from spacy<2.4.0,>=2.3.0->en_core_web_sm==2.3.1) (3.0.5)\n",
      "Requirement already satisfied: tqdm<5.0.0,>=4.38.0 in ./anaconda3/lib/python3.8/site-packages (from spacy<2.4.0,>=2.3.0->en_core_web_sm==2.3.1) (4.50.2)\n",
      "Requirement already satisfied: wasabi<1.1.0,>=0.4.0 in ./anaconda3/lib/python3.8/site-packages (from spacy<2.4.0,>=2.3.0->en_core_web_sm==2.3.1) (0.8.2)\n",
      "Requirement already satisfied: certifi>=2017.4.17 in ./anaconda3/lib/python3.8/site-packages (from requests<3.0.0,>=2.13.0->spacy<2.4.0,>=2.3.0->en_core_web_sm==2.3.1) (2020.6.20)\n",
      "Requirement already satisfied: chardet<4,>=3.0.2 in ./anaconda3/lib/python3.8/site-packages (from requests<3.0.0,>=2.13.0->spacy<2.4.0,>=2.3.0->en_core_web_sm==2.3.1) (3.0.4)\n",
      "Requirement already satisfied: idna<3,>=2.5 in ./anaconda3/lib/python3.8/site-packages (from requests<3.0.0,>=2.13.0->spacy<2.4.0,>=2.3.0->en_core_web_sm==2.3.1) (2.10)\n",
      "Requirement already satisfied: urllib3!=1.25.0,!=1.25.1,<1.26,>=1.21.1 in ./anaconda3/lib/python3.8/site-packages (from requests<3.0.0,>=2.13.0->spacy<2.4.0,>=2.3.0->en_core_web_sm==2.3.1) (1.25.11)\n",
      "\u001b[38;5;2m✔ Download and installation successful\u001b[0m\n",
      "You can now load the model via spacy.load('en_core_web_sm')\n",
      "\u001b[38;5;2m✔ Linking successful\u001b[0m\n",
      "/home/fatima/anaconda3/lib/python3.8/site-packages/en_core_web_sm -->\n",
      "/home/fatima/anaconda3/lib/python3.8/site-packages/spacy/data/en\n",
      "You can now load the model via spacy.load('en')\n"
     ]
    }
   ],
   "source": [
    "!pip install spacy\n",
    "\n",
    "!pip install textacy\n",
    "\n",
    "!pip install flair\n",
    "\n",
    "!pip install gensim\n",
    "\n",
    "!pip install -U scikit-learn\n",
    "\n",
    "!python -m spacy download en"
   ]
  },
  {
   "cell_type": "markdown",
   "metadata": {
    "slideshow": {
     "slide_type": "slide"
    }
   },
   "source": [
    "## NLP Tasks"
   ]
  },
  {
   "cell_type": "markdown",
   "metadata": {
    "slideshow": {
     "slide_type": "subslide"
    }
   },
   "source": [
    "### Why do we need NLP?\n",
    "\n",
    "    - Make the computer understand text\n",
    "    - Extract useful information from it\n",
    "    - A collection that helps us processing huge amount of texts\n",
    "    - We have two directions:\n",
    "        - Analysis: Convert text to a structural representation\n",
    "        - Generation: Generate text from formal representation"
   ]
  },
  {
   "cell_type": "markdown",
   "metadata": {
    "slideshow": {
     "slide_type": "subslide"
    }
   },
   "source": [
    "### Tasks most people would think of\n",
    "\n",
    "- Spellchecking\n",
    "\n",
    "- Machine translation\n",
    "\n",
    "- Chatbots"
   ]
  },
  {
   "cell_type": "markdown",
   "metadata": {
    "slideshow": {
     "slide_type": "notes"
    }
   },
   "source": [
    "these are not an exhaustive list"
   ]
  },
  {
   "cell_type": "markdown",
   "metadata": {
    "slideshow": {
     "slide_type": "subslide"
    }
   },
   "source": [
    "### \"Real\" tasks?\n",
    "\n",
    "- Basic NLP tasks (but very important):\n",
    "    - tokenization\n",
    "    - lemmatization\n",
    "    - POS tagging\n",
    "    - syntactic parsing\n",
    "   "
   ]
  },
  {
   "cell_type": "markdown",
   "metadata": {
    "slideshow": {
     "slide_type": "subslide"
    }
   },
   "source": [
    "- More semantic tasks:\n",
    "    - summarization\n",
    "    - question answering\n",
    "    - information extraction (e.g. NER tagging)\n",
    "    - relation extraction \n",
    "    - chatbots\n",
    "    - machine translation\n",
    "    - ..."
   ]
  },
  {
   "cell_type": "markdown",
   "metadata": {
    "slideshow": {
     "slide_type": "subslide"
    }
   },
   "source": [
    "## Spacy\n",
    "\n",
    "- For demonstrating NLP tasks, we are going to use the library [spacy](https://spacy.io/) a lot.\n",
    "- It is an open-source NLP library for Python\n",
    "- It features a lot of out-of-the-box models for NLP\n",
    "- NER, POS tagging, dependency parsing, vectorization..."
   ]
  },
  {
   "cell_type": "code",
   "execution_count": 12,
   "metadata": {
    "slideshow": {
     "slide_type": "fragment"
    }
   },
   "outputs": [],
   "source": [
    "import spacy\n",
    "from spacy import displacy\n",
    "\n",
    "#loading the english model\n",
    "nlp = spacy.load('en_core_web_sm')"
   ]
  },
  {
   "cell_type": "markdown",
   "metadata": {
    "slideshow": {
     "slide_type": "subslide"
    }
   },
   "source": [
    "## Basic preprocessing tasks, text normalization"
   ]
  },
  {
   "cell_type": "markdown",
   "metadata": {
    "slideshow": {
     "slide_type": "subslide"
    }
   },
   "source": [
    "<h3 id=\"Tokenization\">Tokenization</h3>\n",
    "<ul>\n",
    "<li>Splitting text into words, sentences, documents, etc..</li>\n",
    "<li>One of the goals of tokenizing text into words is to create a <strong>vocabulary</strong></li>\n",
    "</ul>\n",
    "<p><em>Muffins cost <strong>$3.88</strong> in New York. Please buy me two as I <strong>can't</strong> go. <strong>They'll</strong> taste good. I'm going to <strong>Finland's</strong> capital to hear about <strong>state-of-the-art</strong> solutions in NLP.</em></p>"
   ]
  },
  {
   "cell_type": "markdown",
   "metadata": {
    "slideshow": {
     "slide_type": "fragment"
    }
   },
   "source": [
    "- $3.88 - split on the period?\n",
    "- can't - can not?\n",
    "- They'll - they will?\n",
    "- Finland's - Finland?\n",
    "- state-of-the-art?"
   ]
  },
  {
   "cell_type": "code",
   "execution_count": 3,
   "metadata": {
    "slideshow": {
     "slide_type": "subslide"
    }
   },
   "outputs": [
    {
     "name": "stdout",
     "output_type": "stream",
     "text": [
      "['Muffins', 'cost', '$3.88', 'in', 'New', 'York.', 'Please', 'buy', 'me', 'two', 'as', 'I', \"can't\", 'go.', \"They'll\", 'taste', 'good.', \"I'm\", 'going', 'to', \"Finland's\", 'capital', 'to', 'hear', 'about', 'state-of-the-art', 'solutions', 'in', 'NLP.']\n",
      "29\n"
     ]
    }
   ],
   "source": [
    "sens = \"Muffins cost $3.88 in New York. Please buy me two as I can't go.\" \\\n",
    "\" They'll taste good. I'm going to Finland's capital to hear about state-of-the-art solutions in NLP.\"\n",
    "\n",
    "print(sens.split())\n",
    "\n",
    "print(len(sens.split()))\n"
   ]
  },
  {
   "cell_type": "code",
   "execution_count": 4,
   "metadata": {
    "slideshow": {
     "slide_type": "subslide"
    }
   },
   "outputs": [
    {
     "name": "stdout",
     "output_type": "stream",
     "text": [
      "['Muffins', 'cost', '$', '3.88', 'in', 'New', 'York', '.', 'Please', 'buy', 'me', 'two', 'as', 'I', 'ca', \"n't\", 'go', '.', 'They', \"'ll\", 'taste', 'good', '.', 'I', \"'m\", 'going', 'to', 'Finland', \"'s\", 'capital', 'to', 'hear', 'about', 'state', '-', 'of', '-', 'the', '-', 'art', 'solutions', 'in', 'NLP', '.']\n"
     ]
    }
   ],
   "source": [
    "sens = \"Muffins cost $3.88 in New York. Please buy me two as I can't go.\" \\\n",
    "\" They'll taste good. I'm going to Finland's capital to hear about state-of-the-art solutions in NLP.\"\n",
    "\n",
    "doc = nlp(sens)\n",
    "\n",
    "tokens = [token.text for token in doc]\n",
    "print(tokens)"
   ]
  },
  {
   "cell_type": "code",
   "execution_count": 5,
   "metadata": {
    "slideshow": {
     "slide_type": "fragment"
    }
   },
   "outputs": [
    {
     "name": "stdout",
     "output_type": "stream",
     "text": [
      "Muffins cost $3.88 in New York.\n",
      "Please buy me two as I can't go.\n",
      "They'll taste good.\n",
      "I'm going to Finland's capital to hear about state-of-the-art solutions in NLP.\n"
     ]
    }
   ],
   "source": [
    "for sen in doc.sents:\n",
    "    print(sen)"
   ]
  },
  {
   "cell_type": "code",
   "execution_count": 6,
   "metadata": {
    "slideshow": {
     "slide_type": "subslide"
    }
   },
   "outputs": [
    {
     "name": "stdout",
     "output_type": "stream",
     "text": [
      "Muffins True False\n",
      "cost True False\n",
      "$ False False\n",
      "3.88 False False\n",
      "in True True\n",
      "New True False\n",
      "York True False\n",
      ". False False\n",
      "Please True True\n",
      "buy True False\n",
      "me True True\n",
      "two True True\n",
      "as True True\n",
      "I True True\n",
      "ca True True\n",
      "n't False True\n",
      "go True True\n",
      ". False False\n",
      "They True True\n",
      "'ll False True\n",
      "taste True False\n",
      "good True False\n",
      ". False False\n",
      "I True True\n",
      "'m False True\n",
      "going True False\n",
      "to True True\n",
      "Finland True False\n",
      "'s False True\n",
      "capital True False\n",
      "to True True\n",
      "hear True False\n",
      "about True True\n",
      "state True False\n",
      "- False False\n",
      "of True True\n",
      "- False False\n",
      "the True True\n",
      "- False False\n",
      "art True False\n",
      "solutions True False\n",
      "in True True\n",
      "NLP True False\n",
      ". False False\n"
     ]
    }
   ],
   "source": [
    "for token in doc:\n",
    "    print(token.text, token.is_alpha, token.is_stop)"
   ]
  },
  {
   "cell_type": "markdown",
   "metadata": {
    "slideshow": {
     "slide_type": "subslide"
    }
   },
   "source": [
    "### Lemmatization, stemming\n",
    "\n",
    "- The goal of lemmatization is to find the dictionary form of the words\n",
    "- Called the \"lemma\" of a word\n",
    "- _dogs_ -> _dog_ , _went_ -> _go_\n",
    "- Ambiguity plays a role: _saw_ -> _see_?\n",
    "- Needs POS tag to disambiguate"
   ]
  },
  {
   "cell_type": "code",
   "execution_count": 7,
   "metadata": {
    "slideshow": {
     "slide_type": "fragment"
    }
   },
   "outputs": [
    {
     "name": "stdout",
     "output_type": "stream",
     "text": [
      "['-PRON-', 'see', 'two', 'dog', 'yesterday', '.']\n"
     ]
    }
   ],
   "source": [
    "doc = nlp(\"I saw two dogs yesterday.\")\n",
    "\n",
    "lemmata = [token.lemma_ for token in doc]\n",
    "print(lemmata)"
   ]
  },
  {
   "cell_type": "markdown",
   "metadata": {
    "slideshow": {
     "slide_type": "subslide"
    }
   },
   "source": [
    "### POS tagging\n",
    "\n",
    "- Words can be groupped into grammatical categories.\n",
    "- These are called the Part Of Speech tags of the words.\n",
    "- Words belonging to the same group are interchangable\n",
    "- Ambiguity: _guard_ ?\n"
   ]
  },
  {
   "cell_type": "code",
   "execution_count": 8,
   "metadata": {
    "slideshow": {
     "slide_type": "fragment"
    }
   },
   "outputs": [
    {
     "data": {
      "text/plain": [
       "['DET', 'ADJ', 'NOUN', 'VERB', 'PART', 'VERB', 'NOUN', 'NOUN', 'PUNCT']"
      ]
     },
     "execution_count": 8,
     "metadata": {},
     "output_type": "execute_result"
    }
   ],
   "source": [
    "doc = nlp(\"The white dog went to play football yesterday.\")\n",
    "\n",
    "[token.pos_ for token in doc]"
   ]
  },
  {
   "cell_type": "markdown",
   "metadata": {
    "slideshow": {
     "slide_type": "subslide"
    }
   },
   "source": [
    "<h3 id=\"Morphological-analysis\">Morphological analysis</h3>\n",
    "<ul>\n",
    "<li>Splitting words into morphemes</li>\n",
    "<li>Morphemes are the smallest meaningful units in a language (part of the words)</li>\n",
    "<li>friend<span style=\"color: #e03e2d;\">s</span>, wait<span style=\"color: #e03e2d;\">ing</span>, friend<span style=\"color: #e03e2d;\">li</span><span style=\"color: #3598db;\">er</span></li>\n",
    "<li>Tagging them with morphological tags</li>\n",
    "<li>Ambiguity: <em>v&aacute;rnak</em></li>\n",
    "</ul>"
   ]
  },
  {
   "cell_type": "code",
   "execution_count": 10,
   "metadata": {
    "slideshow": {
     "slide_type": "fragment"
    }
   },
   "outputs": [
    {
     "data": {
      "text/plain": [
       "{74: 92, 'Number_plur': True}"
      ]
     },
     "execution_count": 10,
     "metadata": {},
     "output_type": "execute_result"
    }
   ],
   "source": [
    "doc = nlp(\"Yesterday I went to buy two dogs\")\n",
    "nlp.vocab.morphology.tag_map[doc[-1].tag_]"
   ]
  },
  {
   "cell_type": "markdown",
   "metadata": {
    "slideshow": {
     "slide_type": "subslide"
    }
   },
   "source": [
    "## Advanced tasks"
   ]
  },
  {
   "cell_type": "markdown",
   "metadata": {
    "slideshow": {
     "slide_type": "subslide"
    }
   },
   "source": [
    "### Syntactic parsing\n",
    "\n",
    "\n",
    "-  *Colorless green ideas sleep furiously.* \n",
    "\n",
    "- *Furiously sleep ideas green colorless.*\n",
    "\n",
    "Chomsky (1956)\n",
    "\n",
    "\n",
    "Two types.\n",
    "- Phrase structure grammar\n",
    "- __Dependency grammar__\n"
   ]
  },
  {
   "cell_type": "markdown",
   "metadata": {
    "slideshow": {
     "slide_type": "subslide"
    }
   },
   "source": [
    "### Universal Dependency Parsing\n",
    "- Started and standardized in the [UD](http://universaldependencies.org/) project.\n",
    "- The types are Language-independent\n",
    "- The annotations are trying to be consistent accross 70+ languages"
   ]
  },
  {
   "cell_type": "code",
   "execution_count": 11,
   "metadata": {
    "slideshow": {
     "slide_type": "fragment"
    }
   },
   "outputs": [
    {
     "data": {
      "text/html": [
       "<span class=\"tex2jax_ignore\"><svg xmlns=\"http://www.w3.org/2000/svg\" xmlns:xlink=\"http://www.w3.org/1999/xlink\" xml:lang=\"en\" id=\"d51b3edff2f64f35a4e4ca840bdb1a23-0\" class=\"displacy\" width=\"550\" height=\"237.0\" direction=\"ltr\" style=\"max-width: none; height: 237.0px; color: #000000; background: #ffffff; font-family: Arial; direction: ltr\">\n",
       "<text class=\"displacy-token\" fill=\"currentColor\" text-anchor=\"middle\" y=\"147.0\">\n",
       "    <tspan class=\"displacy-word\" fill=\"currentColor\" x=\"50\">Colorless</tspan>\n",
       "    <tspan class=\"displacy-tag\" dy=\"2em\" fill=\"currentColor\" x=\"50\">ADP</tspan>\n",
       "</text>\n",
       "\n",
       "<text class=\"displacy-token\" fill=\"currentColor\" text-anchor=\"middle\" y=\"147.0\">\n",
       "    <tspan class=\"displacy-word\" fill=\"currentColor\" x=\"150\">green</tspan>\n",
       "    <tspan class=\"displacy-tag\" dy=\"2em\" fill=\"currentColor\" x=\"150\">ADJ</tspan>\n",
       "</text>\n",
       "\n",
       "<text class=\"displacy-token\" fill=\"currentColor\" text-anchor=\"middle\" y=\"147.0\">\n",
       "    <tspan class=\"displacy-word\" fill=\"currentColor\" x=\"250\">ideas</tspan>\n",
       "    <tspan class=\"displacy-tag\" dy=\"2em\" fill=\"currentColor\" x=\"250\">NOUN</tspan>\n",
       "</text>\n",
       "\n",
       "<text class=\"displacy-token\" fill=\"currentColor\" text-anchor=\"middle\" y=\"147.0\">\n",
       "    <tspan class=\"displacy-word\" fill=\"currentColor\" x=\"350\">sleep</tspan>\n",
       "    <tspan class=\"displacy-tag\" dy=\"2em\" fill=\"currentColor\" x=\"350\">VERB</tspan>\n",
       "</text>\n",
       "\n",
       "<text class=\"displacy-token\" fill=\"currentColor\" text-anchor=\"middle\" y=\"147.0\">\n",
       "    <tspan class=\"displacy-word\" fill=\"currentColor\" x=\"450\">furiously</tspan>\n",
       "    <tspan class=\"displacy-tag\" dy=\"2em\" fill=\"currentColor\" x=\"450\">ADV</tspan>\n",
       "</text>\n",
       "\n",
       "<g class=\"displacy-arrow\">\n",
       "    <path class=\"displacy-arc\" id=\"arrow-d51b3edff2f64f35a4e4ca840bdb1a23-0-0\" stroke-width=\"2px\" d=\"M70,102.0 C70,2.0 350.0,2.0 350.0,102.0\" fill=\"none\" stroke=\"currentColor\"/>\n",
       "    <text dy=\"1.25em\" style=\"font-size: 0.8em; letter-spacing: 1px\">\n",
       "        <textPath xlink:href=\"#arrow-d51b3edff2f64f35a4e4ca840bdb1a23-0-0\" class=\"displacy-label\" startOffset=\"50%\" side=\"left\" fill=\"currentColor\" text-anchor=\"middle\">amod</textPath>\n",
       "    </text>\n",
       "    <path class=\"displacy-arrowhead\" d=\"M70,104.0 L62,92.0 78,92.0\" fill=\"currentColor\"/>\n",
       "</g>\n",
       "\n",
       "<g class=\"displacy-arrow\">\n",
       "    <path class=\"displacy-arc\" id=\"arrow-d51b3edff2f64f35a4e4ca840bdb1a23-0-1\" stroke-width=\"2px\" d=\"M170,102.0 C170,52.0 245.0,52.0 245.0,102.0\" fill=\"none\" stroke=\"currentColor\"/>\n",
       "    <text dy=\"1.25em\" style=\"font-size: 0.8em; letter-spacing: 1px\">\n",
       "        <textPath xlink:href=\"#arrow-d51b3edff2f64f35a4e4ca840bdb1a23-0-1\" class=\"displacy-label\" startOffset=\"50%\" side=\"left\" fill=\"currentColor\" text-anchor=\"middle\">amod</textPath>\n",
       "    </text>\n",
       "    <path class=\"displacy-arrowhead\" d=\"M170,104.0 L162,92.0 178,92.0\" fill=\"currentColor\"/>\n",
       "</g>\n",
       "\n",
       "<g class=\"displacy-arrow\">\n",
       "    <path class=\"displacy-arc\" id=\"arrow-d51b3edff2f64f35a4e4ca840bdb1a23-0-2\" stroke-width=\"2px\" d=\"M270,102.0 C270,52.0 345.0,52.0 345.0,102.0\" fill=\"none\" stroke=\"currentColor\"/>\n",
       "    <text dy=\"1.25em\" style=\"font-size: 0.8em; letter-spacing: 1px\">\n",
       "        <textPath xlink:href=\"#arrow-d51b3edff2f64f35a4e4ca840bdb1a23-0-2\" class=\"displacy-label\" startOffset=\"50%\" side=\"left\" fill=\"currentColor\" text-anchor=\"middle\">compound</textPath>\n",
       "    </text>\n",
       "    <path class=\"displacy-arrowhead\" d=\"M270,104.0 L262,92.0 278,92.0\" fill=\"currentColor\"/>\n",
       "</g>\n",
       "\n",
       "<g class=\"displacy-arrow\">\n",
       "    <path class=\"displacy-arc\" id=\"arrow-d51b3edff2f64f35a4e4ca840bdb1a23-0-3\" stroke-width=\"2px\" d=\"M370,102.0 C370,52.0 445.0,52.0 445.0,102.0\" fill=\"none\" stroke=\"currentColor\"/>\n",
       "    <text dy=\"1.25em\" style=\"font-size: 0.8em; letter-spacing: 1px\">\n",
       "        <textPath xlink:href=\"#arrow-d51b3edff2f64f35a4e4ca840bdb1a23-0-3\" class=\"displacy-label\" startOffset=\"50%\" side=\"left\" fill=\"currentColor\" text-anchor=\"middle\">advmod</textPath>\n",
       "    </text>\n",
       "    <path class=\"displacy-arrowhead\" d=\"M445.0,104.0 L453.0,92.0 437.0,92.0\" fill=\"currentColor\"/>\n",
       "</g>\n",
       "</svg></span>"
      ],
      "text/plain": [
       "<IPython.core.display.HTML object>"
      ]
     },
     "metadata": {},
     "output_type": "display_data"
    }
   ],
   "source": [
    "doc = nlp(\"Colorless green ideas sleep furiously\")\n",
    "displacy.render(doc, style='dep', jupyter=True, options={'distance': 100})"
   ]
  },
  {
   "cell_type": "markdown",
   "metadata": {
    "slideshow": {
     "slide_type": "subslide"
    }
   },
   "source": [
    "### Named entity recognition\n",
    "\n",
    "- Identify the present entities in the text"
   ]
  },
  {
   "cell_type": "code",
   "execution_count": 12,
   "metadata": {
    "slideshow": {
     "slide_type": "fragment"
    }
   },
   "outputs": [
    {
     "name": "stdout",
     "output_type": "stream",
     "text": [
      "3.88\n",
      "New York\n",
      "two\n",
      "Finland\n",
      "NLP\n"
     ]
    },
    {
     "data": {
      "text/html": [
       "<span class=\"tex2jax_ignore\"><div class=\"entities\" style=\"line-height: 2.5; direction: ltr\">Muffins cost $\n",
       "<mark class=\"entity\" style=\"background: #e4e7d2; padding: 0.45em 0.6em; margin: 0 0.25em; line-height: 1; border-radius: 0.35em;\">\n",
       "    3.88\n",
       "    <span style=\"font-size: 0.8em; font-weight: bold; line-height: 1; border-radius: 0.35em; text-transform: uppercase; vertical-align: middle; margin-left: 0.5rem\">MONEY</span>\n",
       "</mark>\n",
       " in \n",
       "<mark class=\"entity\" style=\"background: #feca74; padding: 0.45em 0.6em; margin: 0 0.25em; line-height: 1; border-radius: 0.35em;\">\n",
       "    New York\n",
       "    <span style=\"font-size: 0.8em; font-weight: bold; line-height: 1; border-radius: 0.35em; text-transform: uppercase; vertical-align: middle; margin-left: 0.5rem\">GPE</span>\n",
       "</mark>\n",
       ". Please buy me \n",
       "<mark class=\"entity\" style=\"background: #e4e7d2; padding: 0.45em 0.6em; margin: 0 0.25em; line-height: 1; border-radius: 0.35em;\">\n",
       "    two\n",
       "    <span style=\"font-size: 0.8em; font-weight: bold; line-height: 1; border-radius: 0.35em; text-transform: uppercase; vertical-align: middle; margin-left: 0.5rem\">CARDINAL</span>\n",
       "</mark>\n",
       " as I can't go. They'll taste good. I'm going to \n",
       "<mark class=\"entity\" style=\"background: #feca74; padding: 0.45em 0.6em; margin: 0 0.25em; line-height: 1; border-radius: 0.35em;\">\n",
       "    Finland\n",
       "    <span style=\"font-size: 0.8em; font-weight: bold; line-height: 1; border-radius: 0.35em; text-transform: uppercase; vertical-align: middle; margin-left: 0.5rem\">GPE</span>\n",
       "</mark>\n",
       "'s capital to hear about state-of-the-art solutions in \n",
       "<mark class=\"entity\" style=\"background: #7aecec; padding: 0.45em 0.6em; margin: 0 0.25em; line-height: 1; border-radius: 0.35em;\">\n",
       "    NLP\n",
       "    <span style=\"font-size: 0.8em; font-weight: bold; line-height: 1; border-radius: 0.35em; text-transform: uppercase; vertical-align: middle; margin-left: 0.5rem\">ORG</span>\n",
       "</mark>\n",
       ".</div></span>"
      ],
      "text/plain": [
       "<IPython.core.display.HTML object>"
      ]
     },
     "metadata": {},
     "output_type": "display_data"
    }
   ],
   "source": [
    "sens = \"Muffins cost $3.88 in New York. Please buy me two as I can't go.\" \\\n",
    "\" They'll taste good. I'm going to Finland's capital to hear about state-of-the-art solutions in NLP.\"\n",
    "\n",
    "doc = nlp(sens)\n",
    "for ent in doc.ents:\n",
    "    print(ent)\n",
    "\n",
    "    \n",
    "displacy.render(doc, style='ent', jupyter=True)"
   ]
  },
  {
   "cell_type": "markdown",
   "metadata": {
    "slideshow": {
     "slide_type": "subslide"
    }
   },
   "source": [
    "### Language modelling\n",
    "\n",
    "- One of the most important task in NLP\n",
    "- The goal is to compute the \"probability\" of a sentence\n",
    "- Can be used in:\n",
    "    - Machine Translation\n",
    "    - Text generation\n",
    "    - Correcting spelling\n",
    "    - Word vectors?\n",
    "- P(the quick brown __fox__) > P(the quick brown __stick__)"
   ]
  },
  {
   "cell_type": "code",
   "execution_count": 1,
   "metadata": {
    "slideshow": {
     "slide_type": "subslide"
    }
   },
   "outputs": [
    {
     "name": "stdout",
     "output_type": "stream",
     "text": [
      "Requirement already satisfied: pip in ./anaconda3/lib/python3.8/site-packages (21.0.1)\n",
      "Requirement already satisfied: tensorflow in ./anaconda3/lib/python3.8/site-packages (2.4.1)\n",
      "Requirement already satisfied: opt-einsum~=3.3.0 in ./anaconda3/lib/python3.8/site-packages (from tensorflow) (3.3.0)\n",
      "Requirement already satisfied: astunparse~=1.6.3 in ./anaconda3/lib/python3.8/site-packages (from tensorflow) (1.6.3)\n",
      "Requirement already satisfied: grpcio~=1.32.0 in ./anaconda3/lib/python3.8/site-packages (from tensorflow) (1.32.0)\n",
      "Requirement already satisfied: numpy~=1.19.2 in ./anaconda3/lib/python3.8/site-packages (from tensorflow) (1.19.2)\n",
      "Requirement already satisfied: h5py~=2.10.0 in ./anaconda3/lib/python3.8/site-packages (from tensorflow) (2.10.0)\n",
      "Requirement already satisfied: flatbuffers~=1.12.0 in ./anaconda3/lib/python3.8/site-packages (from tensorflow) (1.12)\n",
      "Requirement already satisfied: gast==0.3.3 in ./anaconda3/lib/python3.8/site-packages (from tensorflow) (0.3.3)\n",
      "Requirement already satisfied: termcolor~=1.1.0 in ./anaconda3/lib/python3.8/site-packages (from tensorflow) (1.1.0)\n",
      "Requirement already satisfied: keras-preprocessing~=1.1.2 in ./anaconda3/lib/python3.8/site-packages (from tensorflow) (1.1.2)\n",
      "Requirement already satisfied: protobuf>=3.9.2 in ./anaconda3/lib/python3.8/site-packages (from tensorflow) (3.15.6)\n",
      "Requirement already satisfied: wheel~=0.35 in ./anaconda3/lib/python3.8/site-packages (from tensorflow) (0.35.1)\n",
      "Requirement already satisfied: tensorboard~=2.4 in ./anaconda3/lib/python3.8/site-packages (from tensorflow) (2.4.1)\n",
      "Requirement already satisfied: absl-py~=0.10 in ./anaconda3/lib/python3.8/site-packages (from tensorflow) (0.12.0)\n",
      "Requirement already satisfied: wrapt~=1.12.1 in ./anaconda3/lib/python3.8/site-packages (from tensorflow) (1.12.1)\n",
      "Requirement already satisfied: typing-extensions~=3.7.4 in ./anaconda3/lib/python3.8/site-packages (from tensorflow) (3.7.4.3)\n",
      "Requirement already satisfied: tensorflow-estimator<2.5.0,>=2.4.0 in ./anaconda3/lib/python3.8/site-packages (from tensorflow) (2.4.0)\n",
      "Requirement already satisfied: six~=1.15.0 in ./anaconda3/lib/python3.8/site-packages (from tensorflow) (1.15.0)\n",
      "Requirement already satisfied: google-pasta~=0.2 in ./anaconda3/lib/python3.8/site-packages (from tensorflow) (0.2.0)\n",
      "Requirement already satisfied: tensorboard-plugin-wit>=1.6.0 in ./anaconda3/lib/python3.8/site-packages (from tensorboard~=2.4->tensorflow) (1.8.0)\n",
      "Requirement already satisfied: markdown>=2.6.8 in ./anaconda3/lib/python3.8/site-packages (from tensorboard~=2.4->tensorflow) (3.3.4)\n",
      "Requirement already satisfied: setuptools>=41.0.0 in ./anaconda3/lib/python3.8/site-packages (from tensorboard~=2.4->tensorflow) (50.3.1.post20201107)\n",
      "Requirement already satisfied: google-auth<2,>=1.6.3 in ./anaconda3/lib/python3.8/site-packages (from tensorboard~=2.4->tensorflow) (1.27.1)\n",
      "Requirement already satisfied: werkzeug>=0.11.15 in ./anaconda3/lib/python3.8/site-packages (from tensorboard~=2.4->tensorflow) (1.0.1)\n",
      "Requirement already satisfied: requests<3,>=2.21.0 in ./anaconda3/lib/python3.8/site-packages (from tensorboard~=2.4->tensorflow) (2.24.0)\n",
      "Requirement already satisfied: google-auth-oauthlib<0.5,>=0.4.1 in ./anaconda3/lib/python3.8/site-packages (from tensorboard~=2.4->tensorflow) (0.4.3)\n",
      "Requirement already satisfied: rsa<5,>=3.1.4 in ./anaconda3/lib/python3.8/site-packages (from google-auth<2,>=1.6.3->tensorboard~=2.4->tensorflow) (4.7.2)\n",
      "Requirement already satisfied: cachetools<5.0,>=2.0.0 in ./anaconda3/lib/python3.8/site-packages (from google-auth<2,>=1.6.3->tensorboard~=2.4->tensorflow) (4.2.1)\n",
      "Requirement already satisfied: pyasn1-modules>=0.2.1 in ./anaconda3/lib/python3.8/site-packages (from google-auth<2,>=1.6.3->tensorboard~=2.4->tensorflow) (0.2.8)\n",
      "Requirement already satisfied: requests-oauthlib>=0.7.0 in ./anaconda3/lib/python3.8/site-packages (from google-auth-oauthlib<0.5,>=0.4.1->tensorboard~=2.4->tensorflow) (1.3.0)\n",
      "Requirement already satisfied: pyasn1<0.5.0,>=0.4.6 in ./anaconda3/lib/python3.8/site-packages (from pyasn1-modules>=0.2.1->google-auth<2,>=1.6.3->tensorboard~=2.4->tensorflow) (0.4.8)\n",
      "Requirement already satisfied: certifi>=2017.4.17 in ./anaconda3/lib/python3.8/site-packages (from requests<3,>=2.21.0->tensorboard~=2.4->tensorflow) (2020.6.20)\n",
      "Requirement already satisfied: idna<3,>=2.5 in ./anaconda3/lib/python3.8/site-packages (from requests<3,>=2.21.0->tensorboard~=2.4->tensorflow) (2.10)\n",
      "Requirement already satisfied: urllib3!=1.25.0,!=1.25.1,<1.26,>=1.21.1 in ./anaconda3/lib/python3.8/site-packages (from requests<3,>=2.21.0->tensorboard~=2.4->tensorflow) (1.25.11)\n",
      "Requirement already satisfied: chardet<4,>=3.0.2 in ./anaconda3/lib/python3.8/site-packages (from requests<3,>=2.21.0->tensorboard~=2.4->tensorflow) (3.0.4)\n",
      "Requirement already satisfied: oauthlib>=3.0.0 in ./anaconda3/lib/python3.8/site-packages (from requests-oauthlib>=0.7.0->google-auth-oauthlib<0.5,>=0.4.1->tensorboard~=2.4->tensorflow) (3.1.0)\n"
     ]
    }
   ],
   "source": [
    "!pip install --upgrade pip\n",
    "!pip install tensorflow\n",
    "\n",
    "\n",
    "#!pip install transformers\n",
    "#from transformers import pipeline\n",
    "\n",
    "#text_generator = pipeline(\"text-generation\")\n",
    "#print(text_generator(\"The quick brown \", max_length=10, do_sample=False))"
   ]
  },
  {
   "cell_type": "code",
   "execution_count": 20,
   "metadata": {},
   "outputs": [
    {
     "name": "stdout",
     "output_type": "stream",
     "text": [
      "Requirement already satisfied: transformers in ./anaconda3/lib/python3.8/site-packages (4.4.0)\n",
      "Requirement already satisfied: packaging in ./anaconda3/lib/python3.8/site-packages (from transformers) (20.4)\n",
      "Requirement already satisfied: numpy>=1.17 in ./anaconda3/lib/python3.8/site-packages (from transformers) (1.19.2)\n",
      "Requirement already satisfied: regex!=2019.12.17 in ./anaconda3/lib/python3.8/site-packages (from transformers) (2020.10.15)\n",
      "Requirement already satisfied: tqdm>=4.27 in ./anaconda3/lib/python3.8/site-packages (from transformers) (4.50.2)\n",
      "Requirement already satisfied: filelock in ./anaconda3/lib/python3.8/site-packages (from transformers) (3.0.12)\n",
      "Requirement already satisfied: tokenizers<0.11,>=0.10.1 in ./anaconda3/lib/python3.8/site-packages (from transformers) (0.10.1)\n",
      "Requirement already satisfied: sacremoses in ./anaconda3/lib/python3.8/site-packages (from transformers) (0.0.43)\n",
      "Requirement already satisfied: requests in ./anaconda3/lib/python3.8/site-packages (from transformers) (2.24.0)\n",
      "Requirement already satisfied: six in ./anaconda3/lib/python3.8/site-packages (from packaging->transformers) (1.15.0)\n",
      "Requirement already satisfied: pyparsing>=2.0.2 in ./anaconda3/lib/python3.8/site-packages (from packaging->transformers) (2.4.7)\n",
      "Requirement already satisfied: urllib3!=1.25.0,!=1.25.1,<1.26,>=1.21.1 in ./anaconda3/lib/python3.8/site-packages (from requests->transformers) (1.25.11)\n",
      "Requirement already satisfied: certifi>=2017.4.17 in ./anaconda3/lib/python3.8/site-packages (from requests->transformers) (2020.6.20)\n",
      "Requirement already satisfied: idna<3,>=2.5 in ./anaconda3/lib/python3.8/site-packages (from requests->transformers) (2.10)\n",
      "Requirement already satisfied: chardet<4,>=3.0.2 in ./anaconda3/lib/python3.8/site-packages (from requests->transformers) (3.0.4)\n",
      "Requirement already satisfied: joblib in ./anaconda3/lib/python3.8/site-packages (from sacremoses->transformers) (0.17.0)\n",
      "Requirement already satisfied: click in ./anaconda3/lib/python3.8/site-packages (from sacremoses->transformers) (7.1.2)\n"
     ]
    }
   ],
   "source": [
    "!pip install transformers\n"
   ]
  },
  {
   "cell_type": "code",
   "execution_count": 26,
   "metadata": {},
   "outputs": [
    {
     "ename": "RuntimeError",
     "evalue": "At least one of TensorFlow 2.0 or PyTorch should be installed. To install TensorFlow 2.0, read the instructions at https://www.tensorflow.org/install/ To install PyTorch, read the instructions at https://pytorch.org/.",
     "output_type": "error",
     "traceback": [
      "\u001b[0;31m---------------------------------------------------------------------------\u001b[0m",
      "\u001b[0;31mRuntimeError\u001b[0m                              Traceback (most recent call last)",
      "\u001b[0;32m<ipython-input-26-f286d02aa16f>\u001b[0m in \u001b[0;36m<module>\u001b[0;34m\u001b[0m\n\u001b[1;32m      1\u001b[0m \u001b[0;32mfrom\u001b[0m \u001b[0mtransformers\u001b[0m \u001b[0;32mimport\u001b[0m \u001b[0mpipeline\u001b[0m\u001b[0;34m\u001b[0m\u001b[0;34m\u001b[0m\u001b[0m\n\u001b[1;32m      2\u001b[0m \u001b[0;34m\u001b[0m\u001b[0m\n\u001b[0;32m----> 3\u001b[0;31m \u001b[0mtext_generator\u001b[0m \u001b[0;34m=\u001b[0m \u001b[0mpipeline\u001b[0m\u001b[0;34m(\u001b[0m\u001b[0;34m\"text-generation\"\u001b[0m\u001b[0;34m)\u001b[0m\u001b[0;34m\u001b[0m\u001b[0;34m\u001b[0m\u001b[0m\n\u001b[0m\u001b[1;32m      4\u001b[0m \u001b[0;31m#print(text_generator(\"The quick brown \", max_length=10, do_sample=False))\u001b[0m\u001b[0;34m\u001b[0m\u001b[0;34m\u001b[0m\u001b[0;34m\u001b[0m\u001b[0m\n",
      "\u001b[0;32m~/anaconda3/lib/python3.8/site-packages/transformers/pipelines/__init__.py\u001b[0m in \u001b[0;36mpipeline\u001b[0;34m(task, model, config, tokenizer, framework, revision, use_fast, model_kwargs, **kwargs)\u001b[0m\n\u001b[1;32m    342\u001b[0m         \u001b[0mmodel\u001b[0m \u001b[0;34m=\u001b[0m \u001b[0mget_default_model\u001b[0m\u001b[0;34m(\u001b[0m\u001b[0mtargeted_task\u001b[0m\u001b[0;34m,\u001b[0m \u001b[0mframework\u001b[0m\u001b[0;34m,\u001b[0m \u001b[0mtask_options\u001b[0m\u001b[0;34m)\u001b[0m\u001b[0;34m\u001b[0m\u001b[0;34m\u001b[0m\u001b[0m\n\u001b[1;32m    343\u001b[0m \u001b[0;34m\u001b[0m\u001b[0m\n\u001b[0;32m--> 344\u001b[0;31m     \u001b[0mframework\u001b[0m \u001b[0;34m=\u001b[0m \u001b[0mframework\u001b[0m \u001b[0;32mor\u001b[0m \u001b[0mget_framework\u001b[0m\u001b[0;34m(\u001b[0m\u001b[0mmodel\u001b[0m\u001b[0;34m)\u001b[0m\u001b[0;34m\u001b[0m\u001b[0;34m\u001b[0m\u001b[0m\n\u001b[0m\u001b[1;32m    345\u001b[0m \u001b[0;34m\u001b[0m\u001b[0m\n\u001b[1;32m    346\u001b[0m     \u001b[0mtask_class\u001b[0m\u001b[0;34m,\u001b[0m \u001b[0mmodel_class\u001b[0m \u001b[0;34m=\u001b[0m \u001b[0mtargeted_task\u001b[0m\u001b[0;34m[\u001b[0m\u001b[0;34m\"impl\"\u001b[0m\u001b[0;34m]\u001b[0m\u001b[0;34m,\u001b[0m \u001b[0mtargeted_task\u001b[0m\u001b[0;34m[\u001b[0m\u001b[0mframework\u001b[0m\u001b[0;34m]\u001b[0m\u001b[0;34m\u001b[0m\u001b[0;34m\u001b[0m\u001b[0m\n",
      "\u001b[0;32m~/anaconda3/lib/python3.8/site-packages/transformers/pipelines/base.py\u001b[0m in \u001b[0;36mget_framework\u001b[0;34m(model, revision)\u001b[0m\n\u001b[1;32m     57\u001b[0m     \"\"\"\n\u001b[1;32m     58\u001b[0m     \u001b[0;32mif\u001b[0m \u001b[0;32mnot\u001b[0m \u001b[0mis_tf_available\u001b[0m\u001b[0;34m(\u001b[0m\u001b[0;34m)\u001b[0m \u001b[0;32mand\u001b[0m \u001b[0;32mnot\u001b[0m \u001b[0mis_torch_available\u001b[0m\u001b[0;34m(\u001b[0m\u001b[0;34m)\u001b[0m\u001b[0;34m:\u001b[0m\u001b[0;34m\u001b[0m\u001b[0;34m\u001b[0m\u001b[0m\n\u001b[0;32m---> 59\u001b[0;31m         raise RuntimeError(\n\u001b[0m\u001b[1;32m     60\u001b[0m             \u001b[0;34m\"At least one of TensorFlow 2.0 or PyTorch should be installed. \"\u001b[0m\u001b[0;34m\u001b[0m\u001b[0;34m\u001b[0m\u001b[0m\n\u001b[1;32m     61\u001b[0m             \u001b[0;34m\"To install TensorFlow 2.0, read the instructions at https://www.tensorflow.org/install/ \"\u001b[0m\u001b[0;34m\u001b[0m\u001b[0;34m\u001b[0m\u001b[0m\n",
      "\u001b[0;31mRuntimeError\u001b[0m: At least one of TensorFlow 2.0 or PyTorch should be installed. To install TensorFlow 2.0, read the instructions at https://www.tensorflow.org/install/ To install PyTorch, read the instructions at https://pytorch.org/."
     ]
    }
   ],
   "source": [
    "from transformers import pipeline\n",
    "\n",
    "text_generator = pipeline(\"text-generation\")\n",
    "#print(text_generator(\"The quick brown \", max_length=10, do_sample=False))"
   ]
  },
  {
   "cell_type": "markdown",
   "metadata": {
    "slideshow": {
     "slide_type": "subslide"
    }
   },
   "source": [
    "## Semantic tasks"
   ]
  },
  {
   "cell_type": "markdown",
   "metadata": {
    "slideshow": {
     "slide_type": "subslide"
    }
   },
   "source": [
    "### Summarization"
   ]
  },
  {
   "cell_type": "code",
   "execution_count": 25,
   "metadata": {
    "slideshow": {
     "slide_type": "fragment"
    }
   },
   "outputs": [
    {
     "ename": "RuntimeError",
     "evalue": "At least one of TensorFlow 2.0 or PyTorch should be installed. To install TensorFlow 2.0, read the instructions at https://www.tensorflow.org/install/ To install PyTorch, read the instructions at https://pytorch.org/.",
     "output_type": "error",
     "traceback": [
      "\u001b[0;31m---------------------------------------------------------------------------\u001b[0m",
      "\u001b[0;31mRuntimeError\u001b[0m                              Traceback (most recent call last)",
      "\u001b[0;32m<ipython-input-25-c1598f16168e>\u001b[0m in \u001b[0;36m<module>\u001b[0;34m\u001b[0m\n\u001b[0;32m----> 1\u001b[0;31m \u001b[0msummarizer\u001b[0m \u001b[0;34m=\u001b[0m \u001b[0mpipeline\u001b[0m\u001b[0;34m(\u001b[0m\u001b[0;34m\"summarization\"\u001b[0m\u001b[0;34m)\u001b[0m\u001b[0;34m\u001b[0m\u001b[0;34m\u001b[0m\u001b[0m\n\u001b[0m\u001b[1;32m      2\u001b[0m summarizer(\"Deep learning is used almost exclusively in a Linux environment.\\\n\u001b[1;32m      3\u001b[0m \u001b[0mYou\u001b[0m \u001b[0mneed\u001b[0m \u001b[0mto\u001b[0m \u001b[0mbe\u001b[0m \u001b[0mcomfortable\u001b[0m \u001b[0musing\u001b[0m \u001b[0mthe\u001b[0m \u001b[0mcommand\u001b[0m \u001b[0mline\u001b[0m \u001b[0;32mif\u001b[0m \u001b[0myou\u001b[0m \u001b[0mare\u001b[0m \u001b[0mserious\u001b[0m \u001b[0mabout\u001b[0m \u001b[0mdeep\u001b[0m \u001b[0mlearning\u001b[0m \u001b[0;32mand\u001b[0m \u001b[0mNLP\u001b[0m\u001b[0;34m.\u001b[0m\u001b[0;31m\\\u001b[0m\u001b[0;34m\u001b[0m\u001b[0;34m\u001b[0m\u001b[0m\n\u001b[1;32m      4\u001b[0m     \u001b[0mMost\u001b[0m \u001b[0mNLP\u001b[0m \u001b[0;32mand\u001b[0m \u001b[0mdeep\u001b[0m \u001b[0mlearning\u001b[0m \u001b[0mlibraries\u001b[0m \u001b[0mhave\u001b[0m \u001b[0mbetter\u001b[0m \u001b[0msupport\u001b[0m \u001b[0;32mfor\u001b[0m \u001b[0mLinux\u001b[0m \u001b[0;32mand\u001b[0m \u001b[0mMacOS\u001b[0m \u001b[0mthan\u001b[0m \u001b[0mWindows\u001b[0m\u001b[0;34m.\u001b[0m\u001b[0;31m \u001b[0m\u001b[0;31m\\\u001b[0m\u001b[0;34m\u001b[0m\u001b[0;34m\u001b[0m\u001b[0m\n\u001b[1;32m      5\u001b[0m     \u001b[0mMost\u001b[0m \u001b[0mpapers\u001b[0m \u001b[0mnowadays\u001b[0m \u001b[0mrelease\u001b[0m \u001b[0mthe\u001b[0m \u001b[0msource\u001b[0m \u001b[0mcode\u001b[0m \u001b[0;32mfor\u001b[0m \u001b[0mtheir\u001b[0m \u001b[0mexperiments\u001b[0m \u001b[0;32mwith\u001b[0m \u001b[0mLinux\u001b[0m \u001b[0msupport\u001b[0m \u001b[0monly\u001b[0m\u001b[0;34m.\u001b[0m\u001b[0;31m\"\u001b[0m\u001b[0;34m,\u001b[0m\u001b[0;34m\u001b[0m\u001b[0;34m\u001b[0m\u001b[0m\n",
      "\u001b[0;32m~/anaconda3/lib/python3.8/site-packages/transformers/pipelines/__init__.py\u001b[0m in \u001b[0;36mpipeline\u001b[0;34m(task, model, config, tokenizer, framework, revision, use_fast, model_kwargs, **kwargs)\u001b[0m\n\u001b[1;32m    342\u001b[0m         \u001b[0mmodel\u001b[0m \u001b[0;34m=\u001b[0m \u001b[0mget_default_model\u001b[0m\u001b[0;34m(\u001b[0m\u001b[0mtargeted_task\u001b[0m\u001b[0;34m,\u001b[0m \u001b[0mframework\u001b[0m\u001b[0;34m,\u001b[0m \u001b[0mtask_options\u001b[0m\u001b[0;34m)\u001b[0m\u001b[0;34m\u001b[0m\u001b[0;34m\u001b[0m\u001b[0m\n\u001b[1;32m    343\u001b[0m \u001b[0;34m\u001b[0m\u001b[0m\n\u001b[0;32m--> 344\u001b[0;31m     \u001b[0mframework\u001b[0m \u001b[0;34m=\u001b[0m \u001b[0mframework\u001b[0m \u001b[0;32mor\u001b[0m \u001b[0mget_framework\u001b[0m\u001b[0;34m(\u001b[0m\u001b[0mmodel\u001b[0m\u001b[0;34m)\u001b[0m\u001b[0;34m\u001b[0m\u001b[0;34m\u001b[0m\u001b[0m\n\u001b[0m\u001b[1;32m    345\u001b[0m \u001b[0;34m\u001b[0m\u001b[0m\n\u001b[1;32m    346\u001b[0m     \u001b[0mtask_class\u001b[0m\u001b[0;34m,\u001b[0m \u001b[0mmodel_class\u001b[0m \u001b[0;34m=\u001b[0m \u001b[0mtargeted_task\u001b[0m\u001b[0;34m[\u001b[0m\u001b[0;34m\"impl\"\u001b[0m\u001b[0;34m]\u001b[0m\u001b[0;34m,\u001b[0m \u001b[0mtargeted_task\u001b[0m\u001b[0;34m[\u001b[0m\u001b[0mframework\u001b[0m\u001b[0;34m]\u001b[0m\u001b[0;34m\u001b[0m\u001b[0;34m\u001b[0m\u001b[0m\n",
      "\u001b[0;32m~/anaconda3/lib/python3.8/site-packages/transformers/pipelines/base.py\u001b[0m in \u001b[0;36mget_framework\u001b[0;34m(model, revision)\u001b[0m\n\u001b[1;32m     57\u001b[0m     \"\"\"\n\u001b[1;32m     58\u001b[0m     \u001b[0;32mif\u001b[0m \u001b[0;32mnot\u001b[0m \u001b[0mis_tf_available\u001b[0m\u001b[0;34m(\u001b[0m\u001b[0;34m)\u001b[0m \u001b[0;32mand\u001b[0m \u001b[0;32mnot\u001b[0m \u001b[0mis_torch_available\u001b[0m\u001b[0;34m(\u001b[0m\u001b[0;34m)\u001b[0m\u001b[0;34m:\u001b[0m\u001b[0;34m\u001b[0m\u001b[0;34m\u001b[0m\u001b[0m\n\u001b[0;32m---> 59\u001b[0;31m         raise RuntimeError(\n\u001b[0m\u001b[1;32m     60\u001b[0m             \u001b[0;34m\"At least one of TensorFlow 2.0 or PyTorch should be installed. \"\u001b[0m\u001b[0;34m\u001b[0m\u001b[0;34m\u001b[0m\u001b[0m\n\u001b[1;32m     61\u001b[0m             \u001b[0;34m\"To install TensorFlow 2.0, read the instructions at https://www.tensorflow.org/install/ \"\u001b[0m\u001b[0;34m\u001b[0m\u001b[0;34m\u001b[0m\u001b[0m\n",
      "\u001b[0;31mRuntimeError\u001b[0m: At least one of TensorFlow 2.0 or PyTorch should be installed. To install TensorFlow 2.0, read the instructions at https://www.tensorflow.org/install/ To install PyTorch, read the instructions at https://pytorch.org/."
     ]
    }
   ],
   "source": [
    "summarizer = pipeline(\"summarization\")\n",
    "summarizer(\"Deep learning is used almost exclusively in a Linux environment.\\\n",
    "You need to be comfortable using the command line if you are serious about deep learning and NLP.\\\n",
    "    Most NLP and deep learning libraries have better support for Linux and MacOS than Windows. \\\n",
    "    Most papers nowadays release the source code for their experiments with Linux support only.\",\n",
    "           min_length=5)"
   ]
  },
  {
   "cell_type": "markdown",
   "metadata": {
    "slideshow": {
     "slide_type": "subslide"
    }
   },
   "source": [
    "### Sentiment Analysis\n",
    "- In the simplest case, decide whether a text is negative or positive."
   ]
  },
  {
   "cell_type": "code",
   "execution_count": null,
   "metadata": {
    "slideshow": {
     "slide_type": "fragment"
    }
   },
   "outputs": [],
   "source": [
    "sentiment = pipeline(\"sentiment-analysis\")\n",
    "sentiment(['This class is really cool! I would recommend this to anyone!'])"
   ]
  },
  {
   "cell_type": "markdown",
   "metadata": {
    "slideshow": {
     "slide_type": "subslide"
    }
   },
   "source": [
    "### Question Answering\n",
    "\n",
    "- Given a context and a question choose the right answer\n",
    "- Can be extractive or abstractive"
   ]
  },
  {
   "cell_type": "code",
   "execution_count": null,
   "metadata": {
    "slideshow": {
     "slide_type": "fragment"
    }
   },
   "outputs": [],
   "source": [
    "question_answerer = pipeline('question-answering')\n",
    "question_answerer({\n",
    "    'question': 'Who went to the store ?',\n",
    "    'context': 'Adam went to the store yesterday.'})"
   ]
  },
  {
   "cell_type": "markdown",
   "metadata": {
    "slideshow": {
     "slide_type": "subslide"
    }
   },
   "source": [
    "### <center>Lexical Inference, Natural Language Inference</center>\n",
    "\n",
    "\n",
    "\n",
    "<div class=\"frame\">\n",
    "\n",
    "| **entailment**                                                |     |     |\n",
    "|:--------------------------------------------------------------|:----|:----|\n",
    "| A young family enjoys feeling ocean waves lap at their feet.  |     |     |\n",
    "| A family is at the beach                                      |     |     |\n",
    "| **contradiction**                                             |     |     |\n",
    "| There is no man wearing a black helmet and pushing a bicycle  |     |     |\n",
    "| One man is wearing a black helmet and pushing a bicycle       |     |     |\n",
    "| **neutral**                                                   |     |     |\n",
    "| An old man with a package poses in front of an advertisement. |     |     |\n",
    "| A man poses in front of an ad for beer.                       |     |     |\n",
    "\n",
    "</div>"
   ]
  },
  {
   "cell_type": "markdown",
   "metadata": {
    "slideshow": {
     "slide_type": "subslide"
    }
   },
   "source": [
    "### Machine Comprehension\n",
    "\n",
    "- https://demo.allennlp.org/reading-comprehension"
   ]
  },
  {
   "cell_type": "markdown",
   "metadata": {
    "slideshow": {
     "slide_type": "fragment"
    }
   },
   "source": [
    "### Machine translation"
   ]
  },
  {
   "cell_type": "code",
   "execution_count": null,
   "metadata": {
    "slideshow": {
     "slide_type": "fragment"
    }
   },
   "outputs": [],
   "source": [
    "translation = pipeline(\"translation_en_to_de\")\n",
    "text = \"I like to study Data Science and Machine Learning\"\n",
    "translated_text = translation(text, max_length=40)[0]['translation_text']\n",
    "print(translated_text)"
   ]
  },
  {
   "cell_type": "markdown",
   "metadata": {
    "slideshow": {
     "slide_type": "subslide"
    }
   },
   "source": [
    "### Chatbots"
   ]
  },
  {
   "cell_type": "code",
   "execution_count": null,
   "metadata": {
    "slideshow": {
     "slide_type": "fragment"
    }
   },
   "outputs": [],
   "source": [
    "#!pip install chatbotAI\n",
    "from chatbot import demo\n",
    "demo()"
   ]
  },
  {
   "cell_type": "markdown",
   "metadata": {
    "slideshow": {
     "slide_type": "subslide"
    }
   },
   "source": [
    "## Demos\n",
    "    - http://e-magyar.hu/hu/parser\n",
    "    - https://demo.allennlp.org/\n",
    "    - https://talktotransformer.com/\n",
    "    - [GPT-3](https://github.com/elyase/awesome-gpt3) (*has 175B parameters*)"
   ]
  },
  {
   "cell_type": "markdown",
   "metadata": {
    "slideshow": {
     "slide_type": "slide"
    }
   },
   "source": [
    "## Representations\n",
    "\n",
    "To be able to run machine learning algorithms the computer needs numerical representations. For natural text input this means we need a mapping that converts strings to a numerical represenatation. **one-hot encoding** is the easiest approach where we map each word to an integer id.\n"
   ]
  },
  {
   "cell_type": "code",
   "execution_count": 2,
   "metadata": {
    "slideshow": {
     "slide_type": "subslide"
    }
   },
   "outputs": [],
   "source": [
    "sentence = \"yesterday the lazy dog went to the store to buy food\""
   ]
  },
  {
   "cell_type": "code",
   "execution_count": 3,
   "metadata": {
    "slideshow": {
     "slide_type": "fragment"
    }
   },
   "outputs": [
    {
     "name": "stdout",
     "output_type": "stream",
     "text": [
      "{'yesterday': 0, 'the': 1, 'lazy': 2, 'dog': 3, 'went': 4, 'to': 5, 'store': 6, 'buy': 7, 'food': 8}\n"
     ]
    }
   ],
   "source": [
    "mapping = dict()\n",
    "max_id = 0\n",
    "\n",
    "for word in sentence.split():\n",
    "    if word not in mapping:\n",
    "        mapping[word] = max_id\n",
    "        max_id = max_id + 1\n",
    "        \n",
    "print(mapping)"
   ]
  },
  {
   "cell_type": "markdown",
   "metadata": {
    "slideshow": {
     "slide_type": "subslide"
    }
   },
   "source": [
    "### Load matplotlib and pandas"
   ]
  },
  {
   "cell_type": "code",
   "execution_count": 4,
   "metadata": {
    "slideshow": {
     "slide_type": "fragment"
    }
   },
   "outputs": [],
   "source": [
    "import os\n",
    "import pandas as pd\n",
    "import re"
   ]
  },
  {
   "cell_type": "markdown",
   "metadata": {
    "slideshow": {
     "slide_type": "subslide"
    }
   },
   "source": [
    "# Data analysis\n",
    "\n",
    "- we use nlp frameworks for the basic tasks\n",
    "- for the preprocessing tasks (lemmatization, tokenization) we use [spaCy](https://spacy.io/)\n",
    "- for keyword extraction and various text analyzation tasks we use [textacy](https://github.com/chartbeat-labs/textacy)\n",
    "- textacy builds on spaCy output\n",
    "- both are open source python libraries"
   ]
  },
  {
   "cell_type": "markdown",
   "metadata": {
    "slideshow": {
     "slide_type": "subslide"
    }
   },
   "source": [
    "<p><strong>AG_NEWS</strong> classes:</p>\n",
    "<ul>\n",
    "<li>\n",
    "<p>World - <em>Venezuela Prepares for Chavez Recall Vote</em></p>\n",
    "</li>\n",
    "<li>\n",
    "<p>Sports - <em>Johnson Back to His Best as D-Backs End Streak</em></p>\n",
    "</li>\n",
    "<li>\n",
    "<p>Business - <em>Intel to delay product aimed for high-definition TVs</em></p>\n",
    "</li>\n",
    "<li>\n",
    "<p>Sci/Tech - <em>China's Red Flag Linux to focus on enterprise</em></p>\n",
    "</li>\n",
    "</ul>"
   ]
  },
  {
   "cell_type": "code",
   "execution_count": 7,
   "metadata": {
    "slideshow": {
     "slide_type": "subslide"
    }
   },
   "outputs": [
    {
     "name": "stdout",
     "output_type": "stream",
     "text": [
      "Collecting torchtext==0.4\n",
      "  Downloading torchtext-0.4.0-py3-none-any.whl (53 kB)\n",
      "\u001b[K     |████████████████████████████████| 53 kB 62 kB/s  eta 0:00:01\n",
      "\u001b[?25hRequirement already satisfied: numpy in ./anaconda3/lib/python3.8/site-packages (from torchtext==0.4) (1.19.2)\n",
      "Requirement already satisfied: tqdm in ./anaconda3/lib/python3.8/site-packages (from torchtext==0.4) (4.50.2)\n",
      "Requirement already satisfied: torch in ./anaconda3/lib/python3.8/site-packages (from torchtext==0.4) (1.8.0)\n",
      "Requirement already satisfied: six in ./anaconda3/lib/python3.8/site-packages (from torchtext==0.4) (1.15.0)\n",
      "Requirement already satisfied: requests in ./anaconda3/lib/python3.8/site-packages (from torchtext==0.4) (2.24.0)\n",
      "Requirement already satisfied: urllib3!=1.25.0,!=1.25.1,<1.26,>=1.21.1 in ./anaconda3/lib/python3.8/site-packages (from requests->torchtext==0.4) (1.25.11)\n",
      "Requirement already satisfied: chardet<4,>=3.0.2 in ./anaconda3/lib/python3.8/site-packages (from requests->torchtext==0.4) (3.0.4)\n",
      "Requirement already satisfied: idna<3,>=2.5 in ./anaconda3/lib/python3.8/site-packages (from requests->torchtext==0.4) (2.10)\n",
      "Requirement already satisfied: certifi>=2017.4.17 in ./anaconda3/lib/python3.8/site-packages (from requests->torchtext==0.4) (2020.6.20)\n",
      "Requirement already satisfied: typing_extensions in ./anaconda3/lib/python3.8/site-packages (from torch->torchtext==0.4) (3.7.4.3)\n",
      "Installing collected packages: torchtext\n",
      "Successfully installed torchtext-0.4.0\n"
     ]
    },
    {
     "name": "stderr",
     "output_type": "stream",
     "text": [
      "ag_news_csv.tar.gz: 11.8MB [00:02, 4.36MB/s]\n",
      "120000lines [00:13, 9162.98lines/s]\n",
      "120000lines [00:23, 5077.35lines/s]\n",
      "7600lines [00:01, 5297.87lines/s]\n"
     ]
    },
    {
     "data": {
      "text/plain": [
       "(<torchtext.datasets.text_classification.TextClassificationDataset at 0x7f129f619e20>,\n",
       " <torchtext.datasets.text_classification.TextClassificationDataset at 0x7f129f5f9760>)"
      ]
     },
     "execution_count": 7,
     "metadata": {},
     "output_type": "execute_result"
    }
   ],
   "source": [
    "!pip install torchtext==0.4\n",
    "NGRAMS = 2\n",
    "from torchtext import data\n",
    "from torchtext.datasets import text_classification\n",
    "import os\n",
    "if not os.path.isdir('./data'):\n",
    "    os.mkdir('./data')\n",
    "text_classification.DATASETS['AG_NEWS'](\n",
    "    root='./data', ngrams=NGRAMS, vocab=None)"
   ]
  },
  {
   "cell_type": "code",
   "execution_count": 8,
   "metadata": {
    "slideshow": {
     "slide_type": "subslide"
    }
   },
   "outputs": [],
   "source": [
    "train_data = pd.read_csv(\"./data/ag_news_csv/train.csv\",quotechar='\"', names=['label', 'title', 'description'])\n",
    "test_data = pd.read_csv(\"./data/ag_news_csv/test.csv\",quotechar='\"', names=['label', 'title', 'description'])"
   ]
  },
  {
   "cell_type": "code",
   "execution_count": 9,
   "metadata": {
    "slideshow": {
     "slide_type": "fragment"
    }
   },
   "outputs": [
    {
     "data": {
      "text/html": [
       "<div>\n",
       "<style scoped>\n",
       "    .dataframe tbody tr th:only-of-type {\n",
       "        vertical-align: middle;\n",
       "    }\n",
       "\n",
       "    .dataframe tbody tr th {\n",
       "        vertical-align: top;\n",
       "    }\n",
       "\n",
       "    .dataframe thead th {\n",
       "        text-align: right;\n",
       "    }\n",
       "</style>\n",
       "<table border=\"1\" class=\"dataframe\">\n",
       "  <thead>\n",
       "    <tr style=\"text-align: right;\">\n",
       "      <th></th>\n",
       "      <th>label</th>\n",
       "      <th>title</th>\n",
       "      <th>description</th>\n",
       "    </tr>\n",
       "  </thead>\n",
       "  <tbody>\n",
       "    <tr>\n",
       "      <th>0</th>\n",
       "      <td>3</td>\n",
       "      <td>Wall St. Bears Claw Back Into the Black (Reuters)</td>\n",
       "      <td>Reuters - Short-sellers, Wall Street's dwindli...</td>\n",
       "    </tr>\n",
       "    <tr>\n",
       "      <th>1</th>\n",
       "      <td>3</td>\n",
       "      <td>Carlyle Looks Toward Commercial Aerospace (Reu...</td>\n",
       "      <td>Reuters - Private investment firm Carlyle Grou...</td>\n",
       "    </tr>\n",
       "    <tr>\n",
       "      <th>2</th>\n",
       "      <td>3</td>\n",
       "      <td>Oil and Economy Cloud Stocks' Outlook (Reuters)</td>\n",
       "      <td>Reuters - Soaring crude prices plus worries\\ab...</td>\n",
       "    </tr>\n",
       "    <tr>\n",
       "      <th>3</th>\n",
       "      <td>3</td>\n",
       "      <td>Iraq Halts Oil Exports from Main Southern Pipe...</td>\n",
       "      <td>Reuters - Authorities have halted oil export\\f...</td>\n",
       "    </tr>\n",
       "    <tr>\n",
       "      <th>4</th>\n",
       "      <td>3</td>\n",
       "      <td>Oil prices soar to all-time record, posing new...</td>\n",
       "      <td>AFP - Tearaway world oil prices, toppling reco...</td>\n",
       "    </tr>\n",
       "  </tbody>\n",
       "</table>\n",
       "</div>"
      ],
      "text/plain": [
       "   label                                              title  \\\n",
       "0      3  Wall St. Bears Claw Back Into the Black (Reuters)   \n",
       "1      3  Carlyle Looks Toward Commercial Aerospace (Reu...   \n",
       "2      3    Oil and Economy Cloud Stocks' Outlook (Reuters)   \n",
       "3      3  Iraq Halts Oil Exports from Main Southern Pipe...   \n",
       "4      3  Oil prices soar to all-time record, posing new...   \n",
       "\n",
       "                                         description  \n",
       "0  Reuters - Short-sellers, Wall Street's dwindli...  \n",
       "1  Reuters - Private investment firm Carlyle Grou...  \n",
       "2  Reuters - Soaring crude prices plus worries\\ab...  \n",
       "3  Reuters - Authorities have halted oil export\\f...  \n",
       "4  AFP - Tearaway world oil prices, toppling reco...  "
      ]
     },
     "execution_count": 9,
     "metadata": {},
     "output_type": "execute_result"
    }
   ],
   "source": [
    "train_data.head()"
   ]
  },
  {
   "cell_type": "code",
   "execution_count": 10,
   "metadata": {
    "slideshow": {
     "slide_type": "subslide"
    }
   },
   "outputs": [
    {
     "data": {
      "text/plain": [
       "4    30000\n",
       "3    30000\n",
       "2    30000\n",
       "1    30000\n",
       "Name: label, dtype: int64"
      ]
     },
     "execution_count": 10,
     "metadata": {},
     "output_type": "execute_result"
    }
   ],
   "source": [
    "train_data.label.value_counts()"
   ]
  },
  {
   "cell_type": "code",
   "execution_count": 13,
   "metadata": {
    "slideshow": {
     "slide_type": "subslide"
    }
   },
   "outputs": [],
   "source": [
    "text_sports = train_data[train_data.label == 2]\n",
    "\n",
    "text = \" \".join(text_sports.title.tolist()) # join all the components in text_sports into a big string\n",
    "doc_text = nlp(text[:200000]) # run Spacy on the big string"
   ]
  },
  {
   "cell_type": "code",
   "execution_count": 14,
   "metadata": {
    "slideshow": {
     "slide_type": "subslide"
    }
   },
   "outputs": [
    {
     "data": {
      "text/plain": [
       "[('red sox', 46),\n",
       " ('nl wrap', 40),\n",
       " ('gold medal', 40),\n",
       " ('world cup', 33),\n",
       " ('ryder cup', 31),\n",
       " ('al wrap', 25),\n",
       " ('white sox', 24),\n",
       " ('kobe bryant', 23),\n",
       " ('team report', 21),\n",
       " ('u.s. open', 21)]"
      ]
     },
     "execution_count": 14,
     "metadata": {},
     "output_type": "execute_result"
    }
   ],
   "source": [
    "import textacy\n",
    "from textacy.extract import ngrams\n",
    "from collections import Counter\n",
    "\n",
    "Counter([ng.text.lower() for n in [2,4] for ng in ngrams(doc_text, n)]).most_common(10)\n",
    "# most_common() in order to print out the most common ngram (in this case is n=2, a group of two words usually used together)"
   ]
  },
  {
   "cell_type": "code",
   "execution_count": 15,
   "metadata": {
    "slideshow": {
     "slide_type": "subslide"
    }
   },
   "outputs": [
    {
     "data": {
      "text/plain": [
       "[('record sixth olympic diving gold medal Slesarenko Strikes Gold Losing run',\n",
       "  0.01183391666528019),\n",
       " ('Games Gold Binge U.S. Wins Sailing Gold Equestrian Medal Overturned Phelps',\n",
       "  0.010941432455239743),\n",
       " ('Kiwi gold Super Saturday Arsenal win thriller', 0.010914927547145643),\n",
       " ('nesterenko win Sprint gold', 0.01019445623053206),\n",
       " ('fourth Gold Ainslie clinch Finn gold Olympic Games', 0.00977948688922309),\n",
       " ('gold dream gold', 0.008858103117735803),\n",
       " ('Olympics gold medal winner Federer', 0.00844335354995614),\n",
       " ('win Toronto Blue Jays Team Report', 0.008222057979792936),\n",
       " ('Fabulous Felix german woman Grab Hockey Gold American Dwight Phillips Captures Long Jump Gold NCAA',\n",
       "  0.008072903393520344),\n",
       " ('good win man u bid', 0.007982809673619098)]"
      ]
     },
     "execution_count": 15,
     "metadata": {},
     "output_type": "execute_result"
    }
   ],
   "source": [
    "from textacy.ke import textrank # textrank: to get the most important concept in a word\n",
    "\n",
    "textrank(\n",
    "    doc_text,\n",
    "    normalize = \"lemma\",\n",
    "    window_size=2, edge_weighting=\"binary\", position_bias=False\n",
    ")\n"
   ]
  },
  {
   "cell_type": "code",
   "execution_count": 16,
   "metadata": {
    "slideshow": {
     "slide_type": "subslide"
    }
   },
   "outputs": [
    {
     "data": {
      "text/plain": [
       "[('record sixth olympic diving gold medal Slesarenko Strikes Gold Losing run',\n",
       "  0.014302772644821592),\n",
       " ('Kiwi gold Super Saturday Arsenal win thriller', 0.013483172307126604),\n",
       " ('nesterenko win Sprint gold', 0.012879870057645973),\n",
       " ('Games Gold Binge U.S. Wins Sailing Gold Equestrian Medal Overturned Phelps',\n",
       "  0.012847449013871526),\n",
       " ('AP', 0.012545802631352396),\n",
       " ('gold dream gold', 0.012300083402040644),\n",
       " ('fourth Gold Ainslie clinch Finn gold Olympic Games', 0.01196383143356531),\n",
       " ('Olympics gold medal winner Federer', 0.011217678718954618),\n",
       " ('Athens Olympics Tourists award gold', 0.010504370864526096),\n",
       " ('win Toronto Blue Jays Team Report', 0.010266207635133714)]"
      ]
     },
     "execution_count": 16,
     "metadata": {},
     "output_type": "execute_result"
    }
   ],
   "source": [
    "textrank(\n",
    "    doc_text,\n",
    "    window_size=10, edge_weighting=\"count\", position_bias=False\n",
    ")"
   ]
  },
  {
   "cell_type": "code",
   "execution_count": 17,
   "metadata": {
    "slideshow": {
     "slide_type": "subslide"
    }
   },
   "outputs": [],
   "source": [
    "import math\n",
    "from collections import Counter \n",
    "words = [tok for tok in doc_text if tok.is_alpha and not tok.is_stop]\n",
    "word_probs = {tok.text.lower(): tok.prob for tok in words}\n",
    "\n",
    "freqs = Counter(tok.text for tok in words)"
   ]
  },
  {
   "cell_type": "code",
   "execution_count": 18,
   "metadata": {
    "slideshow": {
     "slide_type": "subslide"
    }
   },
   "outputs": [
    {
     "name": "stdout",
     "output_type": "stream",
     "text": [
      "Collecting wordcloud\n",
      "  Downloading wordcloud-1.8.1-cp38-cp38-manylinux1_x86_64.whl (371 kB)\n",
      "\u001b[K     |████████████████████████████████| 371 kB 1.8 MB/s eta 0:00:01\n",
      "\u001b[?25hRequirement already satisfied: matplotlib in ./anaconda3/lib/python3.8/site-packages (from wordcloud) (3.3.2)\n",
      "Requirement already satisfied: numpy>=1.6.1 in ./anaconda3/lib/python3.8/site-packages (from wordcloud) (1.19.2)\n",
      "Requirement already satisfied: pillow in ./anaconda3/lib/python3.8/site-packages (from wordcloud) (8.0.1)\n",
      "Requirement already satisfied: cycler>=0.10 in ./anaconda3/lib/python3.8/site-packages (from matplotlib->wordcloud) (0.10.0)\n",
      "Requirement already satisfied: python-dateutil>=2.1 in ./anaconda3/lib/python3.8/site-packages (from matplotlib->wordcloud) (2.8.1)\n",
      "Requirement already satisfied: kiwisolver>=1.0.1 in ./anaconda3/lib/python3.8/site-packages (from matplotlib->wordcloud) (1.3.0)\n",
      "Requirement already satisfied: pyparsing!=2.0.4,!=2.1.2,!=2.1.6,>=2.0.3 in ./anaconda3/lib/python3.8/site-packages (from matplotlib->wordcloud) (2.4.7)\n",
      "Requirement already satisfied: certifi>=2020.06.20 in ./anaconda3/lib/python3.8/site-packages (from matplotlib->wordcloud) (2020.6.20)\n",
      "Requirement already satisfied: six in ./anaconda3/lib/python3.8/site-packages (from cycler>=0.10->matplotlib->wordcloud) (1.15.0)\n",
      "Installing collected packages: wordcloud\n",
      "Successfully installed wordcloud-1.8.1\n",
      "7110\n"
     ]
    },
    {
     "data": {
      "image/png": "[encoded data removed]",
      "text/plain": [
       "<IPython.core.display.Image object>"
      ]
     },
     "execution_count": 18,
     "metadata": {},
     "output_type": "execute_result"
    }
   ],
   "source": [
    "# JUST FOR FUN:\n",
    "!pip install wordcloud\n",
    "from wordcloud import WordCloud\n",
    "print(len(freqs))\n",
    "wordcloud = WordCloud(background_color=\"white\", max_words=30, scale=1.5).generate_from_frequencies(freqs)\n",
    "image = wordcloud.to_image()\n",
    "image.save(\"./wordcloud.png\")\n",
    "\n",
    "from IPython.display import Image \n",
    "Image(filename='./wordcloud.png')"
   ]
  },
  {
   "cell_type": "markdown",
   "metadata": {
    "slideshow": {
     "slide_type": "slide"
    }
   },
   "source": [
    "## Building a classficiation pipeline\n",
    "\n",
    "The AG's news topic classification dataset is constructed by Xiang Zhang (xiang.zhang@nyu.edu) from the dataset above. It is used as a text classification benchmark in the following paper: Xiang Zhang, Junbo Zhao, Yann LeCun. Character-level Convolutional Networks for Text Classification. Advances in Neural Information Processing Systems 28 (NIPS 2015).\n",
    "\n",
    "The AG's news topic classification dataset is constructed by choosing 4 largest classes from the original corpus. Each class contains 30,000 training samples and 1,900 testing samples. The total number of training samples is 120,000 and testing 7,600.\n"
   ]
  },
  {
   "cell_type": "code",
   "execution_count": 19,
   "metadata": {
    "slideshow": {
     "slide_type": "subslide"
    }
   },
   "outputs": [
    {
     "name": "stdout",
     "output_type": "stream",
     "text": [
      "Requirement already satisfied: torchtext==0.4 in ./anaconda3/lib/python3.8/site-packages (0.4.0)\n",
      "Requirement already satisfied: requests in ./anaconda3/lib/python3.8/site-packages (from torchtext==0.4) (2.24.0)\n",
      "Requirement already satisfied: tqdm in ./anaconda3/lib/python3.8/site-packages (from torchtext==0.4) (4.50.2)\n",
      "Requirement already satisfied: torch in ./anaconda3/lib/python3.8/site-packages (from torchtext==0.4) (1.8.0)\n",
      "Requirement already satisfied: numpy in ./anaconda3/lib/python3.8/site-packages (from torchtext==0.4) (1.19.2)\n",
      "Requirement already satisfied: six in ./anaconda3/lib/python3.8/site-packages (from torchtext==0.4) (1.15.0)\n",
      "Requirement already satisfied: chardet<4,>=3.0.2 in ./anaconda3/lib/python3.8/site-packages (from requests->torchtext==0.4) (3.0.4)\n",
      "Requirement already satisfied: certifi>=2017.4.17 in ./anaconda3/lib/python3.8/site-packages (from requests->torchtext==0.4) (2020.6.20)\n",
      "Requirement already satisfied: idna<3,>=2.5 in ./anaconda3/lib/python3.8/site-packages (from requests->torchtext==0.4) (2.10)\n",
      "Requirement already satisfied: urllib3!=1.25.0,!=1.25.1,<1.26,>=1.21.1 in ./anaconda3/lib/python3.8/site-packages (from requests->torchtext==0.4) (1.25.11)\n",
      "Requirement already satisfied: typing_extensions in ./anaconda3/lib/python3.8/site-packages (from torch->torchtext==0.4) (3.7.4.3)\n",
      "Requirement already satisfied: torch in ./anaconda3/lib/python3.8/site-packages (1.8.0)\n",
      "Requirement already satisfied: typing_extensions in ./anaconda3/lib/python3.8/site-packages (from torch) (3.7.4.3)\n",
      "Requirement already satisfied: numpy in ./anaconda3/lib/python3.8/site-packages (from torch) (1.19.2)\n",
      "Requirement already satisfied: gensim in ./anaconda3/lib/python3.8/site-packages (3.8.3)\n",
      "Requirement already satisfied: numpy>=1.11.3 in ./anaconda3/lib/python3.8/site-packages (from gensim) (1.19.2)\n",
      "Requirement already satisfied: six>=1.5.0 in ./anaconda3/lib/python3.8/site-packages (from gensim) (1.15.0)\n",
      "Requirement already satisfied: smart-open>=1.8.1 in ./anaconda3/lib/python3.8/site-packages (from gensim) (3.0.0)\n",
      "Requirement already satisfied: scipy>=0.18.1 in ./anaconda3/lib/python3.8/site-packages (from gensim) (1.5.2)\n",
      "Requirement already satisfied: requests in ./anaconda3/lib/python3.8/site-packages (from smart-open>=1.8.1->gensim) (2.24.0)\n",
      "Requirement already satisfied: urllib3!=1.25.0,!=1.25.1,<1.26,>=1.21.1 in ./anaconda3/lib/python3.8/site-packages (from requests->smart-open>=1.8.1->gensim) (1.25.11)\n",
      "Requirement already satisfied: chardet<4,>=3.0.2 in ./anaconda3/lib/python3.8/site-packages (from requests->smart-open>=1.8.1->gensim) (3.0.4)\n",
      "Requirement already satisfied: certifi>=2017.4.17 in ./anaconda3/lib/python3.8/site-packages (from requests->smart-open>=1.8.1->gensim) (2020.6.20)\n",
      "Requirement already satisfied: idna<3,>=2.5 in ./anaconda3/lib/python3.8/site-packages (from requests->smart-open>=1.8.1->gensim) (2.10)\n",
      "Requirement already satisfied: scikit-learn in ./anaconda3/lib/python3.8/site-packages (0.24.1)\n",
      "Requirement already satisfied: scipy>=0.19.1 in ./anaconda3/lib/python3.8/site-packages (from scikit-learn) (1.5.2)\n",
      "Requirement already satisfied: threadpoolctl>=2.0.0 in ./anaconda3/lib/python3.8/site-packages (from scikit-learn) (2.1.0)\n",
      "Requirement already satisfied: joblib>=0.11 in ./anaconda3/lib/python3.8/site-packages (from scikit-learn) (0.17.0)\n",
      "Requirement already satisfied: numpy>=1.13.3 in ./anaconda3/lib/python3.8/site-packages (from scikit-learn) (1.19.2)\n"
     ]
    }
   ],
   "source": [
    "!pip install torchtext==0.4\n",
    "!pip install torch\n",
    "!pip install gensim\n",
    "!pip install scikit-learn"
   ]
  },
  {
   "cell_type": "code",
   "execution_count": 20,
   "metadata": {
    "slideshow": {
     "slide_type": "subslide"
    }
   },
   "outputs": [
    {
     "name": "stderr",
     "output_type": "stream",
     "text": [
      "120000lines [00:12, 9692.66lines/s]\n",
      "120000lines [00:23, 5201.81lines/s]\n",
      "7600lines [00:01, 5275.53lines/s]\n"
     ]
    },
    {
     "data": {
      "text/plain": [
       "(<torchtext.datasets.text_classification.TextClassificationDataset at 0x7f128f639250>,\n",
       " <torchtext.datasets.text_classification.TextClassificationDataset at 0x7f1270e7dfd0>)"
      ]
     },
     "execution_count": 20,
     "metadata": {},
     "output_type": "execute_result"
    }
   ],
   "source": [
    "NGRAMS = 2\n",
    "from torchtext import data\n",
    "from torchtext.datasets import text_classification\n",
    "import os\n",
    "if not os.path.isdir('./data'):\n",
    "    os.mkdir('./data')\n",
    "text_classification.DATASETS['AG_NEWS'](\n",
    "    root='./data', ngrams=NGRAMS, vocab=None)"
   ]
  },
  {
   "cell_type": "code",
   "execution_count": 21,
   "metadata": {
    "slideshow": {
     "slide_type": "subslide"
    }
   },
   "outputs": [],
   "source": [
    "#Import the needed libraries\n",
    "from tqdm import tqdm\n",
    "from sklearn.model_selection import train_test_split as split\n",
    "import numpy as np"
   ]
  },
  {
   "cell_type": "markdown",
   "metadata": {
    "slideshow": {
     "slide_type": "subslide"
    }
   },
   "source": [
    "Now we use pandas to read in the dataset into a DataFrame. We are also going to just take a fraction of the dataset to be more efficient."
   ]
  },
  {
   "cell_type": "code",
   "execution_count": 39,
   "metadata": {
    "slideshow": {
     "slide_type": "fragment"
    }
   },
   "outputs": [],
   "source": [
    "#1-World, 2-Sports, 3-Business, 4-Sci/Tech\n",
    "train_data = pd.read_csv(\"./data/ag_news_csv/train.csv\",quotechar='\"', names=['label', 'title', 'description'])\n",
    "test_data = pd.read_csv(\"./data/ag_news_csv/test.csv\",quotechar='\"', names=['label', 'title', 'description'])"
   ]
  },
  {
   "cell_type": "code",
   "execution_count": 40,
   "metadata": {
    "slideshow": {
     "slide_type": "subslide"
    }
   },
   "outputs": [
    {
     "data": {
      "text/html": [
       "<div>\n",
       "<style scoped>\n",
       "    .dataframe tbody tr th:only-of-type {\n",
       "        vertical-align: middle;\n",
       "    }\n",
       "\n",
       "    .dataframe tbody tr th {\n",
       "        vertical-align: top;\n",
       "    }\n",
       "\n",
       "    .dataframe thead th {\n",
       "        text-align: right;\n",
       "    }\n",
       "</style>\n",
       "<table border=\"1\" class=\"dataframe\">\n",
       "  <thead>\n",
       "    <tr style=\"text-align: right;\">\n",
       "      <th></th>\n",
       "      <th></th>\n",
       "      <th>label</th>\n",
       "      <th>title</th>\n",
       "      <th>description</th>\n",
       "    </tr>\n",
       "    <tr>\n",
       "      <th>label</th>\n",
       "      <th></th>\n",
       "      <th></th>\n",
       "      <th></th>\n",
       "      <th></th>\n",
       "    </tr>\n",
       "  </thead>\n",
       "  <tbody>\n",
       "    <tr>\n",
       "      <th>1</th>\n",
       "      <th>105364</th>\n",
       "      <td>1</td>\n",
       "      <td>Romania Opposition Sees Fraud, Demands Poll Rerun</td>\n",
       "      <td>BUCHAREST, Romania (Reuters) - Romania's cent...</td>\n",
       "    </tr>\n",
       "    <tr>\n",
       "      <th>2</th>\n",
       "      <th>5688</th>\n",
       "      <td>2</td>\n",
       "      <td>U.S. Wins Sailing Gold</td>\n",
       "      <td>Americans Paul Foerster and Kevin Burnham win ...</td>\n",
       "    </tr>\n",
       "    <tr>\n",
       "      <th>3</th>\n",
       "      <th>75593</th>\n",
       "      <td>3</td>\n",
       "      <td>Fewer Pledge to Swap Votes</td>\n",
       "      <td>Thousands plan to take part this year in an on...</td>\n",
       "    </tr>\n",
       "    <tr>\n",
       "      <th>4</th>\n",
       "      <th>4950</th>\n",
       "      <td>4</td>\n",
       "      <td>Brazil tribe prove words count</td>\n",
       "      <td>When it comes to counting, a remote Amazonian ...</td>\n",
       "    </tr>\n",
       "    <tr>\n",
       "      <th>1</th>\n",
       "      <th>43515</th>\n",
       "      <td>1</td>\n",
       "      <td>Australian Labor to Raise Pensions, Fund Grand...</td>\n",
       "      <td>Australia #39;s main opposition Labor Party le...</td>\n",
       "    </tr>\n",
       "    <tr>\n",
       "      <th>...</th>\n",
       "      <th>...</th>\n",
       "      <td>...</td>\n",
       "      <td>...</td>\n",
       "      <td>...</td>\n",
       "    </tr>\n",
       "    <tr>\n",
       "      <th>3</th>\n",
       "      <th>7367</th>\n",
       "      <td>3</td>\n",
       "      <td>Singer  amp; Friedlander First-Half Net Slips ...</td>\n",
       "      <td>Singer  amp; Friedlander Group Plc, a UK inves...</td>\n",
       "    </tr>\n",
       "    <tr>\n",
       "      <th rowspan=\"2\" valign=\"top\">2</th>\n",
       "      <th>103530</th>\n",
       "      <td>2</td>\n",
       "      <td>Vick Rallies Falcons</td>\n",
       "      <td>Michael Vick throws a 27-yard scoring pass to ...</td>\n",
       "    </tr>\n",
       "    <tr>\n",
       "      <th>15086</th>\n",
       "      <td>2</td>\n",
       "      <td>Former UConn Aide Pleads in Sex Case (AP)</td>\n",
       "      <td>AP - The Connecticut assistant men's basketbal...</td>\n",
       "    </tr>\n",
       "    <tr>\n",
       "      <th>3</th>\n",
       "      <th>68841</th>\n",
       "      <td>3</td>\n",
       "      <td>Falconbridge Profit Rises Eightfold on Nickel ...</td>\n",
       "      <td>Falconbridge Ltd., the world #39;s third- bigg...</td>\n",
       "    </tr>\n",
       "    <tr>\n",
       "      <th>2</th>\n",
       "      <th>30256</th>\n",
       "      <td>2</td>\n",
       "      <td>FOOTBALL LIVE REPORTS</td>\n",
       "      <td>Patrick Kluivert eased Newcastle towards the g...</td>\n",
       "    </tr>\n",
       "  </tbody>\n",
       "</table>\n",
       "<p>24000 rows × 3 columns</p>\n",
       "</div>"
      ],
      "text/plain": [
       "              label                                              title  \\\n",
       "label                                                                    \n",
       "1     105364      1  Romania Opposition Sees Fraud, Demands Poll Rerun   \n",
       "2     5688        2                             U.S. Wins Sailing Gold   \n",
       "3     75593       3                         Fewer Pledge to Swap Votes   \n",
       "4     4950        4                     Brazil tribe prove words count   \n",
       "1     43515       1  Australian Labor to Raise Pensions, Fund Grand...   \n",
       "...             ...                                                ...   \n",
       "3     7367        3  Singer  amp; Friedlander First-Half Net Slips ...   \n",
       "2     103530      2                               Vick Rallies Falcons   \n",
       "      15086       2          Former UConn Aide Pleads in Sex Case (AP)   \n",
       "3     68841       3  Falconbridge Profit Rises Eightfold on Nickel ...   \n",
       "2     30256       2                              FOOTBALL LIVE REPORTS   \n",
       "\n",
       "                                                    description  \n",
       "label                                                            \n",
       "1     105364   BUCHAREST, Romania (Reuters) - Romania's cent...  \n",
       "2     5688    Americans Paul Foerster and Kevin Burnham win ...  \n",
       "3     75593   Thousands plan to take part this year in an on...  \n",
       "4     4950    When it comes to counting, a remote Amazonian ...  \n",
       "1     43515   Australia #39;s main opposition Labor Party le...  \n",
       "...                                                         ...  \n",
       "3     7367    Singer  amp; Friedlander Group Plc, a UK inves...  \n",
       "2     103530  Michael Vick throws a 27-yard scoring pass to ...  \n",
       "      15086   AP - The Connecticut assistant men's basketbal...  \n",
       "3     68841   Falconbridge Ltd., the world #39;s third- bigg...  \n",
       "2     30256   Patrick Kluivert eased Newcastle towards the g...  \n",
       "\n",
       "[24000 rows x 3 columns]"
      ]
     },
     "execution_count": 40,
     "metadata": {},
     "output_type": "execute_result"
    }
   ],
   "source": [
    "train_data = train_data.groupby('label').apply(lambda x: x.sample(frac=0.2, random_state=1234)).sample(frac=1.0)\n",
    "# only a fraction of the train_Data set used for training (in our case, it is machine learning => \n",
    "# no need for big dataset); The teacher uses only 20% (frac=0.2) of the dataset for train_data.\n",
    "# Setting the random_state=1234 will make every time we run this code after the extracting step (the above cell), the chosen dataset does not change.\n",
    "# andom_state=1234 will prevent us from runing this code again without runing the extracting step before it. \n",
    "# 'sample(frac=..)' randomly shuffle the dataset for us in order to prevent the same lables are next to each other which hinders the learning ability of the machine.\n",
    "train_data "
   ]
  },
  {
   "cell_type": "markdown",
   "metadata": {
    "slideshow": {
     "slide_type": "subslide"
    }
   },
   "source": [
    "We need a way of converting raw data to features! (FEATURES are the inputs for our machine learning algorithm! They are very important).\n",
    "![features](https://developers.google.com/machine-learning/crash-course/images/RawDataToFeatureVector.svg)\n",
    "\n",
    "_(image from [link](https://developers.google.com/machine-learning))_"
   ]
  },
  {
   "cell_type": "markdown",
   "metadata": {
    "slideshow": {
     "slide_type": "subslide"
    }
   },
   "source": [
    "The easiest way of converting raw data to features is called the [Bag of Words](https://en.wikipedia.org/wiki/Bag-of-words_model) model."
   ]
  },
  {
   "cell_type": "code",
   "execution_count": 42,
   "metadata": {
    "slideshow": {
     "slide_type": "fragment"
    }
   },
   "outputs": [
    {
     "data": {
      "text/plain": [
       "30742"
      ]
     },
     "execution_count": 42,
     "metadata": {},
     "output_type": "execute_result"
    }
   ],
   "source": [
    "from collections import defaultdict\n",
    "\n",
    "word_to_ix = defaultdict(int)\n",
    "for sent in train_data.title:\n",
    "    for word in sent.split():\n",
    "        if word not in word_to_ix:\n",
    "            word_to_ix[word] = len(word_to_ix)\n",
    "len(word_to_ix)  # eventhoug the size is already a fraction of the dataset, 30742 is still too big for the machine learning.\n",
    "# the following cells demostrate better way to convert the dataset into features which are more suitable for\n",
    "# out machine learning algorithms."
   ]
  },
  {
   "cell_type": "markdown",
   "metadata": {
    "slideshow": {
     "slide_type": "subslide"
    }
   },
   "source": [
    "We are going to use Python's machine learning library, called scikit-learn to build a classical ML pipeline\n"
   ]
  },
  {
   "cell_type": "code",
   "execution_count": 43,
   "metadata": {
    "slideshow": {
     "slide_type": "fragment"
    }
   },
   "outputs": [
    {
     "data": {
      "text/html": [
       "<div>\n",
       "<style scoped>\n",
       "    .dataframe tbody tr th:only-of-type {\n",
       "        vertical-align: middle;\n",
       "    }\n",
       "\n",
       "    .dataframe tbody tr th {\n",
       "        vertical-align: top;\n",
       "    }\n",
       "\n",
       "    .dataframe thead th {\n",
       "        text-align: right;\n",
       "    }\n",
       "</style>\n",
       "<table border=\"1\" class=\"dataframe\">\n",
       "  <thead>\n",
       "    <tr style=\"text-align: right;\">\n",
       "      <th></th>\n",
       "      <th>adam</th>\n",
       "      <th>am</th>\n",
       "      <th>class</th>\n",
       "      <th>for</th>\n",
       "      <th>hello</th>\n",
       "      <th>instructor</th>\n",
       "      <th>is</th>\n",
       "      <th>my</th>\n",
       "      <th>name</th>\n",
       "      <th>the</th>\n",
       "      <th>this</th>\n",
       "    </tr>\n",
       "  </thead>\n",
       "  <tbody>\n",
       "    <tr>\n",
       "      <th>Doc1</th>\n",
       "      <td>1</td>\n",
       "      <td>0</td>\n",
       "      <td>0</td>\n",
       "      <td>0</td>\n",
       "      <td>1</td>\n",
       "      <td>0</td>\n",
       "      <td>1</td>\n",
       "      <td>1</td>\n",
       "      <td>1</td>\n",
       "      <td>0</td>\n",
       "      <td>0</td>\n",
       "    </tr>\n",
       "    <tr>\n",
       "      <th>Doc2</th>\n",
       "      <td>0</td>\n",
       "      <td>1</td>\n",
       "      <td>1</td>\n",
       "      <td>1</td>\n",
       "      <td>0</td>\n",
       "      <td>1</td>\n",
       "      <td>0</td>\n",
       "      <td>0</td>\n",
       "      <td>0</td>\n",
       "      <td>1</td>\n",
       "      <td>1</td>\n",
       "    </tr>\n",
       "  </tbody>\n",
       "</table>\n",
       "</div>"
      ],
      "text/plain": [
       "      adam  am  class  for  hello  instructor  is  my  name  the  this\n",
       "Doc1     1   0      0    0      1           0   1   1     1    0     0\n",
       "Doc2     0   1      1    1      0           1   0   0     0    1     1"
      ]
     },
     "execution_count": 43,
     "metadata": {},
     "output_type": "execute_result"
    }
   ],
   "source": [
    "from sklearn.feature_extraction.text import CountVectorizer\n",
    "\n",
    "corpora = ['hello my name is adam','i am the instructor for this class']\n",
    "# purpose of this cell is to have each vector for each sentence in the 'copora'.\n",
    "\n",
    "# instantiate the vectorizer object\n",
    "vectorizer = CountVectorizer()\n",
    "# convert th documents into a matrix\n",
    "wm = vectorizer.fit_transform(corpora)\n",
    "#retrieve the terms found in the corpora\n",
    "tokens = vectorizer.get_feature_names()\n",
    "df_vect = pd.DataFrame(data = wm.toarray(),index = ['Doc1','Doc2'],columns = tokens)\n",
    "# the number of the columns is the number of words (tokens) in the 'copora'.\n",
    "\n",
    "df_vect"
   ]
  },
  {
   "cell_type": "code",
   "execution_count": 44,
   "metadata": {
    "slideshow": {
     "slide_type": "subslide"
    }
   },
   "outputs": [],
   "source": [
    "vectorizer = CountVectorizer(max_features=10000, stop_words=\"english\")\n",
    "# max_features=10000 : specifies the number of features of the input vector of the machine learning to 10000\n",
    "# stop_words=\"english\": the \"english\" words (with 'stop_words', \"english\" specified as functionless word) is excluded from the feature input vector of the machine learning,\n",
    "\n",
    "X = vectorizer.fit(train_data.title)"
   ]
  },
  {
   "cell_type": "code",
   "execution_count": 46,
   "metadata": {
    "slideshow": {
     "slide_type": "subslide"
    }
   },
   "outputs": [
    {
     "data": {
      "text/plain": [
       "{'romania': 7493,\n",
       " 'opposition': 6099,\n",
       " 'sees': 7826,\n",
       " 'fraud': 3569,\n",
       " 'demands': 2502,\n",
       " 'poll': 6594,\n",
       " 'rerun': 7279,\n",
       " 'wins': 9830,\n",
       " 'sailing': 7614,\n",
       " 'gold': 3801,\n",
       " 'fewer': 3341,\n",
       " 'pledge': 6547,\n",
       " 'swap': 8782,\n",
       " 'votes': 9615,\n",
       " 'brazil': 1283,\n",
       " 'tribe': 9213,\n",
       " 'prove': 6833,\n",
       " 'words': 9876,\n",
       " 'count': 2182,\n",
       " 'australian': 776,\n",
       " 'labor': 4883,\n",
       " 'raise': 6981,\n",
       " 'pensions': 6380,\n",
       " 'fund': 3620,\n",
       " 'update3': 9427,\n",
       " 'microsoft': 5512,\n",
       " 'homeland': 4175,\n",
       " 'security': 7817,\n",
       " 'efforts': 2942,\n",
       " 'caesars': 1484,\n",
       " 'plans': 6521,\n",
       " 'vast': 9496,\n",
       " 'london': 5149,\n",
       " 'casino': 1595,\n",
       " 'opens': 6080,\n",
       " 'windows': 9818,\n",
       " 'home': 4173,\n",
       " 'park': 6277,\n",
       " 'track': 9145,\n",
       " '39': 124,\n",
       " 'spammers': 8290,\n",
       " 'court': 2199,\n",
       " 'scores': 7765,\n",
       " 'burst': 1426,\n",
       " 'ball': 858,\n",
       " 'reuters': 7353,\n",
       " 'google': 3816,\n",
       " 'profit': 6778,\n",
       " '1st': 60,\n",
       " 'reported': 7261,\n",
       " 'quarter': 6921,\n",
       " 'fda': 3295,\n",
       " 'inspect': 4468,\n",
       " 'boston': 1222,\n",
       " 'scientific': 7751,\n",
       " 'stent': 8515,\n",
       " 'plant': 6522,\n",
       " 'wsj': 9926,\n",
       " 'manning': 5297,\n",
       " 'closes': 1878,\n",
       " 'td': 8893,\n",
       " 'mark': 5319,\n",
       " 'france': 3560,\n",
       " 'radical': 6966,\n",
       " 'islam': 4583,\n",
       " 'threats': 9016,\n",
       " 'ap': 592,\n",
       " 'united': 9388,\n",
       " 'nations': 5804,\n",
       " 'militia': 5539,\n",
       " 'battle': 933,\n",
       " 'east': 2899,\n",
       " 'congo': 2040,\n",
       " 'troops': 9241,\n",
       " 'injured': 4449,\n",
       " 'canadian': 1524,\n",
       " 'press': 6707,\n",
       " 'ibm': 4302,\n",
       " 'tools': 9099,\n",
       " 'developers': 2591,\n",
       " 'assist': 704,\n",
       " 'saddam': 7599,\n",
       " 'trial': 9208,\n",
       " 'october': 6017,\n",
       " 'salem': 7623,\n",
       " 'chalabi': 1681,\n",
       " 'resigns': 7294,\n",
       " 'presidency': 6703,\n",
       " 'toronto': 9106,\n",
       " 'raptors': 7022,\n",
       " 'team': 8899,\n",
       " 'report': 7260,\n",
       " 'november': 5973,\n",
       " '10': 8,\n",
       " 'usda': 9463,\n",
       " 'tests': 8969,\n",
       " 'confirm': 2031,\n",
       " 'soy': 8271,\n",
       " 'rust': 7580,\n",
       " 'florida': 3472,\n",
       " 'poor': 6605,\n",
       " 'constellation': 2066,\n",
       " 'mondavi': 5636,\n",
       " 'merger': 5472,\n",
       " 'borders': 1208,\n",
       " '2q': 105,\n",
       " 'profits': 6780,\n",
       " 'soar': 8209,\n",
       " '89': 228,\n",
       " 'percent': 6390,\n",
       " 'nikkei': 5906,\n",
       " 'rises': 7429,\n",
       " 'time': 9056,\n",
       " 'sessions': 7898,\n",
       " 'season': 7799,\n",
       " 'harmony': 4009,\n",
       " 'stakes': 8450,\n",
       " 'bold': 1169,\n",
       " 'claim': 1819,\n",
       " 'henry': 4091,\n",
       " 'shines': 7977,\n",
       " 'right': 7412,\n",
       " 'bank': 876,\n",
       " 'communications': 1976,\n",
       " 'says': 7704,\n",
       " 'ipo': 4560,\n",
       " 'update': 9424,\n",
       " 'perry': 6407,\n",
       " 'acquires': 310,\n",
       " 'stake': 8449,\n",
       " 'mylan': 5766,\n",
       " 'labs': 4885,\n",
       " 'chinese': 1764,\n",
       " 'retail': 7331,\n",
       " 'sales': 7624,\n",
       " 'hold': 4154,\n",
       " 'firm': 3416,\n",
       " 'captain': 1554,\n",
       " 'ordered': 6118,\n",
       " 'uk': 9336,\n",
       " 'sent': 7865,\n",
       " 'death': 2405,\n",
       " 'penalty': 6371,\n",
       " 'afghan': 393,\n",
       " 'killers': 4812,\n",
       " 'leaked': 4982,\n",
       " 'memos': 5457,\n",
       " 'link': 5090,\n",
       " 'isp': 4592,\n",
       " 'silver': 8067,\n",
       " 'glowing': 3784,\n",
       " 'future': 3630,\n",
       " 'japan': 4642,\n",
       " 'annan': 562,\n",
       " 'meant': 5410,\n",
       " 'saying': 7703,\n",
       " 'iraq': 4571,\n",
       " 'war': 9661,\n",
       " 'illegal': 4337,\n",
       " 'revises': 7372,\n",
       " 'anti': 580,\n",
       " 'spam': 8287,\n",
       " 'standard': 8461,\n",
       " 'victim': 9537,\n",
       " 'fallout': 3245,\n",
       " 'feared': 3298,\n",
       " 'bryant': 1356,\n",
       " 'case': 1591,\n",
       " 'intel': 4496,\n",
       " 'gives': 3765,\n",
       " 'need': 5831,\n",
       " 'speed': 8328,\n",
       " 'focus': 3491,\n",
       " 'power': 6658,\n",
       " 'nasa': 5794,\n",
       " 'completes': 1995,\n",
       " 'test': 8963,\n",
       " 'flight': 3462,\n",
       " 'super': 8714,\n",
       " 'fast': 3271,\n",
       " 'jet': 4666,\n",
       " 'examines': 3118,\n",
       " 'higher': 4114,\n",
       " 'insurance': 4485,\n",
       " 'deductibles': 2440,\n",
       " 'life': 5063,\n",
       " 'changing': 1700,\n",
       " 'video': 9542,\n",
       " 'format': 3532,\n",
       " 'gets': 3732,\n",
       " 'badgers': 843,\n",
       " 'retrieve': 7347,\n",
       " 'paul': 6329,\n",
       " 'axe': 823,\n",
       " 'gophers': 3820,\n",
       " 'norwich': 5953,\n",
       " 'union': 9382,\n",
       " 'moves': 5706,\n",
       " '950': 240,\n",
       " 'jobs': 4680,\n",
       " 'far': 3262,\n",
       " 'wpp': 9904,\n",
       " 'bids': 1058,\n",
       " 'gray': 3858,\n",
       " 'global': 3779,\n",
       " 'arafat': 639,\n",
       " 'hospital': 4208,\n",
       " 'official': 6034,\n",
       " 'safin': 7607,\n",
       " 'plays': 6539,\n",
       " 'canas': 1526,\n",
       " 'msn': 5722,\n",
       " 'messenger': 5484,\n",
       " 'beta': 1038,\n",
       " 'includes': 4388,\n",
       " 'search': 7795,\n",
       " 'fannie': 3258,\n",
       " 'mae': 5236,\n",
       " 'whistle': 9779,\n",
       " 'won': 9865,\n",
       " 'testify': 8966,\n",
       " 'china': 1762,\n",
       " 'online': 6071,\n",
       " 'shopping': 7999,\n",
       " 'web': 9721,\n",
       " 'problems': 6758,\n",
       " 'escapes': 3083,\n",
       " 'assassination': 697,\n",
       " 'attempt': 748,\n",
       " 'cruise': 2284,\n",
       " 'thai': 8978,\n",
       " 'tsunami': 9270,\n",
       " 'survivors': 8758,\n",
       " 'pray': 6674,\n",
       " 'dead': 2392,\n",
       " 'look': 5156,\n",
       " 'ahead': 426,\n",
       " 'germans': 3728,\n",
       " 'open': 6076,\n",
       " 'uefa': 9329,\n",
       " 'cup': 2304,\n",
       " 'style': 8652,\n",
       " 'taiwan': 8844,\n",
       " 'markets': 5323,\n",
       " 'businesses': 1440,\n",
       " 'close': 1874,\n",
       " 'typhoon': 9319,\n",
       " 'aere': 383,\n",
       " 'update4': 9428,\n",
       " 'wood': 9868,\n",
       " 'baker': 853,\n",
       " 'tossed': 9112,\n",
       " 'win': 9813,\n",
       " 'houston': 4235,\n",
       " 'prices': 6722,\n",
       " 'senior': 7858,\n",
       " 'notes': 5962,\n",
       " 'siebel': 8047,\n",
       " 'acquire': 308,\n",
       " 'edocs': 2932,\n",
       " '115': 25,\n",
       " 'million': 5545,\n",
       " 'xp': 9942,\n",
       " 'sp2': 8275,\n",
       " 'service': 7894,\n",
       " 'pack': 6212,\n",
       " 'heavy': 4065,\n",
       " 'rain': 6979,\n",
       " 'washes': 9690,\n",
       " 'mets': 5495,\n",
       " 'braves': 1280,\n",
       " 'game': 3655,\n",
       " 'spurs': 8419,\n",
       " 'beat': 963,\n",
       " 'magic': 5240,\n",
       " '94': 238,\n",
       " '91': 234,\n",
       " 'referendum': 7137,\n",
       " 'swiss': 8809,\n",
       " 'citizenship': 1811,\n",
       " 'takes': 8850,\n",
       " 'place': 6510,\n",
       " 'sunday': 8707,\n",
       " 'teen': 8913,\n",
       " 'surfer': 8736,\n",
       " 'killed': 4810,\n",
       " 'sharks': 7947,\n",
       " 'brodeur': 1331,\n",
       " 'makes': 5265,\n",
       " 'easy': 2902,\n",
       " 'quake': 6911,\n",
       " 'destroys': 2569,\n",
       " '20': 61,\n",
       " '000': 1,\n",
       " 'homes': 4180,\n",
       " 'deaths': 2406,\n",
       " 'calls': 1496,\n",
       " 'suu': 8772,\n",
       " 'kyi': 4875,\n",
       " 'release': 7199,\n",
       " 'europe': 3097,\n",
       " 'doesn': 2752,\n",
       " 'believe': 1001,\n",
       " 'democracy': 2505,\n",
       " 'cox': 2213,\n",
       " 'la': 4879,\n",
       " 'russa': 7576,\n",
       " 'nl': 5923,\n",
       " 'manager': 5282,\n",
       " 'year': 9955,\n",
       " 'idc': 4315,\n",
       " 'raises': 6983,\n",
       " 'estimate': 3087,\n",
       " 'pc': 6350,\n",
       " 'circulation': 1801,\n",
       " 'scandal': 7712,\n",
       " 'cost': 2170,\n",
       " 'tribune': 9215,\n",
       " 'progress': 6785,\n",
       " 'making': 5266,\n",
       " 'shuttles': 8037,\n",
       " 'safer': 7604,\n",
       " 'green': 3868,\n",
       " 'college': 1928,\n",
       " 'basketball': 923,\n",
       " 'iowa': 4556,\n",
       " 'surprises': 8748,\n",
       " 'louisville': 5179,\n",
       " 'mauresmo': 5371,\n",
       " 'sharapova': 7938,\n",
       " 'storm': 8559,\n",
       " 'wta': 9927,\n",
       " 'championship': 1691,\n",
       " 'semi': 7843,\n",
       " 'finals': 3382,\n",
       " 'new': 5872,\n",
       " 'amidst': 528,\n",
       " 'destruction': 2570,\n",
       " 'advanced': 366,\n",
       " 'pm': 6567,\n",
       " 'assam': 696,\n",
       " 'day': 2387,\n",
       " 'visit': 9581,\n",
       " 'rips': 7427,\n",
       " 'twins': 9311,\n",
       " 'trip': 9231,\n",
       " 'clean': 1837,\n",
       " 'water': 9699,\n",
       " 'kits': 4825,\n",
       " 'proves': 6836,\n",
       " 'casualties': 1602,\n",
       " 'kabul': 4736,\n",
       " 'bomb': 1175,\n",
       " 'blast': 1112,\n",
       " 'crude': 2283,\n",
       " 'oil': 6047,\n",
       " 'week': 9734,\n",
       " 'high': 4112,\n",
       " 'heating': 4062,\n",
       " 'supply': 8725,\n",
       " 'concern': 2010,\n",
       " 'seeks': 7824,\n",
       " 'compromise': 2001,\n",
       " 'iranian': 4569,\n",
       " 'ultimatum': 9341,\n",
       " 'sticks': 8531,\n",
       " 'hard': 3995,\n",
       " 'line': 5085,\n",
       " 'fall': 3242,\n",
       " 'weak': 9710,\n",
       " 'dollar': 2758,\n",
       " 'fears': 3299,\n",
       " 'phones': 6449,\n",
       " 'coolest': 2127,\n",
       " 'captures': 1561,\n",
       " 'victory': 9541,\n",
       " 'chelsea': 1742,\n",
       " 'discount': 2673,\n",
       " 'decline': 2433,\n",
       " 'steelers': 8508,\n",
       " 'stop': 8550,\n",
       " 'streak': 8577,\n",
       " 'stunning': 8648,\n",
       " 'england': 3032,\n",
       " 'date': 2376,\n",
       " 'baseball': 917,\n",
       " 'eds': 2933,\n",
       " 'vodafone': 9591,\n",
       " 'switch': 8810,\n",
       " 'managed': 5280,\n",
       " 'mobility': 5611,\n",
       " 'williams': 9806,\n",
       " 'works': 9884,\n",
       " 'cavaliers': 1622,\n",
       " 'wanted': 9659,\n",
       " 'police': 6583,\n",
       " 'good': 3811,\n",
       " 'interface': 4509,\n",
       " 'taking': 8851,\n",
       " 'aim': 437,\n",
       " 'ipod': 4561,\n",
       " 'competition': 1986,\n",
       " 'market': 5321,\n",
       " 'fatah': 3275,\n",
       " 'names': 5782,\n",
       " 'abbas': 255,\n",
       " 'candidate': 1531,\n",
       " 'pa': 6205,\n",
       " 'chairman': 1680,\n",
       " 'sets': 7902,\n",
       " 'licensing': 5058,\n",
       " 'policy': 6587,\n",
       " 'dual': 2846,\n",
       " 'core': 2154,\n",
       " 'chips': 1767,\n",
       " 'peru': 6418,\n",
       " 'rebel': 7075,\n",
       " 'leader': 4975,\n",
       " 'offers': 6029,\n",
       " 'surrender': 8750,\n",
       " 'radio': 6968,\n",
       " 'free': 3573,\n",
       " 'woos': 9874,\n",
       " 'russian': 7578,\n",
       " 'listeners': 5103,\n",
       " 'virgin': 9572,\n",
       " 'group': 3895,\n",
       " 'launch': 4947,\n",
       " 'music': 5756,\n",
       " 'sosa': 8254,\n",
       " 'final': 3376,\n",
       " 'opec': 6074,\n",
       " 'wrestles': 9911,\n",
       " 'output': 6164,\n",
       " 'increase': 4394,\n",
       " 'hurricane': 4279,\n",
       " 'attacks': 747,\n",
       " 'lift': 5065,\n",
       " 'presidential': 6705,\n",
       " 'polls': 6595,\n",
       " 'apple': 616,\n",
       " 'beware': 1048,\n",
       " 'woes': 9859,\n",
       " 'netscape': 5863,\n",
       " 'nokia': 5930,\n",
       " 'coach': 1898,\n",
       " 'usc': 9462,\n",
       " 'tech': 8904,\n",
       " 'stocks': 8545,\n",
       " 'end': 3012,\n",
       " 'climb': 1859,\n",
       " 'yum': 9979,\n",
       " 'view': 9550,\n",
       " 'voices': 9594,\n",
       " 'judo': 4714,\n",
       " 'standardize': 8462,\n",
       " 'linux': 5094,\n",
       " 'tense': 8946,\n",
       " 'moments': 5632,\n",
       " 'trailblazing': 9162,\n",
       " 'private': 6744,\n",
       " 'space': 8277,\n",
       " 'com': 1945,\n",
       " 'finish': 3401,\n",
       " 'second': 7806,\n",
       " 'defeat': 2451,\n",
       " 'rwanda': 7584,\n",
       " 'threatens': 9015,\n",
       " 'attack': 742,\n",
       " 'based': 918,\n",
       " 'rebels': 7076,\n",
       " 'silicon': 8064,\n",
       " 'valley': 9485,\n",
       " 'dog': 2753,\n",
       " 'eat': 2904,\n",
       " 'world': 9887,\n",
       " 'sec': 7804,\n",
       " 'begins': 985,\n",
       " 'technology': 8909,\n",
       " 'inquiry': 4462,\n",
       " 'mccain': 5384,\n",
       " 'raps': 7021,\n",
       " 'bush': 1436,\n",
       " 'warming': 9671,\n",
       " 'merck': 5467,\n",
       " 'answers': 573,\n",
       " 'decide': 2423,\n",
       " 'rivals': 7437,\n",
       " 'use': 9464,\n",
       " 'cable': 1477,\n",
       " 'access': 288,\n",
       " 'ebay': 2906,\n",
       " 'agrees': 424,\n",
       " 'limit': 5080,\n",
       " 'racial': 6959,\n",
       " 'auction': 764,\n",
       " 'site': 8091,\n",
       " 'turnover': 9300,\n",
       " 'helps': 4087,\n",
       " 'colts': 1940,\n",
       " 'derail': 2544,\n",
       " 'packers': 6217,\n",
       " '45': 146,\n",
       " '31': 109,\n",
       " 'sudan': 8676,\n",
       " 'govt': 3832,\n",
       " 'southern': 8267,\n",
       " 'peace': 6358,\n",
       " 'accord': 292,\n",
       " 'greenspan': 3873,\n",
       " 'sends': 7857,\n",
       " 'lows': 5190,\n",
       " 'chief': 1754,\n",
       " 'singapore': 8076,\n",
       " 'bail': 852,\n",
       " 'newsview': 5881,\n",
       " 'political': 6590,\n",
       " 'rhetoric': 7388,\n",
       " 'price': 6720,\n",
       " 'turner': 9297,\n",
       " 'provide': 6837,\n",
       " 'content': 2082,\n",
       " 'net': 5857,\n",
       " 'tv': 9307,\n",
       " 'interview': 4521,\n",
       " 'eyes': 3210,\n",
       " 'half': 3960,\n",
       " 'computer': 2002,\n",
       " 'macedonian': 5222,\n",
       " 'hostages': 4212,\n",
       " 'said': 7612,\n",
       " 'mob': 5607,\n",
       " 'rule': 7554,\n",
       " 'hit': 4142,\n",
       " 'italy': 4607,\n",
       " 'fights': 3358,\n",
       " 'coal': 1901,\n",
       " 'explosion': 3180,\n",
       " 'central': 1660,\n",
       " 'kills': 4815,\n",
       " '25': 88,\n",
       " 'leaves': 4994,\n",
       " 'trapped': 9182,\n",
       " 'lt': 5195,\n",
       " 'gt': 3906,\n",
       " 'wagner': 9635,\n",
       " 'suspended': 8764,\n",
       " 'ejected': 2950,\n",
       " 'ireland': 4576,\n",
       " 'battles': 935,\n",
       " 'internet': 4514,\n",
       " 'scam': 7709,\n",
       " 'sims': 8071,\n",
       " 'draws': 2818,\n",
       " 'users': 9467,\n",
       " 'way': 9705,\n",
       " 'corrected': 2162,\n",
       " 'race': 6956,\n",
       " 'ryder': 7587,\n",
       " 'captaincy': 1555,\n",
       " 'house': 4230,\n",
       " 'gop': 3819,\n",
       " 'brings': 1314,\n",
       " 'draft': 2808,\n",
       " 'order': 6117,\n",
       " 'ice': 4308,\n",
       " 'skater': 8101,\n",
       " 'remember': 7225,\n",
       " 'caused': 1617,\n",
       " 'left': 5001,\n",
       " 'expo': 3184,\n",
       " 'center': 1658,\n",
       " 'lays': 4966,\n",
       " 'staff': 8445,\n",
       " 'devil': 2598,\n",
       " 'rays': 7042,\n",
       " 'york': 9967,\n",
       " 'afternoon': 402,\n",
       " 'sun': 8706,\n",
       " 'financial': 3385,\n",
       " 'customers': 2320,\n",
       " 'wall': 9650,\n",
       " 'street': 8581,\n",
       " 'pound': 6652,\n",
       " 'bypass': 1471,\n",
       " 'toll': 9082,\n",
       " '12': 29,\n",
       " 'believed': 1002,\n",
       " 'sasser': 7679,\n",
       " 'bounty': 1234,\n",
       " 'hinges': 4132,\n",
       " 'conviction': 2113,\n",
       " 'sony': 8247,\n",
       " 'turn': 9294,\n",
       " 'mp3': 5715,\n",
       " 'files': 3367,\n",
       " 'australia': 775,\n",
       " 'accused': 299,\n",
       " 'biggest': 1061,\n",
       " 'went': 9757,\n",
       " 'eu': 3094,\n",
       " 'approves': 633,\n",
       " 'oracle': 6112,\n",
       " 'bid': 1056,\n",
       " 'peoplesoft': 6386,\n",
       " '11': 20,\n",
       " 'plots': 6554,\n",
       " 'britain': 1318,\n",
       " 'india': 4406,\n",
       " 'legendary': 5009,\n",
       " 'opener': 6077,\n",
       " 'johnson': 4685,\n",
       " 'amp': 530,\n",
       " 'buy': 1455,\n",
       " 'guidant': 3921,\n",
       " 'benching': 1017,\n",
       " 'suggests': 8689,\n",
       " 'lefty': 5004,\n",
       " 'routine': 7527,\n",
       " 'isn': 4589,\n",
       " 'working': 9882,\n",
       " 'arthritis': 680,\n",
       " 'drug': 2840,\n",
       " 'removed': 7230,\n",
       " 'safety': 7605,\n",
       " 'arbitrator': 643,\n",
       " 'hear': 4052,\n",
       " 'artest': 679,\n",
       " 'appeal': 608,\n",
       " 'petition': 6424,\n",
       " 'coma': 1946,\n",
       " 'spokeswoman': 8366,\n",
       " 'wedgwood': 9731,\n",
       " 'royal': 7535,\n",
       " 'ex': 3117,\n",
       " 'enron': 3044,\n",
       " 'asst': 709,\n",
       " 'treasurer': 9192,\n",
       " 'strikes': 8603,\n",
       " 'plea': 6541,\n",
       " 'deal': 2399,\n",
       " 'sharply': 7951,\n",
       " 'shares': 7944,\n",
       " 'dip': 2642,\n",
       " 'airlines': 448,\n",
       " 'job': 4678,\n",
       " 'losses': 5172,\n",
       " 'howard': 4238,\n",
       " 'stresses': 8591,\n",
       " 'economic': 2918,\n",
       " 'record': 7102,\n",
       " 'election': 2960,\n",
       " 'ca': 1475,\n",
       " 'kumar': 4868,\n",
       " 'appears': 613,\n",
       " 'conference': 2026,\n",
       " 'snow': 8201,\n",
       " 'predicts': 6682,\n",
       " 'set': 7899,\n",
       " 'canada': 1523,\n",
       " 'zero': 9989,\n",
       " 'latinos': 4942,\n",
       " 'curbs': 2306,\n",
       " 'aug': 770,\n",
       " 'data': 2374,\n",
       " '50': 159,\n",
       " 'years': 9957,\n",
       " 'later': 4938,\n",
       " 'grace': 3839,\n",
       " 'leads': 4979,\n",
       " 'merry': 5475,\n",
       " 'dance': 2356,\n",
       " 'korea': 4851,\n",
       " 'engineering': 3029,\n",
       " 'support': 8726,\n",
       " 'executives': 3134,\n",
       " 'leave': 4993,\n",
       " 'imac': 4343,\n",
       " 'debut': 2416,\n",
       " 'bit': 1089,\n",
       " 'endorses': 3017,\n",
       " 'domestic': 2764,\n",
       " 'plan': 6514,\n",
       " 'militants': 5537,\n",
       " 'control': 2097,\n",
       " 'najaf': 5778,\n",
       " 'shrine': 8025,\n",
       " 'area': 648,\n",
       " 'increased': 4395,\n",
       " '64': 185,\n",
       " 'newcastle': 5873,\n",
       " 'michigan': 5506,\n",
       " 'face': 3216,\n",
       " 'rival': 7435,\n",
       " 'state': 8487,\n",
       " 'shell': 7961,\n",
       " 'sell': 7838,\n",
       " 'dutch': 2864,\n",
       " 'gas': 3676,\n",
       " 'company': 1982,\n",
       " '78': 208,\n",
       " 'bln': 1121,\n",
       " 'euros': 3100,\n",
       " 'times': 9057,\n",
       " 'newspaper': 5879,\n",
       " 'tabloid': 8830,\n",
       " 'agassi': 405,\n",
       " 'reaches': 7049,\n",
       " 'stockholm': 8542,\n",
       " 'wal': 9642,\n",
       " 'mart': 5333,\n",
       " 'retailers': 7333,\n",
       " 'upbeat': 9422,\n",
       " '05': 6,\n",
       " 'start': 8478,\n",
       " 'defectors': 2456,\n",
       " 'beijing': 993,\n",
       " 'swamp': 8781,\n",
       " 'embassy': 2985,\n",
       " 'warner': 9676,\n",
       " 'comcast': 1948,\n",
       " 'talks': 8860,\n",
       " 'adelphia': 344,\n",
       " 'steel': 8506,\n",
       " 'shortage': 8004,\n",
       " 'hits': 4145,\n",
       " 'nissan': 5913,\n",
       " 'plants': 6524,\n",
       " 'freddie': 3572,\n",
       " 'mac': 5218,\n",
       " 'action': 318,\n",
       " 'north': 5943,\n",
       " 'violence': 9569,\n",
       " 'continues': 2090,\n",
       " 'credit': 2235,\n",
       " 'suisse': 8695,\n",
       " 'integrate': 4493,\n",
       " 'csfb': 2292,\n",
       " 'cendant': 1652,\n",
       " 'buys': 1463,\n",
       " 'orbitz': 6115,\n",
       " 'billion': 1065,\n",
       " 'incomplete': 4393,\n",
       " 'account': 294,\n",
       " 'units': 9391,\n",
       " 'carolina': 1579,\n",
       " 'formally': 3531,\n",
       " 'announces': 569,\n",
       " 'dell': 2496,\n",
       " 'wants': 9660,\n",
       " 'spammer': 8289,\n",
       " 'issues': 4601,\n",
       " 'bn': 1150,\n",
       " 'loss': 5171,\n",
       " 'warning': 9677,\n",
       " 'chart': 1717,\n",
       " 'downloads': 2799,\n",
       " 'campaign': 1517,\n",
       " 'ends': 3018,\n",
       " 'karzai': 4743,\n",
       " 'deputy': 2543,\n",
       " 'international': 4513,\n",
       " 'briefs': 1307,\n",
       " 'supercomputer': 8715,\n",
       " 'breaks': 1289,\n",
       " 'pay': 6336,\n",
       " 'click': 1851,\n",
       " 'advertising': 374,\n",
       " 'comes': 1951,\n",
       " 'unit': 9386,\n",
       " 'bangalore': 872,\n",
       " 'forward': 3543,\n",
       " 'israel': 4595,\n",
       " 'burial': 1409,\n",
       " 'jackson': 4624,\n",
       " 'returns': 7351,\n",
       " 'help': 4082,\n",
       " 'snap': 8193,\n",
       " 'losing': 5170,\n",
       " 'palestinians': 6245,\n",
       " 'israelis': 4597,\n",
       " 'meet': 5432,\n",
       " 'absence': 271,\n",
       " 'marbury': 5308,\n",
       " 'powers': 6663,\n",
       " 'spain': 8286,\n",
       " 'coaches': 1899,\n",
       " 'square': 8431,\n",
       " 'iraqi': 4572,\n",
       " 'army': 665,\n",
       " 'recruits': 7114,\n",
       " 'massacred': 5350,\n",
       " 'submarine': 8656,\n",
       " 'hoon': 4194,\n",
       " 'partners': 6291,\n",
       " 'rating': 7031,\n",
       " 'california': 1492,\n",
       " 'pumps': 6871,\n",
       " 'stem': 8513,\n",
       " 'cells': 1647,\n",
       " 'president': 6704,\n",
       " 'likely': 5074,\n",
       " 'zurich': 9999,\n",
       " 'rules': 7556,\n",
       " 'football': 3508,\n",
       " 'games': 3658,\n",
       " 'arms': 663,\n",
       " 'thatcher': 8984,\n",
       " 'military': 5538,\n",
       " 'offer': 6025,\n",
       " 'fight': 3354,\n",
       " 'terrorists': 8960,\n",
       " 'libya': 5053,\n",
       " 'deported': 2533,\n",
       " 'egyptian': 2946,\n",
       " 'migrants': 5525,\n",
       " 'jordan': 4695,\n",
       " 'indicts': 4415,\n",
       " 'al': 456,\n",
       " 'zarqawi': 9984,\n",
       " 'conspiracy': 2065,\n",
       " 'apologises': 600,\n",
       " 'outburst': 6151,\n",
       " 'referee': 7136,\n",
       " 'courts': 2203,\n",
       " 'canadians': 1525,\n",
       " 'constitution': 2067,\n",
       " 'nearer': 5822,\n",
       " 'reality': 7066,\n",
       " 'pull': 6861,\n",
       " 'champions': 1690,\n",
       " 'trophy': 9242,\n",
       " 'pakistan': 6237,\n",
       " 'enterprise': 3050,\n",
       " 'purchases': 6881,\n",
       " 'sustain': 8769,\n",
       " 'pathway': 6317,\n",
       " 'traveled': 9186,\n",
       " 'safe': 7602,\n",
       " 'bet': 1037,\n",
       " 'spurrier': 8418,\n",
       " 'decision': 2426,\n",
       " 'surprising': 8749,\n",
       " 'kroger': 4865,\n",
       " 'misses': 5585,\n",
       " 'cents': 1664,\n",
       " 'veritas': 9522,\n",
       " 'software': 8222,\n",
       " 'email': 2982,\n",
       " 'backup': 839,\n",
       " 'mcdonald': 5388,\n",
       " 'ceo': 1667,\n",
       " 'strategy': 8573,\n",
       " 'unchanged': 9353,\n",
       " 'feeley': 3313,\n",
       " 'seahawks': 7791,\n",
       " 'grip': 3886,\n",
       " 'agency': 409,\n",
       " 'shuttle': 8036,\n",
       " 'repair': 7246,\n",
       " 'worries': 9894,\n",
       " 'remain': 7215,\n",
       " 'tons': 9094,\n",
       " 'explosives': 3183,\n",
       " 'missing': 5588,\n",
       " 'atomic': 737,\n",
       " 'accelerates': 284,\n",
       " 'arctic': 647,\n",
       " 'melt': 5445,\n",
       " 'yuan': 9975,\n",
       " 'g7': 3636,\n",
       " 'execution': 3132,\n",
       " 'golden': 3802,\n",
       " 'boy': 1258,\n",
       " 'stopping': 8552,\n",
       " 'locusts': 5137,\n",
       " 'tennis': 8945,\n",
       " 'roundup': 7519,\n",
       " 'real': 7064,\n",
       " 'slashes': 8131,\n",
       " 'song': 8243,\n",
       " 'statement': 8489,\n",
       " 'industry': 4422,\n",
       " 'copyright': 2148,\n",
       " 'love': 5181,\n",
       " 'tunes': 9282,\n",
       " 'crisis': 2260,\n",
       " 'member': 5449,\n",
       " 'government': 3829,\n",
       " 'afp': 396,\n",
       " 'economies': 2919,\n",
       " 'amazon': 510,\n",
       " 'british': 1319,\n",
       " 'invasion': 4532,\n",
       " 'turns': 9303,\n",
       " 'hp': 4243,\n",
       " 'operations': 6085,\n",
       " 'mitchell': 5596,\n",
       " 'ready': 7061,\n",
       " 'rematch': 7222,\n",
       " 'rested': 7315,\n",
       " 'tszyu': 9272,\n",
       " 'pats': 6326,\n",
       " 'linked': 5091,\n",
       " 'coup': 2195,\n",
       " 'plot': 6553,\n",
       " 'blackberry': 1099,\n",
       " 'patent': 6312,\n",
       " 'swings': 8807,\n",
       " 'away': 818,\n",
       " 'rim': 7416,\n",
       " 'ntp': 5981,\n",
       " 'powell': 6657,\n",
       " 'athens': 723,\n",
       " 'amid': 527,\n",
       " 'protests': 6830,\n",
       " 'double': 2782,\n",
       " 'qualcomm': 6913,\n",
       " '4q': 157,\n",
       " 'outlook': 6162,\n",
       " 'mechassault': 5416,\n",
       " 'lone': 5150,\n",
       " 'goes': 3797,\n",
       " 'pressure': 6709,\n",
       " 'blair': 1105,\n",
       " 'heads': 4046,\n",
       " 'africa': 398,\n",
       " 'aimed': 438,\n",
       " 'securing': 7815,\n",
       " 'legacy': 5006,\n",
       " 'crew': 2246,\n",
       " 'station': 8492,\n",
       " 'surprise': 8746,\n",
       " 'starter': 8480,\n",
       " 'stars': 8477,\n",
       " 'blasts': 1113,\n",
       " 'kill': 4809,\n",
       " 'workers': 9879,\n",
       " 'breach': 1285,\n",
       " 'baghdad': 846,\n",
       " 'compound': 2000,\n",
       " 'cheap': 1725,\n",
       " 'wiretap': 9836,\n",
       " 'extra': 3201,\n",
       " 'flies': 3461,\n",
       " 'sound': 8258,\n",
       " 'ofcom': 6022,\n",
       " 'delivers': 2494,\n",
       " 'bt': 1359,\n",
       " 'ease': 2894,\n",
       " 'database': 2375,\n",
       " 'burden': 1401,\n",
       " 'jumps': 4719,\n",
       " 'turf': 9286,\n",
       " 'yankees': 9950,\n",
       " 'controversial': 2102,\n",
       " 'islamic': 4584,\n",
       " 'italian': 4605,\n",
       " 'deadline': 2394,\n",
       " 'pioneer': 6487,\n",
       " 'rising': 7430,\n",
       " 'hype': 4297,\n",
       " 'hurt': 4282,\n",
       " 'growth': 3902,\n",
       " 'club': 1887,\n",
       " 'deny': 2525,\n",
       " 'hoddle': 4152,\n",
       " 'german': 3727,\n",
       " 'business': 1439,\n",
       " 'confidence': 2029,\n",
       " 'dips': 2646,\n",
       " 'august': 771,\n",
       " 'nba': 5815,\n",
       " 'summary': 8700,\n",
       " 'sacramento': 7597,\n",
       " 'kidnappers': 4802,\n",
       " 'negotiating': 5838,\n",
       " 'wrap': 9906,\n",
       " 'belts': 1013,\n",
       " 'homers': 4179,\n",
       " 'cubs': 2301,\n",
       " 'pirates': 6495,\n",
       " 'genesis': 3716,\n",
       " 'just': 4728,\n",
       " 'dangerous': 2359,\n",
       " 'product': 6771,\n",
       " 'climbs': 1861,\n",
       " 'nfl': 5886,\n",
       " 'downgrade': 2793,\n",
       " 'used': 9465,\n",
       " 'identify': 4320,\n",
       " 'run': 7564,\n",
       " 'arrest': 668,\n",
       " 'aviation': 803,\n",
       " 'updated': 9432,\n",
       " '06': 7,\n",
       " 'musharraf': 5755,\n",
       " 'lula': 5204,\n",
       " 'talk': 8857,\n",
       " 'birdstone': 1082,\n",
       " ...}"
      ]
     },
     "execution_count": 46,
     "metadata": {},
     "output_type": "execute_result"
    }
   ],
   "source": [
    "X.vocabulary_ # our vocabularies are mapped into integers"
   ]
  },
  {
   "cell_type": "code",
   "execution_count": 47,
   "metadata": {
    "slideshow": {
     "slide_type": "subslide"
    }
   },
   "outputs": [
    {
     "name": "stdout",
     "output_type": "stream",
     "text": [
      "[[0 0 0 ... 0 0 0]]\n"
     ]
    }
   ],
   "source": [
    "c = X.transform([\"Hello my name is adam\"]).toarray()\n",
    "# each feaure input vector contains 10000 columns (or 10000 tokens (words); all of the 10000 can be seen from the X.vocabulary_ cell)\n",
    "# if the input sentence \"Hello my name is adam\" has similar words to the column names =>\n",
    "# the values of the corresponding column names are 1, otherwise 0.\n",
    "\n",
    "print(c)"
   ]
  },
  {
   "cell_type": "markdown",
   "metadata": {
    "slideshow": {
     "slide_type": "subslide"
    }
   },
   "source": [
    "## Displaying the most frequent terms from CountVectorizer"
   ]
  },
  {
   "cell_type": "code",
   "execution_count": 48,
   "metadata": {
    "slideshow": {
     "slide_type": "subslide"
    }
   },
   "outputs": [],
   "source": [
    "import matplotlib.pyplot as plt\n",
    "\n",
    "%matplotlib inline\n",
    "\n",
    "import matplotlib\n",
    "matplotlib.style.use('ggplot')\n",
    "matplotlib.pyplot.rcParams['figure.figsize'] = (16, 10)\n",
    "matplotlib.pyplot.rcParams['font.family'] = 'sans-serif'\n",
    "matplotlib.pyplot.rcParams['font.size'] = 20"
   ]
  },
  {
   "cell_type": "code",
   "execution_count": 49,
   "metadata": {
    "slideshow": {
     "slide_type": "subslide"
    }
   },
   "outputs": [
    {
     "data": {
      "text/html": [
       "<div>\n",
       "<style scoped>\n",
       "    .dataframe tbody tr th:only-of-type {\n",
       "        vertical-align: middle;\n",
       "    }\n",
       "\n",
       "    .dataframe tbody tr th {\n",
       "        vertical-align: top;\n",
       "    }\n",
       "\n",
       "    .dataframe thead th {\n",
       "        text-align: right;\n",
       "    }\n",
       "</style>\n",
       "<table border=\"1\" class=\"dataframe\">\n",
       "  <thead>\n",
       "    <tr style=\"text-align: right;\">\n",
       "      <th></th>\n",
       "      <th>frequency</th>\n",
       "    </tr>\n",
       "  </thead>\n",
       "  <tbody>\n",
       "    <tr>\n",
       "      <th>39</th>\n",
       "      <td>2591</td>\n",
       "    </tr>\n",
       "    <tr>\n",
       "      <th>ap</th>\n",
       "      <td>1520</td>\n",
       "    </tr>\n",
       "    <tr>\n",
       "      <th>gt</th>\n",
       "      <td>1015</td>\n",
       "    </tr>\n",
       "    <tr>\n",
       "      <th>lt</th>\n",
       "      <td>1008</td>\n",
       "    </tr>\n",
       "    <tr>\n",
       "      <th>reuters</th>\n",
       "      <td>846</td>\n",
       "    </tr>\n",
       "    <tr>\n",
       "      <th>...</th>\n",
       "      <td>...</td>\n",
       "    </tr>\n",
       "    <tr>\n",
       "      <th>pocketbooks</th>\n",
       "      <td>1</td>\n",
       "    </tr>\n",
       "    <tr>\n",
       "      <th>poborsky</th>\n",
       "      <td>1</td>\n",
       "    </tr>\n",
       "    <tr>\n",
       "      <th>poaching</th>\n",
       "      <td>1</td>\n",
       "    </tr>\n",
       "    <tr>\n",
       "      <th>poaches</th>\n",
       "      <td>1</td>\n",
       "    </tr>\n",
       "    <tr>\n",
       "      <th>zvonareva</th>\n",
       "      <td>1</td>\n",
       "    </tr>\n",
       "  </tbody>\n",
       "</table>\n",
       "<p>17594 rows × 1 columns</p>\n",
       "</div>"
      ],
      "text/plain": [
       "             frequency\n",
       "39                2591\n",
       "ap                1520\n",
       "gt                1015\n",
       "lt                1008\n",
       "reuters            846\n",
       "...                ...\n",
       "pocketbooks          1\n",
       "poborsky             1\n",
       "poaching             1\n",
       "poaches              1\n",
       "zvonareva            1\n",
       "\n",
       "[17594 rows x 1 columns]"
      ]
     },
     "execution_count": 49,
     "metadata": {},
     "output_type": "execute_result"
    }
   ],
   "source": [
    "vectorize = CountVectorizer(stop_words=\"english\")\n",
    "\n",
    "c = vectorize.fit(train_data.title)\n",
    "C = c.transform(train_data.title)\n",
    "\n",
    "summ = np.sum(C,axis=0)\n",
    "total = np.squeeze(np.asarray(summ))\n",
    "term_freq_df = pd.DataFrame([total],columns=c.get_feature_names()).transpose()\n",
    "term_freq_df.columns = [\"frequency\"]\n",
    "\n",
    "term_freq_df.sort_values(by=\"frequency\", ascending=False)\n",
    "# ascending=False makes the most frequent words at the head of the table."
   ]
  },
  {
   "cell_type": "code",
   "execution_count": 50,
   "metadata": {
    "slideshow": {
     "slide_type": "subslide"
    }
   },
   "outputs": [
    {
     "data": {
      "text/plain": [
       "Text(0.5, 1.0, 'Top 500 tokens')"
      ]
     },
     "execution_count": 50,
     "metadata": {},
     "output_type": "execute_result"
    },
    {
     "data": {
      "image/png": "[encoded data removed]",
      "text/plain": [
       "<Figure size 720x576 with 1 Axes>"
      ]
     },
     "metadata": {},
     "output_type": "display_data"
    }
   ],
   "source": [
    "y_pos = np.arange(500)\n",
    "plt.figure(figsize=(10,8))\n",
    "s = 1\n",
    "expected_zipf = [term_freq_df.sort_values(by='frequency', ascending=False)['frequency'][0]/(i+1)**s for i in y_pos]\n",
    "plt.bar(y_pos, term_freq_df.sort_values(by='frequency', ascending=False)['frequency'][:500], align='center', alpha=0.5)\n",
    "plt.plot(y_pos, expected_zipf, color='r', linestyle='--',linewidth=2,alpha=0.5)\n",
    "plt.ylabel('Frequency')\n",
    "plt.title('Top 500 tokens')"
   ]
  },
  {
   "cell_type": "markdown",
   "metadata": {
    "slideshow": {
     "slide_type": "subslide"
    }
   },
   "source": [
    "We first build a feature extraction method that takes raw texts as input and runs builds features on the whole dataset (so that we have the feature vector input for the machine learning)."
   ]
  },
  {
   "cell_type": "code",
   "execution_count": 52,
   "metadata": {
    "slideshow": {
     "slide_type": "fragment"
    }
   },
   "outputs": [],
   "source": [
    "import gensim\n",
    "from tqdm import tqdm\n",
    "from sklearn.model_selection import train_test_split as split\n",
    "import numpy as np\n",
    "\n",
    "def vectorize_to_bow(tr_data, tst_data):\n",
    "    \n",
    "    tr_vectors = X.transform(tr_data) # to transform the data into numerical values (or encoding vectors for the machine larning.)\n",
    "    \n",
    "    tst_vectors = X.transform(tst_data)\n",
    "    return tr_vectors, tst_vectors\n",
    "\n",
    "def get_features_and_labels(data, labels): # to import the data and the corresponding for the data\n",
    "    \n",
    "    # distinguish which is the dataset and which is the label for training stage,\n",
    "    # and which is the dataset and which is the label for test stage\n",
    "    # by default, we use 70% of dataset for the training and 30% for the test stage.\n",
    "    tr_data,tst_data,tr_labels,tst_labels = split(data,labels, test_size=0.3, random_state=1234)\n",
    "    \n",
    "    tst_vecs = []\n",
    "    tr_vecs = []\n",
    "    tr_vecs, tst_vecs = vectorize_to_bow(tr_data, tst_data)    \n",
    "    return tr_vecs, tr_labels, tst_vecs, tst_labels"
   ]
  },
  {
   "cell_type": "code",
   "execution_count": 53,
   "metadata": {
    "slideshow": {
     "slide_type": "subslide"
    }
   },
   "outputs": [],
   "source": [
    "tr_vecs, tr_labels, tst_vecs, tst_labels = get_features_and_labels(train_data.title, train_data.label)"
   ]
  },
  {
   "cell_type": "code",
   "execution_count": 54,
   "metadata": {
    "slideshow": {
     "slide_type": "fragment"
    }
   },
   "outputs": [
    {
     "data": {
      "text/plain": [
       "(16800, 10000)"
      ]
     },
     "execution_count": 54,
     "metadata": {},
     "output_type": "execute_result"
    }
   ],
   "source": [
    "tr_vecs.shape # 10000: the X.vocabulary_ size (the number of columns in each row vector)\n",
    "# 16800 row vectors."
   ]
  },
  {
   "cell_type": "markdown",
   "metadata": {
    "slideshow": {
     "slide_type": "slide"
    }
   },
   "source": [
    "<h2 id=\"Machine-Learning\">Machine Learning</h2>\n",
    "<ul>\n",
    "<li>We have a datasets with labels</li>\n",
    "<li>We can train a machine learning algorithm using the labels as \"gold\" data - <span style=\"color: #e03e2d;\">Supervised learning</span></li>\n",
    "<li>The algorithm will predict unseen data points using the trained model</li>\n",
    "<li>We will use <a href=\"https://scikit-learn.org/stable/\" target=\"_blank\" rel=\"noopener\">sklearn</a> for the models</li>\n",
    "</ul>"
   ]
  },
  {
   "cell_type": "markdown",
   "metadata": {
    "slideshow": {
     "slide_type": "subslide"
    }
   },
   "source": [
    "### Logistic Regression\n",
    "- One of the simplest method for classification tasks\n",
    "\n",
    "![lr](https://www.equiskill.com/wp-content/uploads/2018/07/WhatsApp-Image-2020-02-11-at-8.30.11-PM.jpeg)"
   ]
  },
  {
   "cell_type": "code",
   "execution_count": 55,
   "metadata": {
    "slideshow": {
     "slide_type": "subslide"
    }
   },
   "outputs": [],
   "source": [
    "#Import a bunch of stuff from sklearn\n",
    "from sklearn.ensemble import RandomForestClassifier, AdaBoostClassifier\n",
    "from sklearn.linear_model import LogisticRegression\n",
    "from sklearn.model_selection import cross_val_score\n",
    "\n",
    "lr  = LogisticRegression(n_jobs=-1)"
   ]
  },
  {
   "cell_type": "code",
   "execution_count": 58,
   "metadata": {
    "slideshow": {
     "slide_type": "fragment"
    }
   },
   "outputs": [
    {
     "data": {
      "text/plain": [
       "LogisticRegression(n_jobs=-1)"
      ]
     },
     "execution_count": 58,
     "metadata": {},
     "output_type": "execute_result"
    }
   ],
   "source": [
    "lr.fit(tr_vecs, tr_labels) # much simpler trained model with fewer data compared to deep learning, but less accurate"
   ]
  },
  {
   "cell_type": "code",
   "execution_count": 57,
   "metadata": {
    "slideshow": {
     "slide_type": "subslide"
    }
   },
   "outputs": [
    {
     "name": "stdout",
     "output_type": "stream",
     "text": [
      "Collecting eli5\n",
      "  Downloading eli5-0.11.0-py2.py3-none-any.whl (106 kB)\n",
      "\u001b[K     |████████████████████████████████| 106 kB 2.1 MB/s eta 0:00:01\n",
      "\u001b[?25hRequirement already satisfied: numpy>=1.9.0 in ./anaconda3/lib/python3.8/site-packages (from eli5) (1.19.2)\n",
      "Requirement already satisfied: six in ./anaconda3/lib/python3.8/site-packages (from eli5) (1.15.0)\n",
      "Requirement already satisfied: attrs>16.0.0 in ./anaconda3/lib/python3.8/site-packages (from eli5) (20.3.0)\n",
      "Collecting graphviz\n",
      "  Downloading graphviz-0.16-py2.py3-none-any.whl (19 kB)\n",
      "Requirement already satisfied: scikit-learn>=0.20 in ./anaconda3/lib/python3.8/site-packages (from eli5) (0.24.1)\n",
      "Collecting tabulate>=0.7.7\n",
      "  Downloading tabulate-0.8.9-py3-none-any.whl (25 kB)\n",
      "Requirement already satisfied: scipy in ./anaconda3/lib/python3.8/site-packages (from eli5) (1.5.2)\n",
      "Requirement already satisfied: jinja2 in ./anaconda3/lib/python3.8/site-packages (from eli5) (2.11.2)\n",
      "Requirement already satisfied: threadpoolctl>=2.0.0 in ./anaconda3/lib/python3.8/site-packages (from scikit-learn>=0.20->eli5) (2.1.0)\n",
      "Requirement already satisfied: joblib>=0.11 in ./anaconda3/lib/python3.8/site-packages (from scikit-learn>=0.20->eli5) (0.17.0)\n",
      "Requirement already satisfied: MarkupSafe>=0.23 in ./anaconda3/lib/python3.8/site-packages (from jinja2->eli5) (1.1.1)\n",
      "Installing collected packages: tabulate, graphviz, eli5\n",
      "Successfully installed eli5-0.11.0 graphviz-0.16 tabulate-0.8.9\n"
     ]
    },
    {
     "data": {
      "text/html": [
       "\n",
       "    <style>\n",
       "    table.eli5-weights tr:hover {\n",
       "        filter: brightness(85%);\n",
       "    }\n",
       "</style>\n",
       "\n",
       "\n",
       "\n",
       "    \n",
       "\n",
       "    \n",
       "\n",
       "    \n",
       "\n",
       "    \n",
       "\n",
       "    \n",
       "\n",
       "    \n",
       "\n",
       "\n",
       "    \n",
       "\n",
       "    \n",
       "\n",
       "    \n",
       "\n",
       "    \n",
       "        \n",
       "\n",
       "    \n",
       "        <table class=\"eli5-weights-wrapper\" style=\"border-collapse: collapse; border: none; margin-bottom: 1.5em;\">\n",
       "            <tr>\n",
       "                \n",
       "                    <td style=\"padding: 0.5em; border: 1px solid black; text-align: center;\">\n",
       "                        <b>\n",
       "    \n",
       "        y=1\n",
       "    \n",
       "</b>\n",
       "\n",
       "top features\n",
       "                    </td>\n",
       "                \n",
       "                    <td style=\"padding: 0.5em; border: 1px solid black; text-align: center;\">\n",
       "                        <b>\n",
       "    \n",
       "        y=2\n",
       "    \n",
       "</b>\n",
       "\n",
       "top features\n",
       "                    </td>\n",
       "                \n",
       "                    <td style=\"padding: 0.5em; border: 1px solid black; text-align: center;\">\n",
       "                        <b>\n",
       "    \n",
       "        y=3\n",
       "    \n",
       "</b>\n",
       "\n",
       "top features\n",
       "                    </td>\n",
       "                \n",
       "                    <td style=\"padding: 0.5em; border: 1px solid black; text-align: center;\">\n",
       "                        <b>\n",
       "    \n",
       "        y=4\n",
       "    \n",
       "</b>\n",
       "\n",
       "top features\n",
       "                    </td>\n",
       "                \n",
       "            </tr>\n",
       "            <tr>\n",
       "                \n",
       "                    \n",
       "                        <td style=\"padding: 0px; border: 1px solid black; vertical-align: top;\">\n",
       "                            \n",
       "                                \n",
       "                                    \n",
       "                                    \n",
       "    \n",
       "    <table class=\"eli5-weights\"\n",
       "           style=\"border-collapse: collapse; border: none; margin-top: 0em; table-layout: auto; width: 100%;\">\n",
       "        <thead>\n",
       "        <tr style=\"border: none;\">\n",
       "            \n",
       "                <th style=\"padding: 0 1em 0 0.5em; text-align: right; border: none;\" title=\"Feature weights. Note that weights do not account for feature value scales, so if feature values have different scales, features with highest weights might not be the most important.\">\n",
       "                    Weight<sup>?</sup>\n",
       "                </th>\n",
       "            \n",
       "            <th style=\"padding: 0 0.5em 0 0.5em; text-align: left; border: none;\">Feature</th>\n",
       "            \n",
       "        </tr>\n",
       "        </thead>\n",
       "        <tbody>\n",
       "        \n",
       "            <tr style=\"background-color: hsl(120, 100.00%, 80.25%); border: none;\">\n",
       "    <td style=\"padding: 0 1em 0 0.5em; text-align: right; border: none;\">\n",
       "        +2.665\n",
       "    </td>\n",
       "    <td style=\"padding: 0 0.5em 0 0.5em; text-align: left; border: none;\">\n",
       "        iran\n",
       "    </td>\n",
       "    \n",
       "</tr>\n",
       "        \n",
       "            <tr style=\"background-color: hsl(120, 100.00%, 80.61%); border: none;\">\n",
       "    <td style=\"padding: 0 1em 0 0.5em; text-align: right; border: none;\">\n",
       "        +2.594\n",
       "    </td>\n",
       "    <td style=\"padding: 0 0.5em 0 0.5em; text-align: left; border: none;\">\n",
       "        iraq\n",
       "    </td>\n",
       "    \n",
       "</tr>\n",
       "        \n",
       "            <tr style=\"background-color: hsl(120, 100.00%, 81.20%); border: none;\">\n",
       "    <td style=\"padding: 0 1em 0 0.5em; text-align: right; border: none;\">\n",
       "        +2.483\n",
       "    </td>\n",
       "    <td style=\"padding: 0 0.5em 0 0.5em; text-align: left; border: none;\">\n",
       "        arafat\n",
       "    </td>\n",
       "    \n",
       "</tr>\n",
       "        \n",
       "            <tr style=\"background-color: hsl(120, 100.00%, 82.04%); border: none;\">\n",
       "    <td style=\"padding: 0 1em 0 0.5em; text-align: right; border: none;\">\n",
       "        +2.326\n",
       "    </td>\n",
       "    <td style=\"padding: 0 0.5em 0 0.5em; text-align: left; border: none;\">\n",
       "        iraqi\n",
       "    </td>\n",
       "    \n",
       "</tr>\n",
       "        \n",
       "            <tr style=\"background-color: hsl(120, 100.00%, 82.38%); border: none;\">\n",
       "    <td style=\"padding: 0 1em 0 0.5em; text-align: right; border: none;\">\n",
       "        +2.264\n",
       "    </td>\n",
       "    <td style=\"padding: 0 0.5em 0 0.5em; text-align: left; border: none;\">\n",
       "        darfur\n",
       "    </td>\n",
       "    \n",
       "</tr>\n",
       "        \n",
       "            <tr style=\"background-color: hsl(120, 100.00%, 82.50%); border: none;\">\n",
       "    <td style=\"padding: 0 1em 0 0.5em; text-align: right; border: none;\">\n",
       "        +2.241\n",
       "    </td>\n",
       "    <td style=\"padding: 0 0.5em 0 0.5em; text-align: left; border: none;\">\n",
       "        hostage\n",
       "    </td>\n",
       "    \n",
       "</tr>\n",
       "        \n",
       "            <tr style=\"background-color: hsl(120, 100.00%, 82.57%); border: none;\">\n",
       "    <td style=\"padding: 0 1em 0 0.5em; text-align: right; border: none;\">\n",
       "        +2.229\n",
       "    </td>\n",
       "    <td style=\"padding: 0 0.5em 0 0.5em; text-align: left; border: none;\">\n",
       "        afghan\n",
       "    </td>\n",
       "    \n",
       "</tr>\n",
       "        \n",
       "            <tr style=\"background-color: hsl(120, 100.00%, 82.64%); border: none;\">\n",
       "    <td style=\"padding: 0 1em 0 0.5em; text-align: right; border: none;\">\n",
       "        +2.216\n",
       "    </td>\n",
       "    <td style=\"padding: 0 0.5em 0 0.5em; text-align: left; border: none;\">\n",
       "        afp\n",
       "    </td>\n",
       "    \n",
       "</tr>\n",
       "        \n",
       "            <tr style=\"background-color: hsl(120, 100.00%, 83.21%); border: none;\">\n",
       "    <td style=\"padding: 0 1em 0 0.5em; text-align: right; border: none;\">\n",
       "        +2.112\n",
       "    </td>\n",
       "    <td style=\"padding: 0 0.5em 0 0.5em; text-align: left; border: none;\">\n",
       "        election\n",
       "    </td>\n",
       "    \n",
       "</tr>\n",
       "        \n",
       "            <tr style=\"background-color: hsl(120, 100.00%, 83.27%); border: none;\">\n",
       "    <td style=\"padding: 0 1em 0 0.5em; text-align: right; border: none;\">\n",
       "        +2.102\n",
       "    </td>\n",
       "    <td style=\"padding: 0 0.5em 0 0.5em; text-align: left; border: none;\">\n",
       "        sharon\n",
       "    </td>\n",
       "    \n",
       "</tr>\n",
       "        \n",
       "            <tr style=\"background-color: hsl(120, 100.00%, 83.28%); border: none;\">\n",
       "    <td style=\"padding: 0 1em 0 0.5em; text-align: right; border: none;\">\n",
       "        +2.100\n",
       "    </td>\n",
       "    <td style=\"padding: 0 0.5em 0 0.5em; text-align: left; border: none;\">\n",
       "        blair\n",
       "    </td>\n",
       "    \n",
       "</tr>\n",
       "        \n",
       "            <tr style=\"background-color: hsl(120, 100.00%, 83.30%); border: none;\">\n",
       "    <td style=\"padding: 0 1em 0 0.5em; text-align: right; border: none;\">\n",
       "        +2.096\n",
       "    </td>\n",
       "    <td style=\"padding: 0 0.5em 0 0.5em; text-align: left; border: none;\">\n",
       "        sudan\n",
       "    </td>\n",
       "    \n",
       "</tr>\n",
       "        \n",
       "            <tr style=\"background-color: hsl(120, 100.00%, 83.69%); border: none;\">\n",
       "    <td style=\"padding: 0 1em 0 0.5em; text-align: right; border: none;\">\n",
       "        +2.026\n",
       "    </td>\n",
       "    <td style=\"padding: 0 0.5em 0 0.5em; text-align: left; border: none;\">\n",
       "        kerry\n",
       "    </td>\n",
       "    \n",
       "</tr>\n",
       "        \n",
       "            <tr style=\"background-color: hsl(120, 100.00%, 83.81%); border: none;\">\n",
       "    <td style=\"padding: 0 1em 0 0.5em; text-align: right; border: none;\">\n",
       "        +2.005\n",
       "    </td>\n",
       "    <td style=\"padding: 0 0.5em 0 0.5em; text-align: left; border: none;\">\n",
       "        dead\n",
       "    </td>\n",
       "    \n",
       "</tr>\n",
       "        \n",
       "            <tr style=\"background-color: hsl(120, 100.00%, 84.24%); border: none;\">\n",
       "    <td style=\"padding: 0 1em 0 0.5em; text-align: right; border: none;\">\n",
       "        +1.930\n",
       "    </td>\n",
       "    <td style=\"padding: 0 0.5em 0 0.5em; text-align: left; border: none;\">\n",
       "        palestinian\n",
       "    </td>\n",
       "    \n",
       "</tr>\n",
       "        \n",
       "            <tr style=\"background-color: hsl(120, 100.00%, 84.26%); border: none;\">\n",
       "    <td style=\"padding: 0 1em 0 0.5em; text-align: right; border: none;\">\n",
       "        +1.927\n",
       "    </td>\n",
       "    <td style=\"padding: 0 0.5em 0 0.5em; text-align: left; border: none;\">\n",
       "        fallujah\n",
       "    </td>\n",
       "    \n",
       "</tr>\n",
       "        \n",
       "            <tr style=\"background-color: hsl(120, 100.00%, 84.26%); border: none;\">\n",
       "    <td style=\"padding: 0 1em 0 0.5em; text-align: right; border: none;\">\n",
       "        +1.927\n",
       "    </td>\n",
       "    <td style=\"padding: 0 0.5em 0 0.5em; text-align: left; border: none;\">\n",
       "        israel\n",
       "    </td>\n",
       "    \n",
       "</tr>\n",
       "        \n",
       "            <tr style=\"background-color: hsl(120, 100.00%, 84.62%); border: none;\">\n",
       "    <td style=\"padding: 0 1em 0 0.5em; text-align: right; border: none;\">\n",
       "        +1.864\n",
       "    </td>\n",
       "    <td style=\"padding: 0 0.5em 0 0.5em; text-align: left; border: none;\">\n",
       "        troops\n",
       "    </td>\n",
       "    \n",
       "</tr>\n",
       "        \n",
       "            <tr style=\"background-color: hsl(120, 100.00%, 84.79%); border: none;\">\n",
       "    <td style=\"padding: 0 1em 0 0.5em; text-align: right; border: none;\">\n",
       "        +1.835\n",
       "    </td>\n",
       "    <td style=\"padding: 0 0.5em 0 0.5em; text-align: left; border: none;\">\n",
       "        indonesia\n",
       "    </td>\n",
       "    \n",
       "</tr>\n",
       "        \n",
       "            <tr style=\"background-color: hsl(120, 100.00%, 84.82%); border: none;\">\n",
       "    <td style=\"padding: 0 1em 0 0.5em; text-align: right; border: none;\">\n",
       "        +1.830\n",
       "    </td>\n",
       "    <td style=\"padding: 0 0.5em 0 0.5em; text-align: left; border: none;\">\n",
       "        killed\n",
       "    </td>\n",
       "    \n",
       "</tr>\n",
       "        \n",
       "        \n",
       "            <tr style=\"background-color: hsl(120, 100.00%, 84.82%); border: none;\">\n",
       "                <td colspan=\"2\" style=\"padding: 0 0.5em 0 0.5em; text-align: center; border: none; white-space: nowrap;\">\n",
       "                    <i>&hellip; 3345 more positive &hellip;</i>\n",
       "                </td>\n",
       "            </tr>\n",
       "        \n",
       "\n",
       "        \n",
       "            <tr style=\"background-color: hsl(0, 100.00%, 80.00%); border: none;\">\n",
       "                <td colspan=\"2\" style=\"padding: 0 0.5em 0 0.5em; text-align: center; border: none; white-space: nowrap;\">\n",
       "                    <i>&hellip; 6288 more negative &hellip;</i>\n",
       "                </td>\n",
       "            </tr>\n",
       "        \n",
       "        \n",
       "\n",
       "        </tbody>\n",
       "    </table>\n",
       "\n",
       "                                \n",
       "                            \n",
       "                        </td>\n",
       "                    \n",
       "                        <td style=\"padding: 0px; border: 1px solid black; vertical-align: top;\">\n",
       "                            \n",
       "                                \n",
       "                                    \n",
       "                                    \n",
       "    \n",
       "    <table class=\"eli5-weights\"\n",
       "           style=\"border-collapse: collapse; border: none; margin-top: 0em; table-layout: auto; width: 100%;\">\n",
       "        <thead>\n",
       "        <tr style=\"border: none;\">\n",
       "            \n",
       "                <th style=\"padding: 0 1em 0 0.5em; text-align: right; border: none;\" title=\"Feature weights. Note that weights do not account for feature value scales, so if feature values have different scales, features with highest weights might not be the most important.\">\n",
       "                    Weight<sup>?</sup>\n",
       "                </th>\n",
       "            \n",
       "            <th style=\"padding: 0 0.5em 0 0.5em; text-align: left; border: none;\">Feature</th>\n",
       "            \n",
       "        </tr>\n",
       "        </thead>\n",
       "        <tbody>\n",
       "        \n",
       "            <tr style=\"background-color: hsl(120, 100.00%, 82.59%); border: none;\">\n",
       "    <td style=\"padding: 0 1em 0 0.5em; text-align: right; border: none;\">\n",
       "        +2.224\n",
       "    </td>\n",
       "    <td style=\"padding: 0 0.5em 0 0.5em; text-align: left; border: none;\">\n",
       "        cup\n",
       "    </td>\n",
       "    \n",
       "</tr>\n",
       "        \n",
       "            <tr style=\"background-color: hsl(120, 100.00%, 82.76%); border: none;\">\n",
       "    <td style=\"padding: 0 1em 0 0.5em; text-align: right; border: none;\">\n",
       "        +2.194\n",
       "    </td>\n",
       "    <td style=\"padding: 0 0.5em 0 0.5em; text-align: left; border: none;\">\n",
       "        nba\n",
       "    </td>\n",
       "    \n",
       "</tr>\n",
       "        \n",
       "            <tr style=\"background-color: hsl(120, 100.00%, 84.89%); border: none;\">\n",
       "    <td style=\"padding: 0 1em 0 0.5em; text-align: right; border: none;\">\n",
       "        +1.817\n",
       "    </td>\n",
       "    <td style=\"padding: 0 0.5em 0 0.5em; text-align: left; border: none;\">\n",
       "        si\n",
       "    </td>\n",
       "    \n",
       "</tr>\n",
       "        \n",
       "            <tr style=\"background-color: hsl(120, 100.00%, 84.91%); border: none;\">\n",
       "    <td style=\"padding: 0 1em 0 0.5em; text-align: right; border: none;\">\n",
       "        +1.813\n",
       "    </td>\n",
       "    <td style=\"padding: 0 0.5em 0 0.5em; text-align: left; border: none;\">\n",
       "        nfl\n",
       "    </td>\n",
       "    \n",
       "</tr>\n",
       "        \n",
       "            <tr style=\"background-color: hsl(120, 100.00%, 84.93%); border: none;\">\n",
       "    <td style=\"padding: 0 1em 0 0.5em; text-align: right; border: none;\">\n",
       "        +1.811\n",
       "    </td>\n",
       "    <td style=\"padding: 0 0.5em 0 0.5em; text-align: left; border: none;\">\n",
       "        nhl\n",
       "    </td>\n",
       "    \n",
       "</tr>\n",
       "        \n",
       "            <tr style=\"background-color: hsl(120, 100.00%, 85.09%); border: none;\">\n",
       "    <td style=\"padding: 0 1em 0 0.5em; text-align: right; border: none;\">\n",
       "        +1.784\n",
       "    </td>\n",
       "    <td style=\"padding: 0 0.5em 0 0.5em; text-align: left; border: none;\">\n",
       "        coach\n",
       "    </td>\n",
       "    \n",
       "</tr>\n",
       "        \n",
       "            <tr style=\"background-color: hsl(120, 100.00%, 85.47%); border: none;\">\n",
       "    <td style=\"padding: 0 1em 0 0.5em; text-align: right; border: none;\">\n",
       "        +1.719\n",
       "    </td>\n",
       "    <td style=\"padding: 0 0.5em 0 0.5em; text-align: left; border: none;\">\n",
       "        sox\n",
       "    </td>\n",
       "    \n",
       "</tr>\n",
       "        \n",
       "            <tr style=\"background-color: hsl(120, 100.00%, 85.69%); border: none;\">\n",
       "    <td style=\"padding: 0 1em 0 0.5em; text-align: right; border: none;\">\n",
       "        +1.681\n",
       "    </td>\n",
       "    <td style=\"padding: 0 0.5em 0 0.5em; text-align: left; border: none;\">\n",
       "        eagles\n",
       "    </td>\n",
       "    \n",
       "</tr>\n",
       "        \n",
       "            <tr style=\"background-color: hsl(120, 100.00%, 85.84%); border: none;\">\n",
       "    <td style=\"padding: 0 1em 0 0.5em; text-align: right; border: none;\">\n",
       "        +1.656\n",
       "    </td>\n",
       "    <td style=\"padding: 0 0.5em 0 0.5em; text-align: left; border: none;\">\n",
       "        cubs\n",
       "    </td>\n",
       "    \n",
       "</tr>\n",
       "        \n",
       "            <tr style=\"background-color: hsl(120, 100.00%, 85.94%); border: none;\">\n",
       "    <td style=\"padding: 0 1em 0 0.5em; text-align: right; border: none;\">\n",
       "        +1.640\n",
       "    </td>\n",
       "    <td style=\"padding: 0 0.5em 0 0.5em; text-align: left; border: none;\">\n",
       "        players\n",
       "    </td>\n",
       "    \n",
       "</tr>\n",
       "        \n",
       "            <tr style=\"background-color: hsl(120, 100.00%, 86.12%); border: none;\">\n",
       "    <td style=\"padding: 0 1em 0 0.5em; text-align: right; border: none;\">\n",
       "        +1.609\n",
       "    </td>\n",
       "    <td style=\"padding: 0 0.5em 0 0.5em; text-align: left; border: none;\">\n",
       "        bryant\n",
       "    </td>\n",
       "    \n",
       "</tr>\n",
       "        \n",
       "            <tr style=\"background-color: hsl(120, 100.00%, 86.52%); border: none;\">\n",
       "    <td style=\"padding: 0 1em 0 0.5em; text-align: right; border: none;\">\n",
       "        +1.543\n",
       "    </td>\n",
       "    <td style=\"padding: 0 0.5em 0 0.5em; text-align: left; border: none;\">\n",
       "        astros\n",
       "    </td>\n",
       "    \n",
       "</tr>\n",
       "        \n",
       "            <tr style=\"background-color: hsl(120, 100.00%, 86.56%); border: none;\">\n",
       "    <td style=\"padding: 0 1em 0 0.5em; text-align: right; border: none;\">\n",
       "        +1.537\n",
       "    </td>\n",
       "    <td style=\"padding: 0 0.5em 0 0.5em; text-align: left; border: none;\">\n",
       "        expos\n",
       "    </td>\n",
       "    \n",
       "</tr>\n",
       "        \n",
       "            <tr style=\"background-color: hsl(120, 100.00%, 86.65%); border: none;\">\n",
       "    <td style=\"padding: 0 1em 0 0.5em; text-align: right; border: none;\">\n",
       "        +1.523\n",
       "    </td>\n",
       "    <td style=\"padding: 0 0.5em 0 0.5em; text-align: left; border: none;\">\n",
       "        league\n",
       "    </td>\n",
       "    \n",
       "</tr>\n",
       "        \n",
       "            <tr style=\"background-color: hsl(120, 100.00%, 86.82%); border: none;\">\n",
       "    <td style=\"padding: 0 1em 0 0.5em; text-align: right; border: none;\">\n",
       "        +1.494\n",
       "    </td>\n",
       "    <td style=\"padding: 0 0.5em 0 0.5em; text-align: left; border: none;\">\n",
       "        racing\n",
       "    </td>\n",
       "    \n",
       "</tr>\n",
       "        \n",
       "            <tr style=\"background-color: hsl(120, 100.00%, 86.91%); border: none;\">\n",
       "    <td style=\"padding: 0 1em 0 0.5em; text-align: right; border: none;\">\n",
       "        +1.480\n",
       "    </td>\n",
       "    <td style=\"padding: 0 0.5em 0 0.5em; text-align: left; border: none;\">\n",
       "        wenger\n",
       "    </td>\n",
       "    \n",
       "</tr>\n",
       "        \n",
       "            <tr style=\"background-color: hsl(120, 100.00%, 87.03%); border: none;\">\n",
       "    <td style=\"padding: 0 1em 0 0.5em; text-align: right; border: none;\">\n",
       "        +1.461\n",
       "    </td>\n",
       "    <td style=\"padding: 0 0.5em 0 0.5em; text-align: left; border: none;\">\n",
       "        olympic\n",
       "    </td>\n",
       "    \n",
       "</tr>\n",
       "        \n",
       "        \n",
       "            <tr style=\"background-color: hsl(120, 100.00%, 87.03%); border: none;\">\n",
       "                <td colspan=\"2\" style=\"padding: 0 0.5em 0 0.5em; text-align: center; border: none; white-space: nowrap;\">\n",
       "                    <i>&hellip; 3260 more positive &hellip;</i>\n",
       "                </td>\n",
       "            </tr>\n",
       "        \n",
       "\n",
       "        \n",
       "            <tr style=\"background-color: hsl(0, 100.00%, 86.08%); border: none;\">\n",
       "                <td colspan=\"2\" style=\"padding: 0 0.5em 0 0.5em; text-align: center; border: none; white-space: nowrap;\">\n",
       "                    <i>&hellip; 6373 more negative &hellip;</i>\n",
       "                </td>\n",
       "            </tr>\n",
       "        \n",
       "        \n",
       "            <tr style=\"background-color: hsl(0, 100.00%, 86.08%); border: none;\">\n",
       "    <td style=\"padding: 0 1em 0 0.5em; text-align: right; border: none;\">\n",
       "        -1.616\n",
       "    </td>\n",
       "    <td style=\"padding: 0 0.5em 0 0.5em; text-align: left; border: none;\">\n",
       "        google\n",
       "    </td>\n",
       "    \n",
       "</tr>\n",
       "        \n",
       "            <tr style=\"background-color: hsl(0, 100.00%, 85.95%); border: none;\">\n",
       "    <td style=\"padding: 0 1em 0 0.5em; text-align: right; border: none;\">\n",
       "        -1.638\n",
       "    </td>\n",
       "    <td style=\"padding: 0 0.5em 0 0.5em; text-align: left; border: none;\">\n",
       "        microsoft\n",
       "    </td>\n",
       "    \n",
       "</tr>\n",
       "        \n",
       "            <tr style=\"background-color: hsl(0, 100.00%, 85.38%); border: none;\">\n",
       "    <td style=\"padding: 0 1em 0 0.5em; text-align: right; border: none;\">\n",
       "        -1.733\n",
       "    </td>\n",
       "    <td style=\"padding: 0 0.5em 0 0.5em; text-align: left; border: none;\">\n",
       "        eu\n",
       "    </td>\n",
       "    \n",
       "</tr>\n",
       "        \n",
       "\n",
       "        </tbody>\n",
       "    </table>\n",
       "\n",
       "                                \n",
       "                            \n",
       "                        </td>\n",
       "                    \n",
       "                        <td style=\"padding: 0px; border: 1px solid black; vertical-align: top;\">\n",
       "                            \n",
       "                                \n",
       "                                    \n",
       "                                    \n",
       "    \n",
       "    <table class=\"eli5-weights\"\n",
       "           style=\"border-collapse: collapse; border: none; margin-top: 0em; table-layout: auto; width: 100%;\">\n",
       "        <thead>\n",
       "        <tr style=\"border: none;\">\n",
       "            \n",
       "                <th style=\"padding: 0 1em 0 0.5em; text-align: right; border: none;\" title=\"Feature weights. Note that weights do not account for feature value scales, so if feature values have different scales, features with highest weights might not be the most important.\">\n",
       "                    Weight<sup>?</sup>\n",
       "                </th>\n",
       "            \n",
       "            <th style=\"padding: 0 0.5em 0 0.5em; text-align: left; border: none;\">Feature</th>\n",
       "            \n",
       "        </tr>\n",
       "        </thead>\n",
       "        <tbody>\n",
       "        \n",
       "            <tr style=\"background-color: hsl(120, 100.00%, 82.73%); border: none;\">\n",
       "    <td style=\"padding: 0 1em 0 0.5em; text-align: right; border: none;\">\n",
       "        +2.200\n",
       "    </td>\n",
       "    <td style=\"padding: 0 0.5em 0 0.5em; text-align: left; border: none;\">\n",
       "        dollar\n",
       "    </td>\n",
       "    \n",
       "</tr>\n",
       "        \n",
       "            <tr style=\"background-color: hsl(120, 100.00%, 82.92%); border: none;\">\n",
       "    <td style=\"padding: 0 1em 0 0.5em; text-align: right; border: none;\">\n",
       "        +2.165\n",
       "    </td>\n",
       "    <td style=\"padding: 0 0.5em 0 0.5em; text-align: left; border: none;\">\n",
       "        enron\n",
       "    </td>\n",
       "    \n",
       "</tr>\n",
       "        \n",
       "            <tr style=\"background-color: hsl(120, 100.00%, 83.07%); border: none;\">\n",
       "    <td style=\"padding: 0 1em 0 0.5em; text-align: right; border: none;\">\n",
       "        +2.137\n",
       "    </td>\n",
       "    <td style=\"padding: 0 0.5em 0 0.5em; text-align: left; border: none;\">\n",
       "        forbes\n",
       "    </td>\n",
       "    \n",
       "</tr>\n",
       "        \n",
       "            <tr style=\"background-color: hsl(120, 100.00%, 84.39%); border: none;\">\n",
       "    <td style=\"padding: 0 1em 0 0.5em; text-align: right; border: none;\">\n",
       "        +1.903\n",
       "    </td>\n",
       "    <td style=\"padding: 0 0.5em 0 0.5em; text-align: left; border: none;\">\n",
       "        greenspan\n",
       "    </td>\n",
       "    \n",
       "</tr>\n",
       "        \n",
       "            <tr style=\"background-color: hsl(120, 100.00%, 84.59%); border: none;\">\n",
       "    <td style=\"padding: 0 1em 0 0.5em; text-align: right; border: none;\">\n",
       "        +1.869\n",
       "    </td>\n",
       "    <td style=\"padding: 0 0.5em 0 0.5em; text-align: left; border: none;\">\n",
       "        martha\n",
       "    </td>\n",
       "    \n",
       "</tr>\n",
       "        \n",
       "            <tr style=\"background-color: hsl(120, 100.00%, 84.59%); border: none;\">\n",
       "    <td style=\"padding: 0 1em 0 0.5em; text-align: right; border: none;\">\n",
       "        +1.869\n",
       "    </td>\n",
       "    <td style=\"padding: 0 0.5em 0 0.5em; text-align: left; border: none;\">\n",
       "        oil\n",
       "    </td>\n",
       "    \n",
       "</tr>\n",
       "        \n",
       "            <tr style=\"background-color: hsl(120, 100.00%, 84.67%); border: none;\">\n",
       "    <td style=\"padding: 0 1em 0 0.5em; text-align: right; border: none;\">\n",
       "        +1.856\n",
       "    </td>\n",
       "    <td style=\"padding: 0 0.5em 0 0.5em; text-align: left; border: none;\">\n",
       "        profit\n",
       "    </td>\n",
       "    \n",
       "</tr>\n",
       "        \n",
       "            <tr style=\"background-color: hsl(120, 100.00%, 84.69%); border: none;\">\n",
       "    <td style=\"padding: 0 1em 0 0.5em; text-align: right; border: none;\">\n",
       "        +1.852\n",
       "    </td>\n",
       "    <td style=\"padding: 0 0.5em 0 0.5em; text-align: left; border: none;\">\n",
       "        economy\n",
       "    </td>\n",
       "    \n",
       "</tr>\n",
       "        \n",
       "            <tr style=\"background-color: hsl(120, 100.00%, 84.86%); border: none;\">\n",
       "    <td style=\"padding: 0 1em 0 0.5em; text-align: right; border: none;\">\n",
       "        +1.822\n",
       "    </td>\n",
       "    <td style=\"padding: 0 0.5em 0 0.5em; text-align: left; border: none;\">\n",
       "        airbus\n",
       "    </td>\n",
       "    \n",
       "</tr>\n",
       "        \n",
       "            <tr style=\"background-color: hsl(120, 100.00%, 84.91%); border: none;\">\n",
       "    <td style=\"padding: 0 1em 0 0.5em; text-align: right; border: none;\">\n",
       "        +1.813\n",
       "    </td>\n",
       "    <td style=\"padding: 0 0.5em 0 0.5em; text-align: left; border: none;\">\n",
       "        corp\n",
       "    </td>\n",
       "    \n",
       "</tr>\n",
       "        \n",
       "            <tr style=\"background-color: hsl(120, 100.00%, 85.12%); border: none;\">\n",
       "    <td style=\"padding: 0 1em 0 0.5em; text-align: right; border: none;\">\n",
       "        +1.779\n",
       "    </td>\n",
       "    <td style=\"padding: 0 0.5em 0 0.5em; text-align: left; border: none;\">\n",
       "        jobless\n",
       "    </td>\n",
       "    \n",
       "</tr>\n",
       "        \n",
       "            <tr style=\"background-color: hsl(120, 100.00%, 85.20%); border: none;\">\n",
       "    <td style=\"padding: 0 1em 0 0.5em; text-align: right; border: none;\">\n",
       "        +1.764\n",
       "    </td>\n",
       "    <td style=\"padding: 0 0.5em 0 0.5em; text-align: left; border: none;\">\n",
       "        imf\n",
       "    </td>\n",
       "    \n",
       "</tr>\n",
       "        \n",
       "            <tr style=\"background-color: hsl(120, 100.00%, 85.25%); border: none;\">\n",
       "    <td style=\"padding: 0 1em 0 0.5em; text-align: right; border: none;\">\n",
       "        +1.755\n",
       "    </td>\n",
       "    <td style=\"padding: 0 0.5em 0 0.5em; text-align: left; border: none;\">\n",
       "        yukos\n",
       "    </td>\n",
       "    \n",
       "</tr>\n",
       "        \n",
       "            <tr style=\"background-color: hsl(120, 100.00%, 85.59%); border: none;\">\n",
       "    <td style=\"padding: 0 1em 0 0.5em; text-align: right; border: none;\">\n",
       "        +1.698\n",
       "    </td>\n",
       "    <td style=\"padding: 0 0.5em 0 0.5em; text-align: left; border: none;\">\n",
       "        bln\n",
       "    </td>\n",
       "    \n",
       "</tr>\n",
       "        \n",
       "            <tr style=\"background-color: hsl(120, 100.00%, 85.66%); border: none;\">\n",
       "    <td style=\"padding: 0 1em 0 0.5em; text-align: right; border: none;\">\n",
       "        +1.686\n",
       "    </td>\n",
       "    <td style=\"padding: 0 0.5em 0 0.5em; text-align: left; border: none;\">\n",
       "        ceo\n",
       "    </td>\n",
       "    \n",
       "</tr>\n",
       "        \n",
       "            <tr style=\"background-color: hsl(120, 100.00%, 85.91%); border: none;\">\n",
       "    <td style=\"padding: 0 1em 0 0.5em; text-align: right; border: none;\">\n",
       "        +1.645\n",
       "    </td>\n",
       "    <td style=\"padding: 0 0.5em 0 0.5em; text-align: left; border: none;\">\n",
       "        fannie\n",
       "    </td>\n",
       "    \n",
       "</tr>\n",
       "        \n",
       "            <tr style=\"background-color: hsl(120, 100.00%, 85.92%); border: none;\">\n",
       "    <td style=\"padding: 0 1em 0 0.5em; text-align: right; border: none;\">\n",
       "        +1.642\n",
       "    </td>\n",
       "    <td style=\"padding: 0 0.5em 0 0.5em; text-align: left; border: none;\">\n",
       "        crude\n",
       "    </td>\n",
       "    \n",
       "</tr>\n",
       "        \n",
       "            <tr style=\"background-color: hsl(120, 100.00%, 86.02%); border: none;\">\n",
       "    <td style=\"padding: 0 1em 0 0.5em; text-align: right; border: none;\">\n",
       "        +1.626\n",
       "    </td>\n",
       "    <td style=\"padding: 0 0.5em 0 0.5em; text-align: left; border: none;\">\n",
       "        citigroup\n",
       "    </td>\n",
       "    \n",
       "</tr>\n",
       "        \n",
       "            <tr style=\"background-color: hsl(120, 100.00%, 86.04%); border: none;\">\n",
       "    <td style=\"padding: 0 1em 0 0.5em; text-align: right; border: none;\">\n",
       "        +1.622\n",
       "    </td>\n",
       "    <td style=\"padding: 0 0.5em 0 0.5em; text-align: left; border: none;\">\n",
       "        delta\n",
       "    </td>\n",
       "    \n",
       "</tr>\n",
       "        \n",
       "        \n",
       "            <tr style=\"background-color: hsl(120, 100.00%, 86.04%); border: none;\">\n",
       "                <td colspan=\"2\" style=\"padding: 0 0.5em 0 0.5em; text-align: center; border: none; white-space: nowrap;\">\n",
       "                    <i>&hellip; 3263 more positive &hellip;</i>\n",
       "                </td>\n",
       "            </tr>\n",
       "        \n",
       "\n",
       "        \n",
       "            <tr style=\"background-color: hsl(0, 100.00%, 83.35%); border: none;\">\n",
       "                <td colspan=\"2\" style=\"padding: 0 0.5em 0 0.5em; text-align: center; border: none; white-space: nowrap;\">\n",
       "                    <i>&hellip; 6370 more negative &hellip;</i>\n",
       "                </td>\n",
       "            </tr>\n",
       "        \n",
       "        \n",
       "            <tr style=\"background-color: hsl(0, 100.00%, 83.35%); border: none;\">\n",
       "    <td style=\"padding: 0 1em 0 0.5em; text-align: right; border: none;\">\n",
       "        -2.087\n",
       "    </td>\n",
       "    <td style=\"padding: 0 0.5em 0 0.5em; text-align: left; border: none;\">\n",
       "        ap\n",
       "    </td>\n",
       "    \n",
       "</tr>\n",
       "        \n",
       "\n",
       "        </tbody>\n",
       "    </table>\n",
       "\n",
       "                                \n",
       "                            \n",
       "                        </td>\n",
       "                    \n",
       "                        <td style=\"padding: 0px; border: 1px solid black; vertical-align: top;\">\n",
       "                            \n",
       "                                \n",
       "                                    \n",
       "                                    \n",
       "    \n",
       "    <table class=\"eli5-weights\"\n",
       "           style=\"border-collapse: collapse; border: none; margin-top: 0em; table-layout: auto; width: 100%;\">\n",
       "        <thead>\n",
       "        <tr style=\"border: none;\">\n",
       "            \n",
       "                <th style=\"padding: 0 1em 0 0.5em; text-align: right; border: none;\" title=\"Feature weights. Note that weights do not account for feature value scales, so if feature values have different scales, features with highest weights might not be the most important.\">\n",
       "                    Weight<sup>?</sup>\n",
       "                </th>\n",
       "            \n",
       "            <th style=\"padding: 0 0.5em 0 0.5em; text-align: left; border: none;\">Feature</th>\n",
       "            \n",
       "        </tr>\n",
       "        </thead>\n",
       "        <tbody>\n",
       "        \n",
       "            <tr style=\"background-color: hsl(120, 100.00%, 80.00%); border: none;\">\n",
       "    <td style=\"padding: 0 1em 0 0.5em; text-align: right; border: none;\">\n",
       "        +2.712\n",
       "    </td>\n",
       "    <td style=\"padding: 0 0.5em 0 0.5em; text-align: left; border: none;\">\n",
       "        nasa\n",
       "    </td>\n",
       "    \n",
       "</tr>\n",
       "        \n",
       "            <tr style=\"background-color: hsl(120, 100.00%, 81.05%); border: none;\">\n",
       "    <td style=\"padding: 0 1em 0 0.5em; text-align: right; border: none;\">\n",
       "        +2.512\n",
       "    </td>\n",
       "    <td style=\"padding: 0 0.5em 0 0.5em; text-align: left; border: none;\">\n",
       "        space\n",
       "    </td>\n",
       "    \n",
       "</tr>\n",
       "        \n",
       "            <tr style=\"background-color: hsl(120, 100.00%, 81.32%); border: none;\">\n",
       "    <td style=\"padding: 0 1em 0 0.5em; text-align: right; border: none;\">\n",
       "        +2.460\n",
       "    </td>\n",
       "    <td style=\"padding: 0 0.5em 0 0.5em; text-align: left; border: none;\">\n",
       "        spam\n",
       "    </td>\n",
       "    \n",
       "</tr>\n",
       "        \n",
       "            <tr style=\"background-color: hsl(120, 100.00%, 82.10%); border: none;\">\n",
       "    <td style=\"padding: 0 1em 0 0.5em; text-align: right; border: none;\">\n",
       "        +2.316\n",
       "    </td>\n",
       "    <td style=\"padding: 0 0.5em 0 0.5em; text-align: left; border: none;\">\n",
       "        microsoft\n",
       "    </td>\n",
       "    \n",
       "</tr>\n",
       "        \n",
       "            <tr style=\"background-color: hsl(120, 100.00%, 82.87%); border: none;\">\n",
       "    <td style=\"padding: 0 1em 0 0.5em; text-align: right; border: none;\">\n",
       "        +2.174\n",
       "    </td>\n",
       "    <td style=\"padding: 0 0.5em 0 0.5em; text-align: left; border: none;\">\n",
       "        hp\n",
       "    </td>\n",
       "    \n",
       "</tr>\n",
       "        \n",
       "            <tr style=\"background-color: hsl(120, 100.00%, 83.49%); border: none;\">\n",
       "    <td style=\"padding: 0 1em 0 0.5em; text-align: right; border: none;\">\n",
       "        +2.063\n",
       "    </td>\n",
       "    <td style=\"padding: 0 0.5em 0 0.5em; text-align: left; border: none;\">\n",
       "        linux\n",
       "    </td>\n",
       "    \n",
       "</tr>\n",
       "        \n",
       "            <tr style=\"background-color: hsl(120, 100.00%, 83.62%); border: none;\">\n",
       "    <td style=\"padding: 0 1em 0 0.5em; text-align: right; border: none;\">\n",
       "        +2.040\n",
       "    </td>\n",
       "    <td style=\"padding: 0 0.5em 0 0.5em; text-align: left; border: none;\">\n",
       "        nokia\n",
       "    </td>\n",
       "    \n",
       "</tr>\n",
       "        \n",
       "            <tr style=\"background-color: hsl(120, 100.00%, 83.75%); border: none;\">\n",
       "    <td style=\"padding: 0 1em 0 0.5em; text-align: right; border: none;\">\n",
       "        +2.017\n",
       "    </td>\n",
       "    <td style=\"padding: 0 0.5em 0 0.5em; text-align: left; border: none;\">\n",
       "        halo\n",
       "    </td>\n",
       "    \n",
       "</tr>\n",
       "        \n",
       "            <tr style=\"background-color: hsl(120, 100.00%, 83.78%); border: none;\">\n",
       "    <td style=\"padding: 0 1em 0 0.5em; text-align: right; border: none;\">\n",
       "        +2.010\n",
       "    </td>\n",
       "    <td style=\"padding: 0 0.5em 0 0.5em; text-align: left; border: none;\">\n",
       "        yahoo\n",
       "    </td>\n",
       "    \n",
       "</tr>\n",
       "        \n",
       "            <tr style=\"background-color: hsl(120, 100.00%, 83.90%); border: none;\">\n",
       "    <td style=\"padding: 0 1em 0 0.5em; text-align: right; border: none;\">\n",
       "        +1.990\n",
       "    </td>\n",
       "    <td style=\"padding: 0 0.5em 0 0.5em; text-align: left; border: none;\">\n",
       "        spyware\n",
       "    </td>\n",
       "    \n",
       "</tr>\n",
       "        \n",
       "            <tr style=\"background-color: hsl(120, 100.00%, 84.14%); border: none;\">\n",
       "    <td style=\"padding: 0 1em 0 0.5em; text-align: right; border: none;\">\n",
       "        +1.947\n",
       "    </td>\n",
       "    <td style=\"padding: 0 0.5em 0 0.5em; text-align: left; border: none;\">\n",
       "        science\n",
       "    </td>\n",
       "    \n",
       "</tr>\n",
       "        \n",
       "            <tr style=\"background-color: hsl(120, 100.00%, 84.26%); border: none;\">\n",
       "    <td style=\"padding: 0 1em 0 0.5em; text-align: right; border: none;\">\n",
       "        +1.927\n",
       "    </td>\n",
       "    <td style=\"padding: 0 0.5em 0 0.5em; text-align: left; border: none;\">\n",
       "        dell\n",
       "    </td>\n",
       "    \n",
       "</tr>\n",
       "        \n",
       "            <tr style=\"background-color: hsl(120, 100.00%, 84.26%); border: none;\">\n",
       "    <td style=\"padding: 0 1em 0 0.5em; text-align: right; border: none;\">\n",
       "        +1.926\n",
       "    </td>\n",
       "    <td style=\"padding: 0 0.5em 0 0.5em; text-align: left; border: none;\">\n",
       "        ibm\n",
       "    </td>\n",
       "    \n",
       "</tr>\n",
       "        \n",
       "            <tr style=\"background-color: hsl(120, 100.00%, 84.42%); border: none;\">\n",
       "    <td style=\"padding: 0 1em 0 0.5em; text-align: right; border: none;\">\n",
       "        +1.899\n",
       "    </td>\n",
       "    <td style=\"padding: 0 0.5em 0 0.5em; text-align: left; border: none;\">\n",
       "        internet\n",
       "    </td>\n",
       "    \n",
       "</tr>\n",
       "        \n",
       "            <tr style=\"background-color: hsl(120, 100.00%, 84.53%); border: none;\">\n",
       "    <td style=\"padding: 0 1em 0 0.5em; text-align: right; border: none;\">\n",
       "        +1.880\n",
       "    </td>\n",
       "    <td style=\"padding: 0 0.5em 0 0.5em; text-align: left; border: none;\">\n",
       "        memory\n",
       "    </td>\n",
       "    \n",
       "</tr>\n",
       "        \n",
       "            <tr style=\"background-color: hsl(120, 100.00%, 84.80%); border: none;\">\n",
       "    <td style=\"padding: 0 1em 0 0.5em; text-align: right; border: none;\">\n",
       "        +1.833\n",
       "    </td>\n",
       "    <td style=\"padding: 0 0.5em 0 0.5em; text-align: left; border: none;\">\n",
       "        windows\n",
       "    </td>\n",
       "    \n",
       "</tr>\n",
       "        \n",
       "            <tr style=\"background-color: hsl(120, 100.00%, 84.81%); border: none;\">\n",
       "    <td style=\"padding: 0 1em 0 0.5em; text-align: right; border: none;\">\n",
       "        +1.831\n",
       "    </td>\n",
       "    <td style=\"padding: 0 0.5em 0 0.5em; text-align: left; border: none;\">\n",
       "        broadband\n",
       "    </td>\n",
       "    \n",
       "</tr>\n",
       "        \n",
       "            <tr style=\"background-color: hsl(120, 100.00%, 84.90%); border: none;\">\n",
       "    <td style=\"padding: 0 1em 0 0.5em; text-align: right; border: none;\">\n",
       "        +1.815\n",
       "    </td>\n",
       "    <td style=\"padding: 0 0.5em 0 0.5em; text-align: left; border: none;\">\n",
       "        rfid\n",
       "    </td>\n",
       "    \n",
       "</tr>\n",
       "        \n",
       "            <tr style=\"background-color: hsl(120, 100.00%, 84.94%); border: none;\">\n",
       "    <td style=\"padding: 0 1em 0 0.5em; text-align: right; border: none;\">\n",
       "        +1.809\n",
       "    </td>\n",
       "    <td style=\"padding: 0 0.5em 0 0.5em; text-align: left; border: none;\">\n",
       "        amd\n",
       "    </td>\n",
       "    \n",
       "</tr>\n",
       "        \n",
       "            <tr style=\"background-color: hsl(120, 100.00%, 84.99%); border: none;\">\n",
       "    <td style=\"padding: 0 1em 0 0.5em; text-align: right; border: none;\">\n",
       "        +1.800\n",
       "    </td>\n",
       "    <td style=\"padding: 0 0.5em 0 0.5em; text-align: left; border: none;\">\n",
       "        longhorn\n",
       "    </td>\n",
       "    \n",
       "</tr>\n",
       "        \n",
       "        \n",
       "            <tr style=\"background-color: hsl(120, 100.00%, 84.99%); border: none;\">\n",
       "                <td colspan=\"2\" style=\"padding: 0 0.5em 0 0.5em; text-align: center; border: none; white-space: nowrap;\">\n",
       "                    <i>&hellip; 3351 more positive &hellip;</i>\n",
       "                </td>\n",
       "            </tr>\n",
       "        \n",
       "\n",
       "        \n",
       "            <tr style=\"background-color: hsl(0, 100.00%, 80.00%); border: none;\">\n",
       "                <td colspan=\"2\" style=\"padding: 0 0.5em 0 0.5em; text-align: center; border: none; white-space: nowrap;\">\n",
       "                    <i>&hellip; 6282 more negative &hellip;</i>\n",
       "                </td>\n",
       "            </tr>\n",
       "        \n",
       "        \n",
       "\n",
       "        </tbody>\n",
       "    </table>\n",
       "\n",
       "                                \n",
       "                            \n",
       "                        </td>\n",
       "                    \n",
       "                \n",
       "            </tr>\n",
       "        </table>\n",
       "    \n",
       "\n",
       "    \n",
       "        \n",
       "\n",
       "\n",
       "    \n",
       "        \n",
       "\n",
       "\n",
       "    \n",
       "        \n",
       "\n",
       "\n",
       "    \n",
       "        \n",
       "\n",
       "\n",
       "    \n",
       "\n",
       "\n",
       "    \n",
       "\n",
       "    \n",
       "\n",
       "    \n",
       "\n",
       "\n",
       "    \n",
       "\n",
       "    \n",
       "\n",
       "    \n",
       "\n",
       "    \n",
       "\n",
       "    \n",
       "\n",
       "    \n",
       "\n",
       "\n",
       "    \n",
       "\n",
       "    \n",
       "\n",
       "    \n",
       "\n",
       "    \n",
       "\n",
       "    \n",
       "\n",
       "    \n",
       "\n",
       "\n",
       "\n"
      ],
      "text/plain": [
       "<IPython.core.display.HTML object>"
      ]
     },
     "execution_count": 57,
     "metadata": {},
     "output_type": "execute_result"
    }
   ],
   "source": [
    "!pip install eli5\n",
    "import eli5 # eli5 : explain 5 \n",
    "eli5.show_weights(lr, feature_names=X.get_feature_names()) # lr: logistic regression was trained.\n",
    "# visualize the weight for each feature\n",
    "# Y= 1 : world category\n",
    "# Y=2: sport category .. "
   ]
  },
  {
   "cell_type": "code",
   "execution_count": 59,
   "metadata": {
    "slideshow": {
     "slide_type": "subslide"
    }
   },
   "outputs": [
    {
     "name": "stdout",
     "output_type": "stream",
     "text": [
      "<class 'scipy.sparse.csr.csr_matrix'>\n",
      "Logistic Regression Test accuracy : 0.8218055555555556\n"
     ]
    }
   ],
   "source": [
    "from sklearn.metrics import accuracy_score\n",
    "print(type(tst_vecs))\n",
    "\n",
    "lr_pred = lr.predict(tst_vecs)\n",
    "print(\"Logistic Regression Test accuracy : {}\".format(accuracy_score(tst_labels, lr_pred)))"
   ]
  },
  {
   "cell_type": "markdown",
   "metadata": {
    "slideshow": {
     "slide_type": "subslide"
    }
   },
   "source": [
    "Bag of words are the simplest method for featurizing your data. If we want a more sophisticated method, we could use [TF-IDf](https://scikit-learn.org/stable/modules/generated/sklearn.feature_extraction.text.TfidfVectorizer.html)."
   ]
  },
  {
   "cell_type": "markdown",
   "metadata": {
    "slideshow": {
     "slide_type": "fragment"
    }
   },
   "source": [
    "- __TF__: The term frequency of a word in a document. \n",
    "- __IDF__: The inverse document frequency of the word across a set of documents. This means, how common or rare a word is in the entire document set. The closer it is to 0, the more common a word is.\n",
    "- The higher the score, the more relevant that word is in that particular document"
   ]
  },
  {
   "cell_type": "markdown",
   "metadata": {
    "slideshow": {
     "slide_type": "subslide"
    }
   },
   "source": [
    "\n",
    "![tfidf](https://miro.medium.com/max/700/1*qQgnyPLDIkUmeZKN2_ZWbQ.png)\n",
    "\n",
    "_(image from [link](https://miro.medium.com))_"
   ]
  },
  {
   "cell_type": "code",
   "execution_count": 60,
   "metadata": {
    "slideshow": {
     "slide_type": "subslide"
    }
   },
   "outputs": [],
   "source": [
    "from sklearn.feature_extraction.text import TfidfVectorizer\n",
    "\n",
    "vectorizer = TfidfVectorizer(max_features=1000, use_idf=True)\n",
    "vectors = vectorizer.fit(train_data.title)\n",
    "\n",
    "tfidf_vectorizer_vectors = vectors.transform(train_data.title)"
   ]
  },
  {
   "cell_type": "code",
   "execution_count": 61,
   "metadata": {
    "slideshow": {
     "slide_type": "subslide"
    }
   },
   "outputs": [
    {
     "data": {
      "text/html": [
       "<div>\n",
       "<style scoped>\n",
       "    .dataframe tbody tr th:only-of-type {\n",
       "        vertical-align: middle;\n",
       "    }\n",
       "\n",
       "    .dataframe tbody tr th {\n",
       "        vertical-align: top;\n",
       "    }\n",
       "\n",
       "    .dataframe thead th {\n",
       "        text-align: right;\n",
       "    }\n",
       "</style>\n",
       "<table border=\"1\" class=\"dataframe\">\n",
       "  <thead>\n",
       "    <tr style=\"text-align: right;\">\n",
       "      <th></th>\n",
       "      <th>tfidf</th>\n",
       "    </tr>\n",
       "  </thead>\n",
       "  <tbody>\n",
       "    <tr>\n",
       "      <th>london</th>\n",
       "      <td>0.780606</td>\n",
       "    </tr>\n",
       "    <tr>\n",
       "      <th>plans</th>\n",
       "      <td>0.625024</td>\n",
       "    </tr>\n",
       "    <tr>\n",
       "      <th>000</th>\n",
       "      <td>0.000000</td>\n",
       "    </tr>\n",
       "    <tr>\n",
       "      <th>prime</th>\n",
       "      <td>0.000000</td>\n",
       "    </tr>\n",
       "    <tr>\n",
       "      <th>possible</th>\n",
       "      <td>0.000000</td>\n",
       "    </tr>\n",
       "    <tr>\n",
       "      <th>...</th>\n",
       "      <td>...</td>\n",
       "    </tr>\n",
       "    <tr>\n",
       "      <th>from</th>\n",
       "      <td>0.000000</td>\n",
       "    </tr>\n",
       "    <tr>\n",
       "      <th>fuel</th>\n",
       "      <td>0.000000</td>\n",
       "    </tr>\n",
       "    <tr>\n",
       "      <th>fund</th>\n",
       "      <td>0.000000</td>\n",
       "    </tr>\n",
       "    <tr>\n",
       "      <th>funds</th>\n",
       "      <td>0.000000</td>\n",
       "    </tr>\n",
       "    <tr>\n",
       "      <th>yukos</th>\n",
       "      <td>0.000000</td>\n",
       "    </tr>\n",
       "  </tbody>\n",
       "</table>\n",
       "<p>1000 rows × 1 columns</p>\n",
       "</div>"
      ],
      "text/plain": [
       "             tfidf\n",
       "london    0.780606\n",
       "plans     0.625024\n",
       "000       0.000000\n",
       "prime     0.000000\n",
       "possible  0.000000\n",
       "...            ...\n",
       "from      0.000000\n",
       "fuel      0.000000\n",
       "fund      0.000000\n",
       "funds     0.000000\n",
       "yukos     0.000000\n",
       "\n",
       "[1000 rows x 1 columns]"
      ]
     },
     "execution_count": 61,
     "metadata": {},
     "output_type": "execute_result"
    }
   ],
   "source": [
    "first_vector_tfidfvectorizer=tfidf_vectorizer_vectors[6] \n",
    " \n",
    "# place tf-idf values in a pandas data frame \n",
    "df = pd.DataFrame(first_vector_tfidfvectorizer.T.todense(), index=vectors.get_feature_names(), columns=[\"tfidf\"]) \n",
    "df = df.sort_values(by=[\"tfidf\"],ascending=False)\n",
    "df"
   ]
  },
  {
   "cell_type": "markdown",
   "metadata": {
    "slideshow": {
     "slide_type": "subslide"
    }
   },
   "source": [
    "Sklearn allows us to build [pipelines](https://scikit-learn.org/stable/modules/generated/sklearn.pipeline.Pipeline.html) with defining each step of the pipeline, like:\n",
    "- Vectorizers\n",
    "- Classifiers\n",
    "- Voting strategies\n",
    "- Optionally merge feature extraction from multiple sources"
   ]
  },
  {
   "cell_type": "markdown",
   "metadata": {
    "slideshow": {
     "slide_type": "slide"
    }
   },
   "source": [
    "## Problems\n",
    "- When representing words with id's we assign them to the words in the order of the encounter. \n",
    "- This means that we may assign different vectors to the words each time we run the algorithm.\n",
    "- Doesn't include any concept of similarity (similarity between words), e.g: `similarity(embedding(cat, dog)) > similarity(embedding(cat, computer))`\n",
    "- The representation is very sparse and could have very high dimension, which would also slow the computations. The size is given by the vocabulary of our corpus, that can be over 100000 dimension. (10000) is too big for our memory"
   ]
  },
  {
   "cell_type": "markdown",
   "metadata": {
    "slideshow": {
     "slide_type": "slide"
    }
   },
   "source": [
    "## Word embeddings\n",
    "\n",
    "- map each word to a small dimensional (around 100-300) continuous vectors.\n",
    "- this means that similar words should have similar vectors.\n",
    "    - what do we mean by word similarity ?\n",
    "    \n",
    "    \n",
    "### Cosine similarity\n",
    "\n",
    "- Now that we have word vectors, we need a way to quantify the similarity between individual words, according to these vectors. One such metric is cosine-similarity. We will be using this to find words that are \"close\" and \"far\" from one another."
   ]
  },
  {
   "cell_type": "markdown",
   "metadata": {
    "slideshow": {
     "slide_type": "subslide"
    }
   },
   "source": [
    "![image.png](https://cmry.github.io/sources/eucos.png)"
   ]
  },
  {
   "cell_type": "markdown",
   "metadata": {
    "slideshow": {
     "slide_type": "subslide"
    }
   },
   "source": [
    "<h2 id=\"Creating-word-embeddings\">Creating word embeddings</h2>\n",
    "<p>\"a word is characterized by the company it keeps\" -- popularized by <em>John Rupert Firth</em></p>\n",
    "<ul>\n",
    "<li>A popular theory is that words are as similar as their context is</li>\n",
    "    if words are usually used in a similar context, they are more similar to each other.\n",
    "<li>Word embeddings are also created with neural networks that predicts the word's context from the word itself</li>\n",
    "</ul>\n",
    "<p>To create word embeddings, a neural network is trained to perform the tasks. But then it is not used actually for the task it was trained it on. The goal is actually to learn the weights of the hidden layer. Then, these weights will be our vectors called \"word embeddings\".</p>\n",
    "<p><strong>Neural Network?</strong></p>\n",
    "<p>Instead of computing the actual angle, we can leave the similarity in terms of <span class=\"MathJax_Preview\" style=\"color: inherit;\"><span id=\"MJXp-Span-73\" class=\"MJXp-math\"><span id=\"MJXp-Span-74\" class=\"MJXp-mi MJXp-italic\">s</span><span id=\"MJXp-Span-75\" class=\"MJXp-mi MJXp-italic\">i</span><span id=\"MJXp-Span-76\" class=\"MJXp-mi MJXp-italic\">m</span><span id=\"MJXp-Span-77\" class=\"MJXp-mi MJXp-italic\">i</span><span id=\"MJXp-Span-78\" class=\"MJXp-mi MJXp-italic\">l</span><span id=\"MJXp-Span-79\" class=\"MJXp-mi MJXp-italic\">a</span><span id=\"MJXp-Span-80\" class=\"MJXp-mi MJXp-italic\">r</span><span id=\"MJXp-Span-81\" class=\"MJXp-mi MJXp-italic\">i</span><span id=\"MJXp-Span-82\" class=\"MJXp-mi MJXp-italic\">t</span><span id=\"MJXp-Span-83\" class=\"MJXp-mi MJXp-italic\">y</span><span id=\"MJXp-Span-84\" class=\"MJXp-mo\" style=\"margin-left: 0.333em; margin-right: 0.333em;\">=</span><span id=\"MJXp-Span-85\" class=\"MJXp-mi MJXp-italic\">c</span><span id=\"MJXp-Span-86\" class=\"MJXp-mi MJXp-italic\">o</span><span id=\"MJXp-Span-87\" class=\"MJXp-mi MJXp-italic\">s</span><span id=\"MJXp-Span-88\" class=\"MJXp-mo\" style=\"margin-left: 0em; margin-right: 0em;\">(</span><span id=\"MJXp-Span-89\" class=\"MJXp-mi\">&Theta;</span><span id=\"MJXp-Span-90\" class=\"MJXp-mo\" style=\"margin-left: 0em; margin-right: 0em;\">)</span></span></span>. Formally the <a href=\"https://en.wikipedia.org/wiki/Cosine_similarity\" target=\"_blank\" rel=\"noopener\">Cosine Similarity</a> <span class=\"MathJax_Preview\" style=\"color: inherit;\"><span id=\"MJXp-Span-91\" class=\"MJXp-math\"><span id=\"MJXp-Span-92\" class=\"MJXp-mi MJXp-italic\">s</span></span></span> between two vectors <span class=\"MathJax_Preview\" style=\"color: inherit;\"><span id=\"MJXp-Span-93\" class=\"MJXp-math\"><span id=\"MJXp-Span-94\" class=\"MJXp-mi MJXp-italic\">p</span></span></span> and <span class=\"MathJax_Preview\" style=\"color: inherit;\"><span id=\"MJXp-Span-95\" class=\"MJXp-math\"><span id=\"MJXp-Span-96\" class=\"MJXp-mi MJXp-italic\">q</span></span></span> is defined as:</p>\n",
    "<p><span class=\"MathJax_Preview\" style=\"color: inherit;\"><span id=\"MJXp-Span-97\" class=\"MJXp-math MJXp-display\"><span id=\"MJXp-Span-98\" class=\"MJXp-mi MJXp-italic\">s</span><span id=\"MJXp-Span-99\" class=\"MJXp-mo\" style=\"margin-left: 0.333em; margin-right: 0.333em;\">=</span><span id=\"MJXp-Span-100\" class=\"MJXp-mfrac\" style=\"vertical-align: 0.25em;\"><span class=\"MJXp-box\"><span id=\"MJXp-Span-101\" class=\"MJXp-mi MJXp-italic\">p</span><span id=\"MJXp-Span-102\" class=\"MJXp-mo\" style=\"margin-left: 0.267em; margin-right: 0.267em;\">&sdot;</span><span id=\"MJXp-Span-103\" class=\"MJXp-mi MJXp-italic\">q</span></span><span class=\"MJXp-box\" style=\"margin-top: -0.9em;\"><span class=\"MJXp-denom\"><span class=\"MJXp-box\"><span id=\"MJXp-Span-104\" class=\"MJXp-mrow\"><span id=\"MJXp-Span-105\" class=\"MJXp-mo\" style=\"margin-left: 0.167em; margin-right: 0.167em;\">|</span></span><span id=\"MJXp-Span-106\" class=\"MJXp-mrow\"><span id=\"MJXp-Span-107\" class=\"MJXp-mo\" style=\"margin-left: 0.167em; margin-right: 0.167em;\">|</span></span><span id=\"MJXp-Span-108\" class=\"MJXp-mi MJXp-italic\">p</span><span id=\"MJXp-Span-109\" class=\"MJXp-mrow\"><span id=\"MJXp-Span-110\" class=\"MJXp-mo\" style=\"margin-left: 0.167em; margin-right: 0.167em;\">|</span></span><span id=\"MJXp-Span-111\" class=\"MJXp-mrow\"><span id=\"MJXp-Span-112\" class=\"MJXp-mo\" style=\"margin-left: 0.167em; margin-right: 0.167em;\">|</span></span><span id=\"MJXp-Span-113\" class=\"MJXp-mrow\"><span id=\"MJXp-Span-114\" class=\"MJXp-mo\" style=\"margin-left: 0.167em; margin-right: 0.167em;\">|</span></span><span id=\"MJXp-Span-115\" class=\"MJXp-mrow\"><span id=\"MJXp-Span-116\" class=\"MJXp-mo\" style=\"margin-left: 0.167em; margin-right: 0.167em;\">|</span></span><span id=\"MJXp-Span-117\" class=\"MJXp-mi MJXp-italic\">q</span><span id=\"MJXp-Span-118\" class=\"MJXp-mrow\"><span id=\"MJXp-Span-119\" class=\"MJXp-mo\" style=\"margin-left: 0.167em; margin-right: 0.167em;\">|</span></span><span id=\"MJXp-Span-120\" class=\"MJXp-mrow\"><span id=\"MJXp-Span-121\" class=\"MJXp-mo\" style=\"margin-left: 0.167em; margin-right: 0.167em;\">|</span></span></span></span></span></span><span id=\"MJXp-Span-122\" class=\"MJXp-mo\" style=\"margin-left: 0em; margin-right: 0.222em;\">,</span><span id=\"MJXp-Span-123\" class=\"MJXp-mrow\"><span id=\"MJXp-Span-124\" class=\"MJXp-mtext\">&nbsp;where&nbsp;</span></span><span id=\"MJXp-Span-125\" class=\"MJXp-mi MJXp-italic\">s</span><span id=\"MJXp-Span-126\" class=\"MJXp-mo\" style=\"margin-left: 0.333em; margin-right: 0.333em;\">&isin;</span><span id=\"MJXp-Span-127\" class=\"MJXp-mo\" style=\"margin-left: 0em; margin-right: 0em;\">[</span><span id=\"MJXp-Span-128\" class=\"MJXp-mo\" style=\"margin-left: 0.267em; margin-right: 0.267em;\">&minus;</span><span id=\"MJXp-Span-129\" class=\"MJXp-mn\">1</span><span id=\"MJXp-Span-130\" class=\"MJXp-mo\" style=\"margin-left: 0em; margin-right: 0.222em;\">,</span><span id=\"MJXp-Span-131\" class=\"MJXp-mn\">1</span><span id=\"MJXp-Span-132\" class=\"MJXp-mo\" style=\"margin-left: 0em; margin-right: 0em;\">]</span></span></span></p>\n",
    "if they are close to 1, they are more similar\n",
    "if they are close to 0, they are much less similar."
   ]
  },
  {
   "cell_type": "markdown",
   "metadata": {
    "slideshow": {
     "slide_type": "subslide"
    }
   },
   "source": [
    "## Creating word embeddings 2\n",
    "\n",
    "Word embeddings are learned with neural networks. The target can be:\n",
    "\n",
    "- Tries to predict the word given the context - The Continous Bag Of Words model (CBOW)\n",
    "- Tries to predict the context given a words - The SkipGram model\n",
    "\n",
    "The training examples are generated from big text corpora. For example from the sentence “The quick brown fox jumps over the lazy dog.” we can generate the following inputs:"
   ]
  },
  {
   "cell_type": "markdown",
   "metadata": {
    "slideshow": {
     "slide_type": "subslide"
    }
   },
   "source": [
    "![training examples](http://mccormickml.com/assets/word2vec/training_data.png)"
   ]
  },
  {
   "cell_type": "markdown",
   "metadata": {
    "slideshow": {
     "slide_type": "subslide"
    }
   },
   "source": [
    "To do this, we first build a vocabulary of words from our training documents–let’s say we have a vocabulary of 10,000 unique words. The vocabulary of big corporas can be much more then 10,000 unique words, to handle them we usually substitute rare words with a special token (this is usually the _UNK_ token).\n",
    "\n",
    "First we build the vocabulary of our documents, then for representing words, we will use one-hot vectors. The output of the network will be a single vector that contains the probabilities for the \"nearby\" words."
   ]
  },
  {
   "cell_type": "markdown",
   "metadata": {
    "slideshow": {
     "slide_type": "subslide"
    }
   },
   "source": [
    "### Famous static word embeddings for English\n",
    "\n",
    "- [Word2vec](https://arxiv.org/pdf/1301.3781.pdf)\n",
    "- [GLOVE](https://nlp.stanford.edu/projects/glove/)\n",
    "\n",
    "### Contextual embeddings?\n",
    "\n",
    "- [Elmo](https://allennlp.org/elmo)\n",
    "- [BERT](https://arxiv.org/abs/1810.04805)\n",
    "- [Flair](https://www.aclweb.org/anthology/N19-4010/)\n",
    "\n",
    "For static embeddings, we will use a GLOVE embedding of 100 dimensional vectors trained on 6B tokens.\n",
    "\n",
    "[Download GLOVE](http://sandbox.hlt.bme.hu/~adaamko/glove.6B.100d.txt)"
   ]
  },
  {
   "cell_type": "markdown",
   "metadata": {
    "slideshow": {
     "slide_type": "slide"
    }
   },
   "source": [
    "# Using word embeddings"
   ]
  },
  {
   "cell_type": "markdown",
   "metadata": {
    "slideshow": {
     "slide_type": "fragment"
    }
   },
   "source": [
    "As we discussed, more recently prediction-based word vectors have demonstrated better performance, such as word2vec and GloVe (which also utilizes the benefit of counts). Here, we shall explore the embeddings produced by GloVe. If you want to know more about embeddings, try reading [GloVe's original paper](https://nlp.stanford.edu/pubs/glove.pdf)."
   ]
  },
  {
   "cell_type": "code",
   "execution_count": 62,
   "metadata": {
    "slideshow": {
     "slide_type": "subslide"
    }
   },
   "outputs": [
    {
     "ename": "FileNotFoundError",
     "evalue": "[Errno 2] No such file or directory: 'glove.6B.100d.txt'",
     "output_type": "error",
     "traceback": [
      "\u001b[0;31m---------------------------------------------------------------------------\u001b[0m",
      "\u001b[0;31mFileNotFoundError\u001b[0m                         Traceback (most recent call last)",
      "\u001b[0;32m<ipython-input-62-5da656db0c01>\u001b[0m in \u001b[0;36m<module>\u001b[0;34m\u001b[0m\n\u001b[1;32m      1\u001b[0m \u001b[0membedding_file\u001b[0m \u001b[0;34m=\u001b[0m \u001b[0;34m\"glove.6B.100d.txt\"\u001b[0m\u001b[0;34m\u001b[0m\u001b[0;34m\u001b[0m\u001b[0m\n\u001b[1;32m      2\u001b[0m \u001b[0;34m\u001b[0m\u001b[0m\n\u001b[0;32m----> 3\u001b[0;31m \u001b[0membedding\u001b[0m \u001b[0;34m=\u001b[0m \u001b[0mgensim\u001b[0m\u001b[0;34m.\u001b[0m\u001b[0mmodels\u001b[0m\u001b[0;34m.\u001b[0m\u001b[0mKeyedVectors\u001b[0m\u001b[0;34m.\u001b[0m\u001b[0mload_word2vec_format\u001b[0m\u001b[0;34m(\u001b[0m\u001b[0membedding_file\u001b[0m\u001b[0;34m,\u001b[0m \u001b[0mbinary\u001b[0m\u001b[0;34m=\u001b[0m\u001b[0;32mFalse\u001b[0m\u001b[0;34m)\u001b[0m \u001b[0;31m# read in the weights of wrods in a dictionary for us to access; similar words are mapped close to each other.\u001b[0m\u001b[0;34m\u001b[0m\u001b[0;34m\u001b[0m\u001b[0m\n\u001b[0m",
      "\u001b[0;32m~/anaconda3/lib/python3.8/site-packages/gensim/models/keyedvectors.py\u001b[0m in \u001b[0;36mload_word2vec_format\u001b[0;34m(cls, fname, fvocab, binary, encoding, unicode_errors, limit, datatype)\u001b[0m\n\u001b[1;32m   1545\u001b[0m         \"\"\"\n\u001b[1;32m   1546\u001b[0m         \u001b[0;31m# from gensim.models.word2vec import load_word2vec_format\u001b[0m\u001b[0;34m\u001b[0m\u001b[0;34m\u001b[0m\u001b[0;34m\u001b[0m\u001b[0m\n\u001b[0;32m-> 1547\u001b[0;31m         return _load_word2vec_format(\n\u001b[0m\u001b[1;32m   1548\u001b[0m             \u001b[0mcls\u001b[0m\u001b[0;34m,\u001b[0m \u001b[0mfname\u001b[0m\u001b[0;34m,\u001b[0m \u001b[0mfvocab\u001b[0m\u001b[0;34m=\u001b[0m\u001b[0mfvocab\u001b[0m\u001b[0;34m,\u001b[0m \u001b[0mbinary\u001b[0m\u001b[0;34m=\u001b[0m\u001b[0mbinary\u001b[0m\u001b[0;34m,\u001b[0m \u001b[0mencoding\u001b[0m\u001b[0;34m=\u001b[0m\u001b[0mencoding\u001b[0m\u001b[0;34m,\u001b[0m \u001b[0municode_errors\u001b[0m\u001b[0;34m=\u001b[0m\u001b[0municode_errors\u001b[0m\u001b[0;34m,\u001b[0m\u001b[0;34m\u001b[0m\u001b[0;34m\u001b[0m\u001b[0m\n\u001b[1;32m   1549\u001b[0m             limit=limit, datatype=datatype)\n",
      "\u001b[0;32m~/anaconda3/lib/python3.8/site-packages/gensim/models/utils_any2vec.py\u001b[0m in \u001b[0;36m_load_word2vec_format\u001b[0;34m(cls, fname, fvocab, binary, encoding, unicode_errors, limit, datatype, binary_chunk_size)\u001b[0m\n\u001b[1;32m    273\u001b[0m \u001b[0;34m\u001b[0m\u001b[0m\n\u001b[1;32m    274\u001b[0m     \u001b[0mlogger\u001b[0m\u001b[0;34m.\u001b[0m\u001b[0minfo\u001b[0m\u001b[0;34m(\u001b[0m\u001b[0;34m\"loading projection weights from %s\"\u001b[0m\u001b[0;34m,\u001b[0m \u001b[0mfname\u001b[0m\u001b[0;34m)\u001b[0m\u001b[0;34m\u001b[0m\u001b[0;34m\u001b[0m\u001b[0m\n\u001b[0;32m--> 275\u001b[0;31m     \u001b[0;32mwith\u001b[0m \u001b[0mutils\u001b[0m\u001b[0;34m.\u001b[0m\u001b[0mopen\u001b[0m\u001b[0;34m(\u001b[0m\u001b[0mfname\u001b[0m\u001b[0;34m,\u001b[0m \u001b[0;34m'rb'\u001b[0m\u001b[0;34m)\u001b[0m \u001b[0;32mas\u001b[0m \u001b[0mfin\u001b[0m\u001b[0;34m:\u001b[0m\u001b[0;34m\u001b[0m\u001b[0;34m\u001b[0m\u001b[0m\n\u001b[0m\u001b[1;32m    276\u001b[0m         \u001b[0mheader\u001b[0m \u001b[0;34m=\u001b[0m \u001b[0mutils\u001b[0m\u001b[0;34m.\u001b[0m\u001b[0mto_unicode\u001b[0m\u001b[0;34m(\u001b[0m\u001b[0mfin\u001b[0m\u001b[0;34m.\u001b[0m\u001b[0mreadline\u001b[0m\u001b[0;34m(\u001b[0m\u001b[0;34m)\u001b[0m\u001b[0;34m,\u001b[0m \u001b[0mencoding\u001b[0m\u001b[0;34m=\u001b[0m\u001b[0mencoding\u001b[0m\u001b[0;34m)\u001b[0m\u001b[0;34m\u001b[0m\u001b[0;34m\u001b[0m\u001b[0m\n\u001b[1;32m    277\u001b[0m         \u001b[0mvocab_size\u001b[0m\u001b[0;34m,\u001b[0m \u001b[0mvector_size\u001b[0m \u001b[0;34m=\u001b[0m \u001b[0;34m(\u001b[0m\u001b[0mint\u001b[0m\u001b[0;34m(\u001b[0m\u001b[0mx\u001b[0m\u001b[0;34m)\u001b[0m \u001b[0;32mfor\u001b[0m \u001b[0mx\u001b[0m \u001b[0;32min\u001b[0m \u001b[0mheader\u001b[0m\u001b[0;34m.\u001b[0m\u001b[0msplit\u001b[0m\u001b[0;34m(\u001b[0m\u001b[0;34m)\u001b[0m\u001b[0;34m)\u001b[0m  \u001b[0;31m# throws for invalid file format\u001b[0m\u001b[0;34m\u001b[0m\u001b[0;34m\u001b[0m\u001b[0m\n",
      "\u001b[0;32m~/anaconda3/lib/python3.8/site-packages/smart_open/smart_open_lib.py\u001b[0m in \u001b[0;36mopen\u001b[0;34m(uri, mode, buffering, encoding, errors, newline, closefd, opener, ignore_ext, transport_params)\u001b[0m\n\u001b[1;32m    178\u001b[0m         \u001b[0mtransport_params\u001b[0m \u001b[0;34m=\u001b[0m \u001b[0;34m{\u001b[0m\u001b[0;34m}\u001b[0m\u001b[0;34m\u001b[0m\u001b[0;34m\u001b[0m\u001b[0m\n\u001b[1;32m    179\u001b[0m \u001b[0;34m\u001b[0m\u001b[0m\n\u001b[0;32m--> 180\u001b[0;31m     fobj = _shortcut_open(\n\u001b[0m\u001b[1;32m    181\u001b[0m         \u001b[0muri\u001b[0m\u001b[0;34m,\u001b[0m\u001b[0;34m\u001b[0m\u001b[0;34m\u001b[0m\u001b[0m\n\u001b[1;32m    182\u001b[0m         \u001b[0mmode\u001b[0m\u001b[0;34m,\u001b[0m\u001b[0;34m\u001b[0m\u001b[0;34m\u001b[0m\u001b[0m\n",
      "\u001b[0;32m~/anaconda3/lib/python3.8/site-packages/smart_open/smart_open_lib.py\u001b[0m in \u001b[0;36m_shortcut_open\u001b[0;34m(uri, mode, ignore_ext, buffering, encoding, errors, newline)\u001b[0m\n\u001b[1;32m    285\u001b[0m         \u001b[0mopen_kwargs\u001b[0m\u001b[0;34m[\u001b[0m\u001b[0;34m'errors'\u001b[0m\u001b[0;34m]\u001b[0m \u001b[0;34m=\u001b[0m \u001b[0merrors\u001b[0m\u001b[0;34m\u001b[0m\u001b[0;34m\u001b[0m\u001b[0m\n\u001b[1;32m    286\u001b[0m \u001b[0;34m\u001b[0m\u001b[0m\n\u001b[0;32m--> 287\u001b[0;31m     \u001b[0;32mreturn\u001b[0m \u001b[0m_builtin_open\u001b[0m\u001b[0;34m(\u001b[0m\u001b[0mlocal_path\u001b[0m\u001b[0;34m,\u001b[0m \u001b[0mmode\u001b[0m\u001b[0;34m,\u001b[0m \u001b[0mbuffering\u001b[0m\u001b[0;34m=\u001b[0m\u001b[0mbuffering\u001b[0m\u001b[0;34m,\u001b[0m \u001b[0;34m**\u001b[0m\u001b[0mopen_kwargs\u001b[0m\u001b[0;34m)\u001b[0m\u001b[0;34m\u001b[0m\u001b[0;34m\u001b[0m\u001b[0m\n\u001b[0m\u001b[1;32m    288\u001b[0m \u001b[0;34m\u001b[0m\u001b[0m\n\u001b[1;32m    289\u001b[0m \u001b[0;34m\u001b[0m\u001b[0m\n",
      "\u001b[0;31mFileNotFoundError\u001b[0m: [Errno 2] No such file or directory: 'glove.6B.100d.txt'"
     ]
    }
   ],
   "source": [
    "embedding_file = \"glove.6B.100d.txt\"\n",
    "\n",
    "embedding = gensim.models.KeyedVectors.load_word2vec_format(embedding_file, binary=False) # read in the weights of wrods in a dictionary for us to access; similar words are mapped close to each other."
   ]
  },
  {
   "cell_type": "code",
   "execution_count": null,
   "metadata": {
    "slideshow": {
     "slide_type": "subslide"
    }
   },
   "outputs": [],
   "source": [
    "dog_vector = embedding[\"dog\"]\n",
    "dog_vector.shape"
   ]
  },
  {
   "cell_type": "code",
   "execution_count": null,
   "metadata": {
    "slideshow": {
     "slide_type": "subslide"
    }
   },
   "outputs": [],
   "source": [
    "embedding.most_similar(\"president\")"
   ]
  },
  {
   "cell_type": "code",
   "execution_count": null,
   "metadata": {
    "slideshow": {
     "slide_type": "subslide"
    }
   },
   "outputs": [],
   "source": [
    "embedding.most_similar(positive=['woman', 'king'], negative=['man'])"
   ]
  },
  {
   "cell_type": "code",
   "execution_count": null,
   "metadata": {
    "slideshow": {
     "slide_type": "subslide"
    }
   },
   "outputs": [],
   "source": [
    "embedding.similarity(\"woman\", \"computer\")"
   ]
  },
  {
   "cell_type": "code",
   "execution_count": null,
   "metadata": {
    "slideshow": {
     "slide_type": "subslide"
    }
   },
   "outputs": [],
   "source": [
    "from sklearn.manifold import TSNE"
   ]
  },
  {
   "cell_type": "code",
   "execution_count": null,
   "metadata": {
    "slideshow": {
     "slide_type": "subslide"
    }
   },
   "outputs": [],
   "source": [
    "def tsne_plot(model, size=500):\n",
    "    \"Creates and TSNE model and plots it\"\n",
    "    labels = []\n",
    "    tokens = []\n",
    "    \n",
    "    for i, word in enumerate(model.wv.vocab):\n",
    "        if len(tokens) > size:\n",
    "            break\n",
    "        tokens.append(model[word])\n",
    "        labels.append(word)\n",
    "    \n",
    "    tsne_model = TSNE(perplexity=40, n_components=2, init='pca', n_iter=2500, random_state=23)\n",
    "    new_values = tsne_model.fit_transform(tokens)\n",
    "\n",
    "    x = []\n",
    "    y = []\n",
    "    for value in new_values:\n",
    "        x.append(value[0])\n",
    "        y.append(value[1])\n",
    "        \n",
    "    for i in range(len(x)):\n",
    "        plt.scatter(x[i],y[i])\n",
    "        plt.annotate(labels[i],\n",
    "                     xy=(x[i], y[i]),\n",
    "                     xytext=(5, 2),\n",
    "                     textcoords='offset points',\n",
    "                     ha='right',\n",
    "                     va='bottom')\n",
    "    plt.show()"
   ]
  },
  {
   "cell_type": "code",
   "execution_count": null,
   "metadata": {
    "slideshow": {
     "slide_type": "subslide"
    }
   },
   "outputs": [],
   "source": [
    "tsne_plot(embedding, 100)"
   ]
  },
  {
   "cell_type": "markdown",
   "metadata": {
    "slideshow": {
     "slide_type": "subslide"
    }
   },
   "source": [
    "## Analogies"
   ]
  },
  {
   "cell_type": "code",
   "execution_count": null,
   "metadata": {
    "slideshow": {
     "slide_type": "subslide"
    }
   },
   "outputs": [],
   "source": [
    "def analogy(word1, word2, word3, n=5):\n",
    "    \n",
    "    #get vectors for each word\n",
    "    word1_vector = embedding[word1]\n",
    "    word2_vector = embedding[word2]\n",
    "    word3_vector = embedding[word3]\n",
    "    \n",
    "    #calculate analogy vector\n",
    "    analogy_vector = embedding.most_similar(positive=[word3, word2], negative=[word1])\n",
    "    \n",
    "    print(word1 + \" is to \" + word2 + \" as \" + word3 + \" is to...\")\n",
    "    \n",
    "    return analogy_vector"
   ]
  },
  {
   "cell_type": "code",
   "execution_count": null,
   "metadata": {
    "slideshow": {
     "slide_type": "subslide"
    }
   },
   "outputs": [],
   "source": [
    "analogy('man', 'king', 'woman')"
   ]
  },
  {
   "cell_type": "markdown",
   "metadata": {
    "slideshow": {
     "slide_type": "subslide"
    }
   },
   "source": [
    "## Spacy also has pretrained embeddings!"
   ]
  },
  {
   "cell_type": "code",
   "execution_count": null,
   "metadata": {
    "slideshow": {
     "slide_type": "fragment"
    }
   },
   "outputs": [],
   "source": [
    "from sklearn.metrics.pairwise import cosine_similarity\n",
    "\n",
    "doc = nlp(\"man woman\")\n",
    "cosine_similarity(doc[0].vector.reshape(1, -1), doc[1].vector.reshape(1, -1))"
   ]
  },
  {
   "cell_type": "markdown",
   "metadata": {
    "slideshow": {
     "slide_type": "fragment"
    }
   },
   "source": [
    "__Or with using the built in similarity function:__"
   ]
  },
  {
   "cell_type": "code",
   "execution_count": null,
   "metadata": {
    "slideshow": {
     "slide_type": "fragment"
    }
   },
   "outputs": [],
   "source": [
    "nlp(\"My name is adam\").similarity(nlp(\"My name is andrea\"))"
   ]
  },
  {
   "cell_type": "markdown",
   "metadata": {
    "slideshow": {
     "slide_type": "subslide"
    }
   },
   "source": [
    "## Contextual embeddings\n",
    "\n",
    "In GloVe and Word2vec representations, words have a static representation. But words can have different meaning in different contexts, e.g. the word \"stick\":\n",
    "\n",
    "1. Find some dry sticks and we'll make a campfire.\n",
    "2. Let's stick with glove embeddings."
   ]
  },
  {
   "cell_type": "markdown",
   "metadata": {
    "slideshow": {
     "slide_type": "subslide"
    }
   },
   "source": [
    "![elmo](http://jalammar.github.io/images/elmo-embedding-robin-williams.png)\n",
    "\n",
    "_(Peters et. al., 2018 in the ELMo paper)_"
   ]
  },
  {
   "cell_type": "code",
   "execution_count": null,
   "metadata": {
    "slideshow": {
     "slide_type": "subslide"
    }
   },
   "outputs": [],
   "source": [
    "# The sentence objects holds a sentence that we may want to embed or tag\n",
    "from flair.data import Sentence\n",
    "from flair.embeddings import FlairEmbeddings\n",
    "\n",
    "# init embedding\n",
    "flair_embedding_forward = FlairEmbeddings('news-forward')\n",
    "\n",
    "# create a sentence\n",
    "sentence1 = Sentence(\"Find some dry sticks and we'll make a campfire.\")\n",
    "sentence2 = Sentence(\"Let's stick with glove embeddings.\")\n",
    "\n",
    "# embed words in sentence\n",
    "flair_embedding_forward.embed(sentence2)\n",
    "for token in sentence2:\n",
    "    print(token)\n",
    "    print(token.embedding)"
   ]
  },
  {
   "cell_type": "markdown",
   "metadata": {
    "slideshow": {
     "slide_type": "subslide"
    }
   },
   "source": [
    "In Flair, a pretrained NER tagger is also available for use"
   ]
  },
  {
   "cell_type": "code",
   "execution_count": null,
   "metadata": {},
   "outputs": [],
   "source": []
  }
 ],
 "metadata": {
  "celltoolbar": "Slideshow",
  "kernelspec": {
   "display_name": "Python 3",
   "language": "python",
   "name": "python3"
  },
  "language_info": {
   "codemirror_mode": {
    "name": "ipython",
    "version": 3
   },
   "file_extension": ".py",
   "mimetype": "text/x-python",
   "name": "python",
   "nbconvert_exporter": "python",
   "pygments_lexer": "ipython3",
   "version": "3.8.5"
  }
 },
 "nbformat": 4,
 "nbformat_minor": 4
}
